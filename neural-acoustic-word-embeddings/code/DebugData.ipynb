{
 "cells": [
  {
   "cell_type": "code",
   "execution_count": 4,
   "metadata": {},
   "outputs": [],
   "source": [
    "import re\n",
    "import numpy as np\n",
    "from os import path, makedirs\n",
    "from collections import Counter\n",
    "\n",
    "class Config(object):\n",
    "    \"\"\"Set up model for debugging.\"\"\"\n",
    "\n",
    "    trainfile = \"../kaldi/data/len6-50frames-count2/train/mfcc.scp\"\n",
    "    devfile = \"../kaldi/data/len6-50frames-count2/dev/mfcc.scp\"\n",
    "    batch_size = 32\n",
    "    current_epoch = 0\n",
    "    num_epochs = 1\n",
    "    feature_dim = 39\n",
    "    num_layers = 3\n",
    "    hidden_size = 256\n",
    "    bidirectional = True\n",
    "    keep_prob = 0.7\n",
    "    margin = 0.5\n",
    "    max_same = 1\n",
    "    max_diff = 5\n",
    "    lr = 0.001\n",
    "    mom = 0.9\n",
    "    logdir = \"../logs/hystest2\"\n",
    "    ckptdir = \"../ckpts/hystest2\"\n",
    "    log_interval = 10\n",
    "    ckpt = None\n",
    "    debugmode = True\n",
    "\n",
    "    makedirs(logdir, exist_ok=True)\n",
    "    makedirs(ckptdir, exist_ok=True)\n",
    "\n",
    "\n",
    "class Dataset(object):\n",
    "    \"\"\"Creat data class.\"\"\"\n",
    "\n",
    "    def __init__(self,dataset, partition, config):\n",
    "        \"\"\"Initialize dataset.\"\"\"\n",
    "        self.is_train = (partition == \"train\")\n",
    "\n",
    "        self.feature_dim = config.feature_dim\n",
    "\n",
    "        labels, data = dataset[partition]['labels'], dataset[partition]['data']\n",
    "        self.labels = np.array(labels)\n",
    "\n",
    "        words = [re.split(\"_\", x)[0] for x in labels]\n",
    "        uwords = np.unique(words)\n",
    "\n",
    "        word2id = {v: k for k, v in enumerate(uwords)}\n",
    "        ids = [word2id[w] for w in words]\n",
    "\n",
    "        feature_mean, n = 0.0, 0\n",
    "        for x in data:\n",
    "            feature_mean += np.sum(x)\n",
    "            n += np.prod(x.shape)\n",
    "        self.feature_mean = feature_mean / n\n",
    "\n",
    "        self.data = np.array([x - self.feature_mean for x in data])\n",
    "        self.ids = np.array(ids, dtype=np.int32)\n",
    "        self.id_counts = Counter(ids)\n",
    "\n",
    "        self.num_classes = len(self.id_counts)\n",
    "        self.num_examples = len(self.ids)\n",
    "\n",
    "    def shuffle(self):\n",
    "        \"\"\"Shuffle data.\"\"\"\n",
    "\n",
    "        shuffled_indices = np.random.permutation(self.num_examples)\n",
    "        self.data = self.data[shuffled_indices]\n",
    "        self.ids = self.ids[shuffled_indices]\n",
    "\n",
    "\n",
    "    def pad_features(self, indices):\n",
    "        \"\"\"Pad acoustic features to max length sequence.\"\"\"\n",
    "        b = len(indices)\n",
    "        lens = np.array([len(xx) for xx in self.data[indices]], dtype=np.int32)\n",
    "        padded = np.zeros((b, max(lens), self.feature_dim))\n",
    "        for i, (x, l) in enumerate(zip(self.data[indices], lens)):\n",
    "            padded[i, :l] = x\n",
    "\n",
    "        return padded, lens, self.ids[indices]\n",
    "\n",
    "\n",
    "    def batch(self, batch_size, max_same=1, max_diff=1):\n",
    "        \"\"\"Batch data.\"\"\"\n",
    "\n",
    "        self.shuffle()\n",
    "\n",
    "        same = []\n",
    "        for index, word_id in enumerate(self.ids):  # collect same samples\n",
    "            indices = np.where(self.ids == word_id)[0]\n",
    "            same.append(np.random.permutation(indices[indices != index])[:max_same])\n",
    "        same = np.array(same)\n",
    "\n",
    "        diff_ids = np.random.randint(0, self.num_classes - 1, (self.num_examples, max_diff))\n",
    "        diff_ids[diff_ids >= np.tile(self.ids.reshape(-1, 1), [1, max_diff])] += 1\n",
    "\n",
    "        diff = np.full_like(diff_ids, 0, dtype=np.int32)\n",
    "        for word_id, count in self.id_counts.items():  # collect diff samples\n",
    "            indices = np.where(diff_ids == word_id)\n",
    "            diff[indices] = np.where(self.ids == word_id)[0][np.random.randint(0, count, len(indices[0]))]\n",
    "\n",
    "        get_batch_indices = lambda start: range(start, min(start + batch_size, self.num_examples))\n",
    "\n",
    "        for indices in map(get_batch_indices, range(0, self.num_examples, batch_size)):\n",
    "\n",
    "            if self.is_train:\n",
    "                b = len(indices)\n",
    "\n",
    "                same_partition = [np.arange(b)]  # same segment ids for anchors\n",
    "                same_partition += [(b + i) * np.ones(len(x)) for i, x in enumerate(same[indices])]  # same segment ids for same examples\n",
    "                same_partition += [(2 * b) + np.arange(max_diff * b)]  # same segment ids for diff examples\n",
    "                same_partition = np.concatenate(same_partition)\n",
    "\n",
    "                diff_partition = np.concatenate([i * np.ones(max_diff) for i in range(b)])  # diff segment ids for diff examples\n",
    "\n",
    "                indices = np.concatenate((indices, np.hstack(same[indices]), diff[indices].flatten()))\n",
    "\n",
    "                data, lens, _ = self.pad_features(indices)\n",
    "                yield data, lens, same_partition, diff_partition\n",
    "\n",
    "            else:\n",
    "                yield self.pad_features(indices)\n",
    "\n",
    "    def pad_features2(self, indices):\n",
    "        \"\"\"Pad acoustic features to max length sequence.\"\"\"\n",
    "        b = len(indices)\n",
    "        lens = np.array([len(xx) for xx in self.data[indices]], dtype=np.int32)\n",
    "        padded = np.zeros((b, max(lens), self.feature_dim))\n",
    "        for i, (x, l) in enumerate(zip(self.data[indices], lens)):\n",
    "            padded[i, :l] = x\n",
    "\n",
    "        return padded, lens, self.ids[indices], self.labels[indices]\n",
    "\n",
    "    def batch_for_evaluation(self, batch_size):\n",
    "        \"\"\"Batch data.\"\"\"\n",
    "\n",
    "        get_batch_indices = lambda start: range(start, min(start + batch_size, self.num_examples))\n",
    "\n",
    "        for indices in map(get_batch_indices, range(0, self.num_examples, batch_size)):\n",
    "            yield self.pad_features2(indices)"
   ]
  },
  {
   "cell_type": "code",
   "execution_count": 6,
   "metadata": {},
   "outputs": [],
   "source": [
    "full_dataset = np.load('swbd_rest.npy').item()\n",
    "config = Config()\n",
    "train_data = Dataset(full_dataset, partition=\"train\", config=config)\n",
    "dev_data = Dataset(full_dataset, partition=\"dev\", config=config)"
   ]
  },
  {
   "cell_type": "code",
   "execution_count": 8,
   "metadata": {},
   "outputs": [],
   "source": [
    "full_dataset2 = np.load('swbd.npy').item()\n",
    "config = Config()\n",
    "train_data2 = Dataset(full_dataset2, partition=\"train\", config=config)\n",
    "dev_data2 = Dataset(full_dataset2, partition=\"dev\", config=config)"
   ]
  },
  {
   "cell_type": "code",
   "execution_count": 7,
   "metadata": {},
   "outputs": [
    {
     "data": {
      "text/plain": [
       "array(['abandoned_sw02459-B_032843-032904',\n",
       "       'abandoned_sw02459-B_033098-033148',\n",
       "       'ability_sw02314-B_035114-035166', ...,\n",
       "       'concerning_sw03620-A_024773-024838',\n",
       "       'concert_sw02020-A_031375-031435',\n",
       "       'concert_sw02656-B_024745-024804'], dtype='<U42')"
      ]
     },
     "execution_count": 7,
     "metadata": {},
     "output_type": "execute_result"
    }
   ],
   "source": [
    "train_data.labels"
   ]
  },
  {
   "cell_type": "code",
   "execution_count": 30,
   "metadata": {},
   "outputs": [],
   "source": [
    "words = [re.split(\"_\", x)[0] for x in train_data.labels]\n",
    "uwords = np.unique(words)"
   ]
  },
  {
   "cell_type": "code",
   "execution_count": 31,
   "metadata": {},
   "outputs": [
    {
     "name": "stdout",
     "output_type": "stream",
     "text": [
      "['7-eleven' 'abandoned' 'aberdeen' ... \"you're\" 'younger' 'yourself']\n"
     ]
    }
   ],
   "source": [
    "print(uwords)"
   ]
  },
  {
   "cell_type": "code",
   "execution_count": 32,
   "metadata": {},
   "outputs": [
    {
     "name": "stdout",
     "output_type": "stream",
     "text": [
      "['abandoned' 'ability' 'absolute' ... \"you're\" 'younger' 'yourself']\n"
     ]
    }
   ],
   "source": [
    "words = [re.split(\"_\", x)[0] for x in train_data2.labels]\n",
    "uwords = np.unique(words)\n",
    "print(uwords)"
   ]
  },
  {
   "cell_type": "code",
   "execution_count": 10,
   "metadata": {},
   "outputs": [
    {
     "data": {
      "text/plain": [
       "array(['abandoned_sw02459-B_032843-032904',\n",
       "       'abandoned_sw02459-B_033098-033148',\n",
       "       'ability_sw02314-B_035114-035166', ...,\n",
       "       'yourself_sw04371-A_022966-023027',\n",
       "       'yourself_sw04376-A_021817-021874',\n",
       "       'yourself_sw04911-B_005572-005624'], dtype='<U42')"
      ]
     },
     "execution_count": 10,
     "metadata": {},
     "output_type": "execute_result"
    }
   ],
   "source": [
    "train_data2.labels"
   ]
  },
  {
   "cell_type": "code",
   "execution_count": 12,
   "metadata": {},
   "outputs": [
    {
     "data": {
      "text/plain": [
       "39"
      ]
     },
     "execution_count": 12,
     "metadata": {},
     "output_type": "execute_result"
    }
   ],
   "source": [
    "train_data2.feature_dim"
   ]
  },
  {
   "cell_type": "code",
   "execution_count": 17,
   "metadata": {},
   "outputs": [
    {
     "data": {
      "text/plain": [
       "array([[ 0.94147736,  0.5845694 , -0.9574372 , ...,  0.03074487,\n",
       "        -0.01902566, -0.02155841],\n",
       "       [ 1.1195636 ,  0.65759546, -1.3011527 , ..., -0.04385631,\n",
       "        -0.18893848,  0.05795404],\n",
       "       [ 1.0602016 ,  0.5845694 , -1.523557  , ..., -0.05877131,\n",
       "        -0.26356038,  0.04199879],\n",
       "       ...,\n",
       "       [ 0.04746871,  2.0204134 ,  0.24192266, ...,  0.11575785,\n",
       "         0.02330487, -0.08532371],\n",
       "       [-0.05688924,  1.8847027 ,  0.7680174 , ...,  0.10428689,\n",
       "         0.08478573, -0.00295285],\n",
       "       [ 0.19530897,  0.45068842,  0.4666956 , ...,  0.00918745,\n",
       "         0.08473071,  0.12002893]], dtype=float32)"
      ]
     },
     "execution_count": 17,
     "metadata": {},
     "output_type": "execute_result"
    }
   ],
   "source": [
    "train_data.data[0]"
   ]
  },
  {
   "cell_type": "code",
   "execution_count": 19,
   "metadata": {},
   "outputs": [
    {
     "data": {
      "text/plain": [
       "array([[ 0.94207066,  0.5851627 , -0.9568439 , ...,  0.03133819,\n",
       "        -0.01843234, -0.02096509],\n",
       "       [ 1.120157  ,  0.65818876, -1.3005593 , ..., -0.04326299,\n",
       "        -0.18834515,  0.05854736],\n",
       "       [ 1.0607951 ,  0.5851627 , -1.5229635 , ..., -0.05817799,\n",
       "        -0.26296708,  0.04259211],\n",
       "       ...,\n",
       "       [ 0.04806203,  2.0210068 ,  0.242516  , ...,  0.11635117,\n",
       "         0.02389819, -0.08473039],\n",
       "       [-0.05629592,  1.8852961 ,  0.7686107 , ...,  0.10488021,\n",
       "         0.08537905, -0.00235953],\n",
       "       [ 0.1959023 ,  0.45128173,  0.4672889 , ...,  0.00978077,\n",
       "         0.08532403,  0.12062225]], dtype=float32)"
      ]
     },
     "execution_count": 19,
     "metadata": {},
     "output_type": "execute_result"
    }
   ],
   "source": [
    "train_data2.data[0]"
   ]
  },
  {
   "cell_type": "code",
   "execution_count": 23,
   "metadata": {},
   "outputs": [
    {
     "data": {
      "text/plain": [
       "9971"
      ]
     },
     "execution_count": 23,
     "metadata": {},
     "output_type": "execute_result"
    }
   ],
   "source": [
    "train_data2.num_examples"
   ]
  },
  {
   "cell_type": "code",
   "execution_count": 27,
   "metadata": {},
   "outputs": [
    {
     "data": {
      "text/plain": [
       "(10653,)"
      ]
     },
     "execution_count": 27,
     "metadata": {},
     "output_type": "execute_result"
    }
   ],
   "source": [
    "train_data.ids.shape"
   ]
  },
  {
   "cell_type": "code",
   "execution_count": 28,
   "metadata": {},
   "outputs": [
    {
     "data": {
      "text/plain": [
       "(9971,)"
      ]
     },
     "execution_count": 28,
     "metadata": {},
     "output_type": "execute_result"
    }
   ],
   "source": [
    "train_data2.ids.shape"
   ]
  },
  {
   "cell_type": "code",
   "execution_count": null,
   "metadata": {},
   "outputs": [],
   "source": []
  }
 ],
 "metadata": {
  "kernelspec": {
   "display_name": "Python 3",
   "language": "python",
   "name": "python3"
  },
  "language_info": {
   "codemirror_mode": {
    "name": "ipython",
    "version": 3
   },
   "file_extension": ".py",
   "mimetype": "text/x-python",
   "name": "python",
   "nbconvert_exporter": "python",
   "pygments_lexer": "ipython3",
   "version": "3.7.0"
  }
 },
 "nbformat": 4,
 "nbformat_minor": 2
}
