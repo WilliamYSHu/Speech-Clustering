{
 "cells": [
  {
   "cell_type": "code",
   "execution_count": 1,
   "metadata": {},
   "outputs": [
    {
     "name": "stdout",
     "output_type": "stream",
     "text": [
      "number of signals: 31961\n",
      "total number of words is 6204\n",
      "[('because', 340), ('recycling', 315), ('benefits', 259), ('something', 230), ('exactly', 228), ('probably', 225), ('insurance', 196), ('punishment', 190), ('everything', 174), ('company', 149), ('sometimes', 144), ('interesting', 143), ('recycle', 143), ('situation', 141), ('problem', 139), ('anything', 131), ('plastic', 127), ('actually', 125), ('understand', 123), ('vacation', 123)]\n",
      "total number of series: 3645\n",
      "8659\n",
      "8659\n",
      "9966\n",
      "9966\n",
      "13336\n",
      "13336\n"
     ]
    }
   ],
   "source": [
    "import numpy as np\n",
    "\n",
    "# load raw signal data\n",
    "data=np.load('swbd.npy').item()\n",
    "train_x = data['train']['data']\n",
    "train_y_raw = data['train']['labels']\n",
    "train_y = [label.split('_')[0] for label in train_y_raw]\n",
    "dev_x = data['dev']['data']\n",
    "dev_y_raw = data['dev']['labels']\n",
    "dev_y = [label.split('_')[0] for label in dev_y_raw]\n",
    "test_x = data['test']['data']\n",
    "test_y_raw = data['test']['labels']\n",
    "test_y = [label.split('_')[0] for label in test_y_raw]\n",
    "\n",
    "# used in clustering\n",
    "signals = train_x+dev_x+test_x # tuple of numpy.ndarray  31961 * [time*39]\n",
    "raw_labels = train_y_raw + dev_y_raw + test_y_raw  # tuple of string. Similar as label, e.g.'cadillacs_sw03453-A_027156-027212',\n",
    "labels = train_y+dev_y+test_y  # labels. tuple of strings 31961. e.g. 'abandoned'\n",
    "\n",
    "print('number of signals: {}'.format(len(signals)))\n",
    "\n",
    "# count number of words. Change strings to numeric labels\n",
    "wordSet = set()\n",
    "for word in labels:\n",
    "    wordSet.add(word)\n",
    "print('total number of words is {}'.format(len(wordSet)))\n",
    "\n",
    "# make a list. let list index be the numeric label of word\n",
    "wordList = list(wordSet)\n",
    "\n",
    "# numeric label of signals\n",
    "numLabels = np.array(list(map(lambda x: wordList.index(x), labels)))\n",
    "\n",
    "# find the most frequent words\n",
    "wordBags = dict()\n",
    "for word in labels:\n",
    "    if word in wordBags:\n",
    "        wordBags[word] += 1\n",
    "    else:\n",
    "        wordBags[word] = 1\n",
    "sorted_by_value = sorted(wordBags.items(), key=lambda kv: -kv[1])\n",
    "print(sorted_by_value[:20])\n",
    "print('total number of series: {}'.format(sum([x[1] for x in sorted_by_value[:20]])))\n",
    "\n",
    "small_index_list = [x[0] for x in sorted_by_value[:20]]\n",
    "\n",
    "# get the rest of labels\n",
    "train_x_rest = [signal for idx,signal in enumerate(train_x) if train_y[idx] not in small_index_list]\n",
    "train_y_rest = [signal for idx,signal in enumerate(train_y_raw) if train_y[idx] not in small_index_list]\n",
    "dev_x_rest = [signal for idx,signal in enumerate(dev_x) if dev_y[idx] not in small_index_list]\n",
    "dev_y_rest = [signal for idx,signal in enumerate(dev_y_raw) if dev_y[idx] not in small_index_list]\n",
    "\n",
    "# attach all in test set\n",
    "train_x_in = tuple([signal for idx,signal in enumerate(train_x) if train_y[idx] in small_index_list])\n",
    "train_y_in = tuple([signal for idx,signal in enumerate(train_y_raw) if train_y[idx] in small_index_list])\n",
    "dev_x_in = tuple([signal for idx,signal in enumerate(dev_x) if dev_y[idx] in small_index_list])\n",
    "dev_y_in = tuple([signal for idx,signal in enumerate(dev_y_raw) if dev_y[idx] in small_index_list])\n",
    "\n",
    "print(len(train_x_rest))\n",
    "print(len(train_y_rest))\n",
    "print(len(dev_x_rest))\n",
    "print(len(dev_y_rest))\n",
    "\n",
    "test_x = test_x + train_x_in + dev_x_in\n",
    "test_y = test_y_raw + train_y_in + dev_y_in\n",
    "\n",
    "print(len(test_x))\n",
    "print(len(test_y))"
   ]
  },
  {
   "cell_type": "code",
   "execution_count": null,
   "metadata": {},
   "outputs": [],
   "source": [
    "signals = train_x_rest"
   ]
  },
  {
   "cell_type": "code",
   "execution_count": 2,
   "metadata": {},
   "outputs": [],
   "source": [
    "data3 = {}\n",
    "data3['test'] = {'data':test_x, 'labels' : test_y}\n",
    "data3['train'] = {'data':train_x_rest, 'labels' : train_y_rest}\n",
    "data3['dev'] = {'data':dev_x_rest, 'labels' : dev_y_rest}"
   ]
  },
  {
   "cell_type": "code",
   "execution_count": 3,
   "metadata": {},
   "outputs": [],
   "source": [
    "np.save('swbd_test2.npy',data3)"
   ]
  },
  {
   "cell_type": "code",
   "execution_count": 26,
   "metadata": {},
   "outputs": [
    {
     "data": {
      "text/plain": [
       "9966"
      ]
     },
     "execution_count": 26,
     "metadata": {},
     "output_type": "execute_result"
    }
   ],
   "source": [
    "len(dev_x_rest)"
   ]
  },
  {
   "cell_type": "code",
   "execution_count": 31,
   "metadata": {},
   "outputs": [
    {
     "data": {
      "text/plain": [
       "21990"
      ]
     },
     "execution_count": 31,
     "metadata": {},
     "output_type": "execute_result"
    }
   ],
   "source": [
    "len(test_x+dev_x)"
   ]
  },
  {
   "cell_type": "code",
   "execution_count": 34,
   "metadata": {},
   "outputs": [
    {
     "data": {
      "text/plain": [
       "13336"
      ]
     },
     "execution_count": 34,
     "metadata": {},
     "output_type": "execute_result"
    }
   ],
   "source": [
    "len(test_x)"
   ]
  },
  {
   "cell_type": "code",
   "execution_count": 35,
   "metadata": {},
   "outputs": [
    {
     "data": {
      "text/plain": [
       "(1, 2, 3, 4)"
      ]
     },
     "execution_count": 35,
     "metadata": {},
     "output_type": "execute_result"
    }
   ],
   "source": [
    "(1,2) + (3,4)"
   ]
  },
  {
   "cell_type": "code",
   "execution_count": null,
   "metadata": {},
   "outputs": [],
   "source": []
  }
 ],
 "metadata": {
  "kernelspec": {
   "display_name": "Python 3",
   "language": "python",
   "name": "python3"
  },
  "language_info": {
   "codemirror_mode": {
    "name": "ipython",
    "version": 3
   },
   "file_extension": ".py",
   "mimetype": "text/x-python",
   "name": "python",
   "nbconvert_exporter": "python",
   "pygments_lexer": "ipython3",
   "version": "3.7.0"
  }
 },
 "nbformat": 4,
 "nbformat_minor": 2
}
