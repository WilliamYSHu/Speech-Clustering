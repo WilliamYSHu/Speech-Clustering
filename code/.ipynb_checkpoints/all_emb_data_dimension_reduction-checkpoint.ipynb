{
 "cells": [
  {
   "cell_type": "code",
   "execution_count": 1,
   "metadata": {},
   "outputs": [],
   "source": [
    "%matplotlib inline\n",
    "import utils\n",
    "import numpy as np\n",
    "from matplotlib import pyplot as plt\n",
    "from sklearn.cluster import KMeans, SpectralClustering\n",
    "from scipy.cluster.hierarchy import linkage\n",
    "from scipy.spatial.distance import pdist\n",
    "from numpy.random import permutation as rpm\n",
    "from plot import plot_images, plot_dendrogram, plot_confusion_matrix\n",
    "from utils import resize, sample_index, gen_solution, get_purity, get_nmi\n",
    "from clustering import kmeans_cluster, hierarchical_cluster"
   ]
  },
  {
   "cell_type": "markdown",
   "metadata": {},
   "source": [
    "# Loading Signal Data"
   ]
  },
  {
   "cell_type": "code",
   "execution_count": 2,
   "metadata": {},
   "outputs": [
    {
     "name": "stdout",
     "output_type": "stream",
     "text": [
      "number of signals: 31961\n",
      "number of labels: 31961\n"
     ]
    }
   ],
   "source": [
    "# load raw signal data\n",
    "data=np.load('../data/swbd.npy').item()\n",
    "train_x = data['train']['data']\n",
    "train_y_raw = data['train']['labels']\n",
    "train_y = [label.split('_')[0] for label in train_y_raw]\n",
    "dev_x = data['dev']['data']\n",
    "dev_y_raw = data['dev']['labels']\n",
    "dev_y = [label.split('_')[0] for label in dev_y_raw]\n",
    "test_x = data['test']['data']\n",
    "test_y_raw = data['test']['labels']\n",
    "test_y = [label.split('_')[0] for label in test_y_raw]\n",
    "\n",
    "# used in clustering\n",
    "signals = train_x+dev_x+test_x # tuple of numpy.ndarray  31961 * [time*39]\n",
    "labels = train_y+dev_y+test_y  # labels. tuple of strings 31961. e.g. 'abandoned'\n",
    "\n",
    "print('number of signals: {}'.format(len(signals)))\n",
    "print('number of labels: {}'.format(len(labels)))"
   ]
  },
  {
   "cell_type": "code",
   "execution_count": 3,
   "metadata": {},
   "outputs": [
    {
     "name": "stdout",
     "output_type": "stream",
     "text": [
      "total number of words is 6204\n"
     ]
    }
   ],
   "source": [
    "# count number of words. Change strings to numeric labels\n",
    "wordSet = set()\n",
    "for word in labels:\n",
    "    wordSet.add(word)\n",
    "print('total number of words is {}'.format(len(wordSet)))\n",
    "\n",
    "# make a list. let list index be the numeric label of word\n",
    "wordList = list(wordSet)\n",
    "\n",
    "# numeric label of signals\n",
    "numLabels = np.array(list(map(lambda x: wordList.index(x), labels)))"
   ]
  },
  {
   "cell_type": "code",
   "execution_count": 4,
   "metadata": {},
   "outputs": [
    {
     "name": "stdout",
     "output_type": "stream",
     "text": [
      "[('because', 340), ('recycling', 315), ('benefits', 259), ('something', 230), ('exactly', 228), ('probably', 225), ('insurance', 196), ('punishment', 190), ('everything', 174), ('company', 149), ('sometimes', 144), ('interesting', 143), ('recycle', 143), ('situation', 141), ('problem', 139), ('anything', 131), ('plastic', 127), ('actually', 125), ('understand', 123), ('vacation', 123)]\n",
      "total number of series: 3645\n"
     ]
    }
   ],
   "source": [
    "wordBags = dict()\n",
    "for word in labels:\n",
    "    if word in wordBags:\n",
    "        wordBags[word] += 1\n",
    "    else:\n",
    "        wordBags[word] = 1\n",
    "sorted_by_value = sorted(wordBags.items(), key=lambda kv: -kv[1])\n",
    "print(sorted_by_value[:20])\n",
    "print('total number of series: {}'.format(sum([x[1] for x in sorted_by_value[:20]])))"
   ]
  },
  {
   "cell_type": "markdown",
   "metadata": {},
   "source": [
    "# Loading Embedding Data"
   ]
  },
  {
   "cell_type": "code",
   "execution_count": 5,
   "metadata": {},
   "outputs": [
    {
     "name": "stdout",
     "output_type": "stream",
     "text": [
      "shape of embeddings: (31961, 512)\n"
     ]
    }
   ],
   "source": [
    "# load embedding data\n",
    "emb_data = np.load('../data/swbd_embeddings.npy').item()\n",
    "emb_train_x = emb_data['train']['embs']\n",
    "emb_train_y_raw = emb_data['train']['labels']\n",
    "emb_train_y = [label.split('_')[0] for label in train_y_raw]\n",
    "emb_dev_x = emb_data['dev']['embs']\n",
    "emb_dev_y_raw = emb_data['dev']['labels']\n",
    "emb_dev_y = [label.split('_')[0] for label in dev_y_raw]\n",
    "emb_test_x = emb_data['test']['embs']\n",
    "emb_test_y_raw = emb_data['test']['labels']\n",
    "emb_test_y = [label.split('_')[0] for label in test_y_raw]\n",
    "\n",
    "# labels are the same. Use the embedding matrix in clustering\n",
    "emb_signals = np.concatenate((emb_train_x,emb_dev_x,emb_test_x), axis = 0) # np.ndarray 31961*512\n",
    "print('shape of embeddings: {}'.format(emb_signals.shape))"
   ]
  },
  {
   "cell_type": "markdown",
   "metadata": {},
   "source": [
    "# Small raw data and small labels"
   ]
  },
  {
   "cell_type": "code",
   "execution_count": 6,
   "metadata": {},
   "outputs": [],
   "source": [
    "# get the small data set\n",
    "small_index_list = [x[0] for x in sorted_by_value[:20]]\n",
    "small_raw_signal = []\n",
    "small_emb_data = []\n",
    "small_num_labels = []\n",
    "for i in range(len(labels)):\n",
    "    if labels[i] in small_index_list:\n",
    "        small_raw_signal.append(signals[i])\n",
    "        small_emb_data.append(emb_signals[i,:])\n",
    "        small_num_labels.append(small_index_list.index(labels[i]))"
   ]
  },
  {
   "cell_type": "code",
   "execution_count": 7,
   "metadata": {},
   "outputs": [],
   "source": [
    "# concatinate the embeded signal to make a data matrix\n",
    "small_emb_signal = np.zeros((len(small_emb_data), 512))\n",
    "for i in range(len(small_emb_data)):\n",
    "    small_emb_signal[i] = small_emb_data[i]"
   ]
  },
  {
   "cell_type": "markdown",
   "metadata": {},
   "source": [
    "Small data summary: \n",
    "1. small_index_list: array with length 20. Used as a reference for numeric label\n",
    "\n",
    "    ['because', 'recycling', 'benefits', 'something', 'exactly', 'probably', \n",
    "    'insurance', 'punishment', 'everything', 'company', 'sometimes',\n",
    "    'interesting', 'recycle', 'situation', 'problem', 'anything', \n",
    "    'plastic', 'actually', 'understand', 'vacation']\n",
    "                 \n",
    "                 \n",
    "2. small_raw_signal: # list of numpy.ndarray  3645 * [time*39]\n",
    "\n",
    "3. small_emb_signal: # numpy.ndarray 3645 * 512\n",
    "\n",
    "4. small_num_labels: # array with length 3645. Numeric Label for each signal.\n",
    "\n",
    "The signals of embedding coordinate with signals of raw data"
   ]
  },
  {
   "cell_type": "code",
   "execution_count": 8,
   "metadata": {},
   "outputs": [],
   "source": [
    "# word labels for better presentation\n",
    "small_labels = [small_index_list[x] for x in small_num_labels]"
   ]
  },
  {
   "cell_type": "markdown",
   "metadata": {},
   "source": [
    "# Play with signal embeddings : PCA"
   ]
  },
  {
   "cell_type": "code",
   "execution_count": 10,
   "metadata": {},
   "outputs": [],
   "source": [
    "from __future__ import print_function, division, absolute_import\n",
    "\n",
    "%matplotlib inline\n",
    "from matplotlib import pyplot as plt\n",
    "import numpy as np\n",
    "import datetime\n",
    "import math\n",
    "import os\n",
    "import argparse\n",
    "import time\n",
    "import sklearn\n",
    "import scipy.io as sio\n",
    "from scipy.linalg import sqrtm,eigh\n",
    "from plot import plot_images, plot_embedding, plot_embedding_annotation, plot_confusion_matrix\n",
    "from utils import resize"
   ]
  },
  {
   "cell_type": "code",
   "execution_count": 11,
   "metadata": {},
   "outputs": [],
   "source": [
    "class PCA(object):\n",
    "    def __init__(self, n_components):\n",
    "        \"\"\"\n",
    "        Set up PCA\n",
    "        ------\n",
    "        :in:\n",
    "        n_components: number of components to keep\n",
    "        \"\"\"\n",
    "        self.n_components = n_components\n",
    "\n",
    "    def fit(self, X):\n",
    "        \"\"\"\n",
    "        TODO: fit the model with training data\n",
    "        --------\n",
    "        :in: \n",
    "        X, 2d-array of shape (n_samples, n_features): data matrix\n",
    "        \"\"\"\n",
    "        n_features = X.shape[1]\n",
    "        n_samples = X.shape[0]\n",
    "        self.W = np.zeros((self.n_components, n_features))\n",
    "        self.mu = np.zeros(n_features)\n",
    "        # TODO: Compute projection matrix W and data mean mu\n",
    "        self.mu = np.mean(X,axis=0)\n",
    "        centerX = X - self.mu\n",
    "        S = centerX.T.dot(centerX)/n_samples\n",
    "        w,v = eigh(S,eigvals=(n_features-self.n_components,n_features-1))\n",
    "        self.W = np.flip(v.T,0)\n",
    "        \n",
    "        return\n",
    "\n",
    "        \n",
    "    def transform(self, X):\n",
    "        \"\"\"\n",
    "        TODO: apply PCA on X\n",
    "        --------\n",
    "        :in: \n",
    "        X, 2d-array of shape (n_samples, n_features): data matrix\n",
    "        :out:\n",
    "        Z, 2d-array of shape (n_samples, n_components): feature matrix\n",
    "        \"\"\"\n",
    "        return (X-self.mu).dot(self.W.T)\n",
    "    \n",
    "    def reconstruct(self, Z):\n",
    "        \"\"\"\n",
    "        TODO: transform feature Z back to its original space\n",
    "        --------\n",
    "        :in: \n",
    "        Z, 2d-array of shape (n_samples, n_components): feature matrix\n",
    "        :out:\n",
    "        X, 2d-array of shape (n_samples, n_features): reconstructed data matrix\n",
    "        \"\"\" \n",
    "        return Z.dot(self.W) + self.mu"
   ]
  },
  {
   "cell_type": "code",
   "execution_count": 12,
   "metadata": {},
   "outputs": [
    {
     "name": "stdout",
     "output_type": "stream",
     "text": [
      "number of components: 20\n"
     ]
    },
    {
     "name": "stderr",
     "output_type": "stream",
     "text": [
      "C:\\Users\\huyus\\AppData\\Local\\Continuum\\anaconda3\\envs\\pytorch\\lib\\site-packages\\sklearn\\metrics\\cluster\\supervised.py:844: FutureWarning: The behavior of NMI will change in version 0.22. To match the behavior of 'v_measure_score', NMI will use average_method='arithmetic' by default.\n",
      "  FutureWarning)\n"
     ]
    },
    {
     "name": "stdout",
     "output_type": "stream",
     "text": [
      "K-means, NMI: 0.950, Purity: 0.965\n",
      "single, NMI: 0.225, Purity: 0.136\n",
      "complete, NMI: 0.934, Purity: 0.902\n",
      "average, NMI: 0.936, Purity: 0.874\n",
      "weighted, NMI: 0.920, Purity: 0.862\n",
      "centroid, NMI: 0.944, Purity: 0.909\n",
      "median, NMI: 0.921, Purity: 0.890\n",
      "ward, NMI: 0.949, Purity: 0.939\n"
     ]
    },
    {
     "name": "stderr",
     "output_type": "stream",
     "text": [
      "C:\\Users\\huyus\\AppData\\Local\\Continuum\\anaconda3\\envs\\pytorch\\lib\\site-packages\\sklearn\\manifold\\spectral_embedding_.py:237: UserWarning: Graph is not fully connected, spectral embedding may not work as expected.\n",
      "  warnings.warn(\"Graph is not fully connected, spectral embedding\"\n",
      "C:\\Users\\huyus\\AppData\\Local\\Continuum\\anaconda3\\envs\\pytorch\\lib\\site-packages\\sklearn\\metrics\\cluster\\supervised.py:844: FutureWarning: The behavior of NMI will change in version 0.22. To match the behavior of 'v_measure_score', NMI will use average_method='arithmetic' by default.\n",
      "  FutureWarning)\n"
     ]
    },
    {
     "name": "stdout",
     "output_type": "stream",
     "text": [
      "n_neighbors: 5, NMI: 0.949, Purity: 0.961\n"
     ]
    },
    {
     "name": "stderr",
     "output_type": "stream",
     "text": [
      "C:\\Users\\huyus\\AppData\\Local\\Continuum\\anaconda3\\envs\\pytorch\\lib\\site-packages\\sklearn\\metrics\\cluster\\supervised.py:844: FutureWarning: The behavior of NMI will change in version 0.22. To match the behavior of 'v_measure_score', NMI will use average_method='arithmetic' by default.\n",
      "  FutureWarning)\n"
     ]
    },
    {
     "name": "stdout",
     "output_type": "stream",
     "text": [
      "n_neighbors: 10, NMI: 0.943, Purity: 0.959\n"
     ]
    },
    {
     "name": "stderr",
     "output_type": "stream",
     "text": [
      "C:\\Users\\huyus\\AppData\\Local\\Continuum\\anaconda3\\envs\\pytorch\\lib\\site-packages\\sklearn\\metrics\\cluster\\supervised.py:844: FutureWarning: The behavior of NMI will change in version 0.22. To match the behavior of 'v_measure_score', NMI will use average_method='arithmetic' by default.\n",
      "  FutureWarning)\n"
     ]
    },
    {
     "name": "stdout",
     "output_type": "stream",
     "text": [
      "n_neighbors: 50, NMI: 0.947, Purity: 0.967\n",
      "number of components: 40\n"
     ]
    },
    {
     "name": "stderr",
     "output_type": "stream",
     "text": [
      "C:\\Users\\huyus\\AppData\\Local\\Continuum\\anaconda3\\envs\\pytorch\\lib\\site-packages\\sklearn\\metrics\\cluster\\supervised.py:844: FutureWarning: The behavior of NMI will change in version 0.22. To match the behavior of 'v_measure_score', NMI will use average_method='arithmetic' by default.\n",
      "  FutureWarning)\n"
     ]
    },
    {
     "name": "stdout",
     "output_type": "stream",
     "text": [
      "K-means, NMI: 0.935, Purity: 0.927\n",
      "single, NMI: 0.225, Purity: 0.136\n",
      "complete, NMI: 0.894, Purity: 0.823\n",
      "average, NMI: 0.929, Purity: 0.843\n",
      "weighted, NMI: 0.924, Purity: 0.875\n",
      "centroid, NMI: 0.933, Purity: 0.872\n",
      "median, NMI: 0.846, Purity: 0.727\n",
      "ward, NMI: 0.946, Purity: 0.936\n"
     ]
    },
    {
     "name": "stderr",
     "output_type": "stream",
     "text": [
      "C:\\Users\\huyus\\AppData\\Local\\Continuum\\anaconda3\\envs\\pytorch\\lib\\site-packages\\sklearn\\manifold\\spectral_embedding_.py:237: UserWarning: Graph is not fully connected, spectral embedding may not work as expected.\n",
      "  warnings.warn(\"Graph is not fully connected, spectral embedding\"\n",
      "C:\\Users\\huyus\\AppData\\Local\\Continuum\\anaconda3\\envs\\pytorch\\lib\\site-packages\\sklearn\\metrics\\cluster\\supervised.py:844: FutureWarning: The behavior of NMI will change in version 0.22. To match the behavior of 'v_measure_score', NMI will use average_method='arithmetic' by default.\n",
      "  FutureWarning)\n"
     ]
    },
    {
     "name": "stdout",
     "output_type": "stream",
     "text": [
      "n_neighbors: 5, NMI: 0.951, Purity: 0.969\n"
     ]
    },
    {
     "name": "stderr",
     "output_type": "stream",
     "text": [
      "C:\\Users\\huyus\\AppData\\Local\\Continuum\\anaconda3\\envs\\pytorch\\lib\\site-packages\\sklearn\\metrics\\cluster\\supervised.py:844: FutureWarning: The behavior of NMI will change in version 0.22. To match the behavior of 'v_measure_score', NMI will use average_method='arithmetic' by default.\n",
      "  FutureWarning)\n"
     ]
    },
    {
     "name": "stdout",
     "output_type": "stream",
     "text": [
      "n_neighbors: 10, NMI: 0.952, Purity: 0.969\n"
     ]
    },
    {
     "name": "stderr",
     "output_type": "stream",
     "text": [
      "C:\\Users\\huyus\\AppData\\Local\\Continuum\\anaconda3\\envs\\pytorch\\lib\\site-packages\\sklearn\\metrics\\cluster\\supervised.py:844: FutureWarning: The behavior of NMI will change in version 0.22. To match the behavior of 'v_measure_score', NMI will use average_method='arithmetic' by default.\n",
      "  FutureWarning)\n"
     ]
    },
    {
     "name": "stdout",
     "output_type": "stream",
     "text": [
      "n_neighbors: 50, NMI: 0.949, Purity: 0.968\n",
      "number of components: 60\n"
     ]
    },
    {
     "name": "stderr",
     "output_type": "stream",
     "text": [
      "C:\\Users\\huyus\\AppData\\Local\\Continuum\\anaconda3\\envs\\pytorch\\lib\\site-packages\\sklearn\\metrics\\cluster\\supervised.py:844: FutureWarning: The behavior of NMI will change in version 0.22. To match the behavior of 'v_measure_score', NMI will use average_method='arithmetic' by default.\n",
      "  FutureWarning)\n"
     ]
    },
    {
     "name": "stdout",
     "output_type": "stream",
     "text": [
      "K-means, NMI: 0.936, Purity: 0.927\n",
      "single, NMI: 0.224, Purity: 0.136\n",
      "complete, NMI: 0.899, Purity: 0.808\n",
      "average, NMI: 0.911, Purity: 0.802\n",
      "weighted, NMI: 0.905, Purity: 0.836\n",
      "centroid, NMI: 0.926, Purity: 0.840\n",
      "median, NMI: 0.856, Purity: 0.689\n",
      "ward, NMI: 0.946, Purity: 0.937\n"
     ]
    },
    {
     "name": "stderr",
     "output_type": "stream",
     "text": [
      "C:\\Users\\huyus\\AppData\\Local\\Continuum\\anaconda3\\envs\\pytorch\\lib\\site-packages\\sklearn\\metrics\\cluster\\supervised.py:844: FutureWarning: The behavior of NMI will change in version 0.22. To match the behavior of 'v_measure_score', NMI will use average_method='arithmetic' by default.\n",
      "  FutureWarning)\n"
     ]
    },
    {
     "name": "stdout",
     "output_type": "stream",
     "text": [
      "n_neighbors: 5, NMI: 0.951, Purity: 0.942\n"
     ]
    },
    {
     "name": "stderr",
     "output_type": "stream",
     "text": [
      "C:\\Users\\huyus\\AppData\\Local\\Continuum\\anaconda3\\envs\\pytorch\\lib\\site-packages\\sklearn\\metrics\\cluster\\supervised.py:844: FutureWarning: The behavior of NMI will change in version 0.22. To match the behavior of 'v_measure_score', NMI will use average_method='arithmetic' by default.\n",
      "  FutureWarning)\n"
     ]
    },
    {
     "name": "stdout",
     "output_type": "stream",
     "text": [
      "n_neighbors: 10, NMI: 0.952, Purity: 0.966\n",
      "n_neighbors: 50, NMI: 0.952, Purity: 0.970\n"
     ]
    },
    {
     "name": "stderr",
     "output_type": "stream",
     "text": [
      "C:\\Users\\huyus\\AppData\\Local\\Continuum\\anaconda3\\envs\\pytorch\\lib\\site-packages\\sklearn\\metrics\\cluster\\supervised.py:844: FutureWarning: The behavior of NMI will change in version 0.22. To match the behavior of 'v_measure_score', NMI will use average_method='arithmetic' by default.\n",
      "  FutureWarning)\n"
     ]
    }
   ],
   "source": [
    "ns_components = [20,40,60]\n",
    "for n_components in ns_components:\n",
    "    pca = PCA(n_components)\n",
    "    print('number of components: {}'.format(n_components))\n",
    "\n",
    "    # train\n",
    "    pca.fit(small_emb_signal)\n",
    "\n",
    "    # transform\n",
    "    small_emb_pca = pca.transform(small_emb_signal)\n",
    "    \n",
    "    \"\"\"\n",
    "    K-means clustering of embedding data\n",
    "    \"\"\"\n",
    "    pred = kmeans_cluster(small_emb_pca,len(small_index_list), n_rounds=10, maxrun=500)\n",
    "    _, cm, purity = get_purity(pred, small_num_labels)\n",
    "    nmi = get_nmi(pred, small_num_labels)\n",
    "    print(\"K-means, NMI: %.3f, Purity: %.3f\" % (nmi, purity))\n",
    "    \n",
    "    # hierarchical\n",
    "    methods = [\"single\" , \"complete\" , \"average\" , \"weighted\" , \"centroid\" , \"median\" , \"ward\"]\n",
    "    for thismethod in methods:\n",
    "        linkage_matrix, pred = hierarchical_cluster(small_emb_pca, n_clusters=len(small_index_list),method=thismethod, metric='cosine')\n",
    "        _, cm, purity = get_purity(pred, small_num_labels)\n",
    "        nmi = get_nmi(pred, small_num_labels)\n",
    "        print(\"%s, NMI: %.3f, Purity: %.3f\" % (thismethod,nmi, purity))\n",
    "    \n",
    "    # spectral\n",
    "    ns_neighbors = [5,10,50]\n",
    "    for n_neighbors in ns_neighbors:\n",
    "        clustering = SpectralClustering(n_clusters=len(small_index_list),affinity=\"nearest_neighbors\",\n",
    "                                        n_neighbors=n_neighbors).fit(small_emb_pca)\n",
    "        pred = clustering.labels_\n",
    "        _, cm, purity = get_purity(pred, small_num_labels)\n",
    "        nmi = get_nmi(pred, small_num_labels)\n",
    "        print(\"n_neighbors: %s, NMI: %.3f, Purity: %.3f\" % (n_neighbors,nmi, purity))\n",
    "    \n",
    "    "
   ]
  },
  {
   "cell_type": "markdown",
   "metadata": {},
   "source": [
    "# KPCA"
   ]
  },
  {
   "cell_type": "code",
   "execution_count": 18,
   "metadata": {},
   "outputs": [
    {
     "name": "stdout",
     "output_type": "stream",
     "text": [
      "number of components: 20\n"
     ]
    },
    {
     "name": "stderr",
     "output_type": "stream",
     "text": [
      "C:\\Users\\huyus\\AppData\\Local\\Continuum\\anaconda3\\envs\\tf_gpu\\lib\\site-packages\\sklearn\\metrics\\cluster\\supervised.py:844: FutureWarning: The behavior of NMI will change in version 0.22. To match the behavior of 'v_measure_score', NMI will use average_method='arithmetic' by default.\n",
      "  FutureWarning)\n"
     ]
    },
    {
     "name": "stdout",
     "output_type": "stream",
     "text": [
      "K-means, NMI: 0.883, Purity: 0.904\n",
      "single, NMI: 0.042, Purity: 0.098\n",
      "complete, NMI: 0.851, Purity: 0.840\n",
      "average, NMI: 0.857, Purity: 0.805\n",
      "weighted, NMI: 0.847, Purity: 0.827\n",
      "centroid, NMI: 0.862, Purity: 0.833\n",
      "median, NMI: 0.796, Purity: 0.753\n",
      "ward, NMI: 0.880, Purity: 0.892\n"
     ]
    },
    {
     "name": "stderr",
     "output_type": "stream",
     "text": [
      "C:\\Users\\huyus\\AppData\\Local\\Continuum\\anaconda3\\envs\\tf_gpu\\lib\\site-packages\\sklearn\\metrics\\cluster\\supervised.py:844: FutureWarning: The behavior of NMI will change in version 0.22. To match the behavior of 'v_measure_score', NMI will use average_method='arithmetic' by default.\n",
      "  FutureWarning)\n"
     ]
    },
    {
     "name": "stdout",
     "output_type": "stream",
     "text": [
      "n_neighbors: 5, NMI: 0.873, Purity: 0.883\n"
     ]
    },
    {
     "name": "stderr",
     "output_type": "stream",
     "text": [
      "C:\\Users\\huyus\\AppData\\Local\\Continuum\\anaconda3\\envs\\tf_gpu\\lib\\site-packages\\sklearn\\metrics\\cluster\\supervised.py:844: FutureWarning: The behavior of NMI will change in version 0.22. To match the behavior of 'v_measure_score', NMI will use average_method='arithmetic' by default.\n",
      "  FutureWarning)\n"
     ]
    },
    {
     "name": "stdout",
     "output_type": "stream",
     "text": [
      "n_neighbors: 10, NMI: 0.876, Purity: 0.884\n"
     ]
    },
    {
     "name": "stderr",
     "output_type": "stream",
     "text": [
      "C:\\Users\\huyus\\AppData\\Local\\Continuum\\anaconda3\\envs\\tf_gpu\\lib\\site-packages\\sklearn\\metrics\\cluster\\supervised.py:844: FutureWarning: The behavior of NMI will change in version 0.22. To match the behavior of 'v_measure_score', NMI will use average_method='arithmetic' by default.\n",
      "  FutureWarning)\n"
     ]
    },
    {
     "name": "stdout",
     "output_type": "stream",
     "text": [
      "n_neighbors: 50, NMI: 0.869, Purity: 0.881\n",
      "number of components: 40\n"
     ]
    },
    {
     "name": "stderr",
     "output_type": "stream",
     "text": [
      "C:\\Users\\huyus\\AppData\\Local\\Continuum\\anaconda3\\envs\\tf_gpu\\lib\\site-packages\\sklearn\\metrics\\cluster\\supervised.py:844: FutureWarning: The behavior of NMI will change in version 0.22. To match the behavior of 'v_measure_score', NMI will use average_method='arithmetic' by default.\n",
      "  FutureWarning)\n"
     ]
    },
    {
     "name": "stdout",
     "output_type": "stream",
     "text": [
      "K-means, NMI: 0.884, Purity: 0.898\n",
      "single, NMI: 0.041, Purity: 0.098\n",
      "complete, NMI: 0.808, Purity: 0.775\n",
      "average, NMI: 0.855, Purity: 0.776\n",
      "weighted, NMI: 0.807, Purity: 0.727\n",
      "centroid, NMI: 0.850, Purity: 0.746\n",
      "median, NMI: 0.705, Purity: 0.576\n",
      "ward, NMI: 0.860, Purity: 0.882\n"
     ]
    },
    {
     "name": "stderr",
     "output_type": "stream",
     "text": [
      "C:\\Users\\huyus\\AppData\\Local\\Continuum\\anaconda3\\envs\\tf_gpu\\lib\\site-packages\\sklearn\\metrics\\cluster\\supervised.py:844: FutureWarning: The behavior of NMI will change in version 0.22. To match the behavior of 'v_measure_score', NMI will use average_method='arithmetic' by default.\n",
      "  FutureWarning)\n"
     ]
    },
    {
     "name": "stdout",
     "output_type": "stream",
     "text": [
      "n_neighbors: 5, NMI: 0.883, Purity: 0.893\n"
     ]
    },
    {
     "name": "stderr",
     "output_type": "stream",
     "text": [
      "C:\\Users\\huyus\\AppData\\Local\\Continuum\\anaconda3\\envs\\tf_gpu\\lib\\site-packages\\sklearn\\metrics\\cluster\\supervised.py:844: FutureWarning: The behavior of NMI will change in version 0.22. To match the behavior of 'v_measure_score', NMI will use average_method='arithmetic' by default.\n",
      "  FutureWarning)\n"
     ]
    },
    {
     "name": "stdout",
     "output_type": "stream",
     "text": [
      "n_neighbors: 10, NMI: 0.879, Purity: 0.888\n"
     ]
    },
    {
     "name": "stderr",
     "output_type": "stream",
     "text": [
      "C:\\Users\\huyus\\AppData\\Local\\Continuum\\anaconda3\\envs\\tf_gpu\\lib\\site-packages\\sklearn\\metrics\\cluster\\supervised.py:844: FutureWarning: The behavior of NMI will change in version 0.22. To match the behavior of 'v_measure_score', NMI will use average_method='arithmetic' by default.\n",
      "  FutureWarning)\n"
     ]
    },
    {
     "name": "stdout",
     "output_type": "stream",
     "text": [
      "n_neighbors: 50, NMI: 0.879, Purity: 0.891\n",
      "number of components: 60\n"
     ]
    },
    {
     "name": "stderr",
     "output_type": "stream",
     "text": [
      "C:\\Users\\huyus\\AppData\\Local\\Continuum\\anaconda3\\envs\\tf_gpu\\lib\\site-packages\\sklearn\\metrics\\cluster\\supervised.py:844: FutureWarning: The behavior of NMI will change in version 0.22. To match the behavior of 'v_measure_score', NMI will use average_method='arithmetic' by default.\n",
      "  FutureWarning)\n"
     ]
    },
    {
     "name": "stdout",
     "output_type": "stream",
     "text": [
      "K-means, NMI: 0.883, Purity: 0.901\n",
      "single, NMI: 0.041, Purity: 0.098\n",
      "complete, NMI: 0.786, Purity: 0.746\n",
      "average, NMI: 0.853, Purity: 0.773\n",
      "weighted, NMI: 0.807, Purity: 0.761\n",
      "centroid, NMI: 0.848, Purity: 0.744\n",
      "median, NMI: 0.385, Purity: 0.234\n",
      "ward, NMI: 0.866, Purity: 0.887\n"
     ]
    },
    {
     "name": "stderr",
     "output_type": "stream",
     "text": [
      "C:\\Users\\huyus\\AppData\\Local\\Continuum\\anaconda3\\envs\\tf_gpu\\lib\\site-packages\\sklearn\\metrics\\cluster\\supervised.py:844: FutureWarning: The behavior of NMI will change in version 0.22. To match the behavior of 'v_measure_score', NMI will use average_method='arithmetic' by default.\n",
      "  FutureWarning)\n"
     ]
    },
    {
     "name": "stdout",
     "output_type": "stream",
     "text": [
      "n_neighbors: 5, NMI: 0.887, Purity: 0.897\n"
     ]
    },
    {
     "name": "stderr",
     "output_type": "stream",
     "text": [
      "C:\\Users\\huyus\\AppData\\Local\\Continuum\\anaconda3\\envs\\tf_gpu\\lib\\site-packages\\sklearn\\metrics\\cluster\\supervised.py:844: FutureWarning: The behavior of NMI will change in version 0.22. To match the behavior of 'v_measure_score', NMI will use average_method='arithmetic' by default.\n",
      "  FutureWarning)\n"
     ]
    },
    {
     "name": "stdout",
     "output_type": "stream",
     "text": [
      "n_neighbors: 10, NMI: 0.882, Purity: 0.891\n",
      "n_neighbors: 50, NMI: 0.881, Purity: 0.894\n"
     ]
    },
    {
     "name": "stderr",
     "output_type": "stream",
     "text": [
      "C:\\Users\\huyus\\AppData\\Local\\Continuum\\anaconda3\\envs\\tf_gpu\\lib\\site-packages\\sklearn\\metrics\\cluster\\supervised.py:844: FutureWarning: The behavior of NMI will change in version 0.22. To match the behavior of 'v_measure_score', NMI will use average_method='arithmetic' by default.\n",
      "  FutureWarning)\n"
     ]
    }
   ],
   "source": [
    "from sklearn.decomposition import KernelPCA\n",
    "\n",
    "ns_components = [20,40,60]\n",
    "for n_components in ns_components:\n",
    "    \n",
    "    print('number of components: {}'.format(n_components))\n",
    "    \n",
    "    embedding = KernelPCA(n_components=n_components, kernel='rbf')\n",
    "    embedding.fit(small_emb_signal)\n",
    "    \n",
    "    small_emb_pca = embedding.transform(small_emb_signal)\n",
    "    \n",
    "    \"\"\"\n",
    "    K-means clustering of embedding data\n",
    "    \"\"\"\n",
    "    pred = kmeans_cluster(small_emb_pca,len(small_index_list), n_rounds=10, maxrun=500)\n",
    "    _, cm, purity = get_purity(pred, small_num_labels)\n",
    "    nmi = get_nmi(pred, small_num_labels)\n",
    "    print(\"K-means, NMI: %.3f, Purity: %.3f\" % (nmi, purity))\n",
    "    \n",
    "    # hierarchical\n",
    "    methods = [\"single\" , \"complete\" , \"average\" , \"weighted\" , \"centroid\" , \"median\" , \"ward\"]\n",
    "    for thismethod in methods:\n",
    "        linkage_matrix, pred = hierarchical_cluster(small_emb_pca, n_clusters=len(small_index_list),method=thismethod, metric='cosine')\n",
    "        _, cm, purity = get_purity(pred, small_num_labels)\n",
    "        nmi = get_nmi(pred, small_num_labels)\n",
    "        print(\"%s, NMI: %.3f, Purity: %.3f\" % (thismethod,nmi, purity))\n",
    "    \n",
    "    # spectral\n",
    "    ns_neighbors = [5,10,50]\n",
    "    for n_neighbors in ns_neighbors:\n",
    "        clustering = SpectralClustering(n_clusters=len(small_index_list),affinity=\"nearest_neighbors\",\n",
    "                                        n_neighbors=n_neighbors).fit(small_emb_pca)\n",
    "        pred = clustering.labels_\n",
    "        _, cm, purity = get_purity(pred, small_num_labels)\n",
    "        nmi = get_nmi(pred, small_num_labels)\n",
    "        print(\"n_neighbors: %s, NMI: %.3f, Purity: %.3f\" % (n_neighbors,nmi, purity))"
   ]
  },
  {
   "cell_type": "markdown",
   "metadata": {},
   "source": [
    "# Isomap"
   ]
  },
  {
   "cell_type": "code",
   "execution_count": 13,
   "metadata": {},
   "outputs": [
    {
     "name": "stdout",
     "output_type": "stream",
     "text": [
      "number of components: 20\n"
     ]
    },
    {
     "name": "stderr",
     "output_type": "stream",
     "text": [
      "C:\\Users\\huyus\\AppData\\Local\\Continuum\\anaconda3\\envs\\pytorch\\lib\\site-packages\\sklearn\\metrics\\cluster\\supervised.py:844: FutureWarning: The behavior of NMI will change in version 0.22. To match the behavior of 'v_measure_score', NMI will use average_method='arithmetic' by default.\n",
      "  FutureWarning)\n"
     ]
    },
    {
     "name": "stdout",
     "output_type": "stream",
     "text": [
      "K-means, NMI: 0.954, Purity: 0.973\n",
      "single, NMI: 0.039, Purity: 0.097\n",
      "complete, NMI: 0.905, Purity: 0.842\n",
      "average, NMI: 0.877, Purity: 0.704\n",
      "weighted, NMI: 0.887, Purity: 0.836\n",
      "centroid, NMI: 0.878, Purity: 0.704\n",
      "median, NMI: 0.872, Purity: 0.726\n",
      "ward, NMI: 0.944, Purity: 0.937\n"
     ]
    },
    {
     "name": "stderr",
     "output_type": "stream",
     "text": [
      "C:\\Users\\huyus\\AppData\\Local\\Continuum\\anaconda3\\envs\\pytorch\\lib\\site-packages\\sklearn\\manifold\\spectral_embedding_.py:237: UserWarning: Graph is not fully connected, spectral embedding may not work as expected.\n",
      "  warnings.warn(\"Graph is not fully connected, spectral embedding\"\n",
      "C:\\Users\\huyus\\AppData\\Local\\Continuum\\anaconda3\\envs\\pytorch\\lib\\site-packages\\sklearn\\metrics\\cluster\\supervised.py:844: FutureWarning: The behavior of NMI will change in version 0.22. To match the behavior of 'v_measure_score', NMI will use average_method='arithmetic' by default.\n",
      "  FutureWarning)\n"
     ]
    },
    {
     "name": "stdout",
     "output_type": "stream",
     "text": [
      "n_neighbors: 5, NMI: 0.852, Purity: 0.747\n"
     ]
    },
    {
     "name": "stderr",
     "output_type": "stream",
     "text": [
      "C:\\Users\\huyus\\AppData\\Local\\Continuum\\anaconda3\\envs\\pytorch\\lib\\site-packages\\sklearn\\metrics\\cluster\\supervised.py:844: FutureWarning: The behavior of NMI will change in version 0.22. To match the behavior of 'v_measure_score', NMI will use average_method='arithmetic' by default.\n",
      "  FutureWarning)\n"
     ]
    },
    {
     "name": "stdout",
     "output_type": "stream",
     "text": [
      "n_neighbors: 10, NMI: 0.924, Purity: 0.874\n"
     ]
    },
    {
     "name": "stderr",
     "output_type": "stream",
     "text": [
      "C:\\Users\\huyus\\AppData\\Local\\Continuum\\anaconda3\\envs\\pytorch\\lib\\site-packages\\sklearn\\metrics\\cluster\\supervised.py:844: FutureWarning: The behavior of NMI will change in version 0.22. To match the behavior of 'v_measure_score', NMI will use average_method='arithmetic' by default.\n",
      "  FutureWarning)\n"
     ]
    },
    {
     "name": "stdout",
     "output_type": "stream",
     "text": [
      "n_neighbors: 50, NMI: 0.954, Purity: 0.973\n",
      "number of components: 40\n"
     ]
    },
    {
     "name": "stderr",
     "output_type": "stream",
     "text": [
      "C:\\Users\\huyus\\AppData\\Local\\Continuum\\anaconda3\\envs\\pytorch\\lib\\site-packages\\sklearn\\metrics\\cluster\\supervised.py:844: FutureWarning: The behavior of NMI will change in version 0.22. To match the behavior of 'v_measure_score', NMI will use average_method='arithmetic' by default.\n",
      "  FutureWarning)\n"
     ]
    },
    {
     "name": "stdout",
     "output_type": "stream",
     "text": [
      "K-means, NMI: 0.954, Purity: 0.973\n",
      "single, NMI: 0.042, Purity: 0.097\n",
      "complete, NMI: 0.866, Purity: 0.763\n",
      "average, NMI: 0.864, Purity: 0.672\n",
      "weighted, NMI: 0.868, Purity: 0.735\n",
      "centroid, NMI: 0.844, Purity: 0.630\n",
      "median, NMI: 0.825, Purity: 0.624\n",
      "ward, NMI: 0.954, Purity: 0.973\n"
     ]
    },
    {
     "name": "stderr",
     "output_type": "stream",
     "text": [
      "C:\\Users\\huyus\\AppData\\Local\\Continuum\\anaconda3\\envs\\pytorch\\lib\\site-packages\\sklearn\\manifold\\spectral_embedding_.py:237: UserWarning: Graph is not fully connected, spectral embedding may not work as expected.\n",
      "  warnings.warn(\"Graph is not fully connected, spectral embedding\"\n",
      "C:\\Users\\huyus\\AppData\\Local\\Continuum\\anaconda3\\envs\\pytorch\\lib\\site-packages\\sklearn\\metrics\\cluster\\supervised.py:844: FutureWarning: The behavior of NMI will change in version 0.22. To match the behavior of 'v_measure_score', NMI will use average_method='arithmetic' by default.\n",
      "  FutureWarning)\n"
     ]
    },
    {
     "name": "stdout",
     "output_type": "stream",
     "text": [
      "n_neighbors: 5, NMI: 0.856, Purity: 0.770\n"
     ]
    },
    {
     "name": "stderr",
     "output_type": "stream",
     "text": [
      "C:\\Users\\huyus\\AppData\\Local\\Continuum\\anaconda3\\envs\\pytorch\\lib\\site-packages\\sklearn\\metrics\\cluster\\supervised.py:844: FutureWarning: The behavior of NMI will change in version 0.22. To match the behavior of 'v_measure_score', NMI will use average_method='arithmetic' by default.\n",
      "  FutureWarning)\n"
     ]
    },
    {
     "name": "stdout",
     "output_type": "stream",
     "text": [
      "n_neighbors: 10, NMI: 0.923, Purity: 0.874\n"
     ]
    },
    {
     "name": "stderr",
     "output_type": "stream",
     "text": [
      "C:\\Users\\huyus\\AppData\\Local\\Continuum\\anaconda3\\envs\\pytorch\\lib\\site-packages\\sklearn\\metrics\\cluster\\supervised.py:844: FutureWarning: The behavior of NMI will change in version 0.22. To match the behavior of 'v_measure_score', NMI will use average_method='arithmetic' by default.\n",
      "  FutureWarning)\n"
     ]
    },
    {
     "name": "stdout",
     "output_type": "stream",
     "text": [
      "n_neighbors: 50, NMI: 0.955, Purity: 0.974\n",
      "number of components: 60\n"
     ]
    },
    {
     "name": "stderr",
     "output_type": "stream",
     "text": [
      "C:\\Users\\huyus\\AppData\\Local\\Continuum\\anaconda3\\envs\\pytorch\\lib\\site-packages\\sklearn\\metrics\\cluster\\supervised.py:844: FutureWarning: The behavior of NMI will change in version 0.22. To match the behavior of 'v_measure_score', NMI will use average_method='arithmetic' by default.\n",
      "  FutureWarning)\n"
     ]
    },
    {
     "name": "stdout",
     "output_type": "stream",
     "text": [
      "K-means, NMI: 0.952, Purity: 0.971\n",
      "single, NMI: 0.042, Purity: 0.097\n",
      "complete, NMI: 0.874, Purity: 0.762\n",
      "average, NMI: 0.847, Purity: 0.633\n",
      "weighted, NMI: 0.832, Purity: 0.668\n",
      "centroid, NMI: 0.844, Purity: 0.630\n",
      "median, NMI: 0.845, Purity: 0.713\n",
      "ward, NMI: 0.953, Purity: 0.972\n"
     ]
    },
    {
     "name": "stderr",
     "output_type": "stream",
     "text": [
      "C:\\Users\\huyus\\AppData\\Local\\Continuum\\anaconda3\\envs\\pytorch\\lib\\site-packages\\sklearn\\manifold\\spectral_embedding_.py:237: UserWarning: Graph is not fully connected, spectral embedding may not work as expected.\n",
      "  warnings.warn(\"Graph is not fully connected, spectral embedding\"\n",
      "C:\\Users\\huyus\\AppData\\Local\\Continuum\\anaconda3\\envs\\pytorch\\lib\\site-packages\\sklearn\\metrics\\cluster\\supervised.py:844: FutureWarning: The behavior of NMI will change in version 0.22. To match the behavior of 'v_measure_score', NMI will use average_method='arithmetic' by default.\n",
      "  FutureWarning)\n"
     ]
    },
    {
     "name": "stdout",
     "output_type": "stream",
     "text": [
      "n_neighbors: 5, NMI: 0.879, Purity: 0.810\n"
     ]
    },
    {
     "name": "stderr",
     "output_type": "stream",
     "text": [
      "C:\\Users\\huyus\\AppData\\Local\\Continuum\\anaconda3\\envs\\pytorch\\lib\\site-packages\\sklearn\\metrics\\cluster\\supervised.py:844: FutureWarning: The behavior of NMI will change in version 0.22. To match the behavior of 'v_measure_score', NMI will use average_method='arithmetic' by default.\n",
      "  FutureWarning)\n"
     ]
    },
    {
     "name": "stdout",
     "output_type": "stream",
     "text": [
      "n_neighbors: 10, NMI: 0.927, Purity: 0.876\n",
      "n_neighbors: 50, NMI: 0.953, Purity: 0.974\n"
     ]
    },
    {
     "name": "stderr",
     "output_type": "stream",
     "text": [
      "C:\\Users\\huyus\\AppData\\Local\\Continuum\\anaconda3\\envs\\pytorch\\lib\\site-packages\\sklearn\\metrics\\cluster\\supervised.py:844: FutureWarning: The behavior of NMI will change in version 0.22. To match the behavior of 'v_measure_score', NMI will use average_method='arithmetic' by default.\n",
      "  FutureWarning)\n"
     ]
    }
   ],
   "source": [
    "from sklearn.manifold import Isomap\n",
    "\n",
    "ns_components = [20,40,60]\n",
    "for n_components in ns_components:\n",
    "    \n",
    "    print('number of components: {}'.format(n_components))\n",
    "    \n",
    "    embedding = Isomap(n_neighbors = 10, n_components = n_components)\n",
    "    embedding.fit(small_emb_signal)\n",
    "    \n",
    "    small_emb_pca = embedding.transform(small_emb_signal)\n",
    "    \n",
    "    \"\"\"\n",
    "    K-means clustering of embedding data\n",
    "    \"\"\"\n",
    "    pred = kmeans_cluster(small_emb_pca,len(small_index_list), n_rounds=10, maxrun=500)\n",
    "    _, cm, purity = get_purity(pred, small_num_labels)\n",
    "    nmi = get_nmi(pred, small_num_labels)\n",
    "    print(\"K-means, NMI: %.3f, Purity: %.3f\" % (nmi, purity))\n",
    "    \n",
    "    # hierarchical\n",
    "    methods = [\"single\" , \"complete\" , \"average\" , \"weighted\" , \"centroid\" , \"median\" , \"ward\"]\n",
    "    for thismethod in methods:\n",
    "        linkage_matrix, pred = hierarchical_cluster(small_emb_pca, n_clusters=len(small_index_list),method=thismethod, metric='cosine')\n",
    "        _, cm, purity = get_purity(pred, small_num_labels)\n",
    "        nmi = get_nmi(pred, small_num_labels)\n",
    "        print(\"%s, NMI: %.3f, Purity: %.3f\" % (thismethod,nmi, purity))\n",
    "    \n",
    "    # spectral\n",
    "    ns_neighbors = [5,10,50]\n",
    "    for n_neighbors in ns_neighbors:\n",
    "        clustering = SpectralClustering(n_clusters=len(small_index_list),affinity=\"nearest_neighbors\",\n",
    "                                        n_neighbors=n_neighbors).fit(small_emb_pca)\n",
    "        pred = clustering.labels_\n",
    "        _, cm, purity = get_purity(pred, small_num_labels)\n",
    "        nmi = get_nmi(pred, small_num_labels)\n",
    "        print(\"n_neighbors: %s, NMI: %.3f, Purity: %.3f\" % (n_neighbors,nmi, purity))"
   ]
  },
  {
   "cell_type": "markdown",
   "metadata": {},
   "source": [
    "# UMAP"
   ]
  },
  {
   "cell_type": "code",
   "execution_count": 9,
   "metadata": {},
   "outputs": [
    {
     "name": "stdout",
     "output_type": "stream",
     "text": [
      "number of components: 20\n"
     ]
    },
    {
     "name": "stderr",
     "output_type": "stream",
     "text": [
      "C:\\Users\\huyus\\AppData\\Local\\Continuum\\anaconda3\\envs\\tf_gpu\\lib\\site-packages\\sklearn\\metrics\\cluster\\supervised.py:844: FutureWarning: The behavior of NMI will change in version 0.22. To match the behavior of 'v_measure_score', NMI will use average_method='arithmetic' by default.\n",
      "  FutureWarning)\n"
     ]
    },
    {
     "name": "stdout",
     "output_type": "stream",
     "text": [
      "K-means, NMI: 0.952, Purity: 0.964\n",
      "single, NMI: 0.952, Purity: 0.963\n",
      "complete, NMI: 0.958, Purity: 0.973\n",
      "average, NMI: 0.952, Purity: 0.963\n",
      "weighted, NMI: 0.955, Purity: 0.943\n",
      "centroid, NMI: 0.952, Purity: 0.963\n",
      "median, NMI: 0.952, Purity: 0.963\n",
      "ward, NMI: 0.952, Purity: 0.963\n"
     ]
    },
    {
     "name": "stderr",
     "output_type": "stream",
     "text": [
      "C:\\Users\\huyus\\AppData\\Local\\Continuum\\anaconda3\\envs\\tf_gpu\\lib\\site-packages\\sklearn\\manifold\\spectral_embedding_.py:237: UserWarning: Graph is not fully connected, spectral embedding may not work as expected.\n",
      "  warnings.warn(\"Graph is not fully connected, spectral embedding\"\n",
      "C:\\Users\\huyus\\AppData\\Local\\Continuum\\anaconda3\\envs\\tf_gpu\\lib\\site-packages\\sklearn\\metrics\\cluster\\supervised.py:844: FutureWarning: The behavior of NMI will change in version 0.22. To match the behavior of 'v_measure_score', NMI will use average_method='arithmetic' by default.\n",
      "  FutureWarning)\n",
      "C:\\Users\\huyus\\AppData\\Local\\Continuum\\anaconda3\\envs\\tf_gpu\\lib\\site-packages\\sklearn\\manifold\\spectral_embedding_.py:237: UserWarning: Graph is not fully connected, spectral embedding may not work as expected.\n",
      "  warnings.warn(\"Graph is not fully connected, spectral embedding\"\n"
     ]
    },
    {
     "name": "stdout",
     "output_type": "stream",
     "text": [
      "n_neighbors: 5, NMI: 0.605, Purity: 0.406\n"
     ]
    },
    {
     "name": "stderr",
     "output_type": "stream",
     "text": [
      "C:\\Users\\huyus\\AppData\\Local\\Continuum\\anaconda3\\envs\\tf_gpu\\lib\\site-packages\\sklearn\\metrics\\cluster\\supervised.py:844: FutureWarning: The behavior of NMI will change in version 0.22. To match the behavior of 'v_measure_score', NMI will use average_method='arithmetic' by default.\n",
      "  FutureWarning)\n",
      "C:\\Users\\huyus\\AppData\\Local\\Continuum\\anaconda3\\envs\\tf_gpu\\lib\\site-packages\\sklearn\\manifold\\spectral_embedding_.py:237: UserWarning: Graph is not fully connected, spectral embedding may not work as expected.\n",
      "  warnings.warn(\"Graph is not fully connected, spectral embedding\"\n"
     ]
    },
    {
     "name": "stdout",
     "output_type": "stream",
     "text": [
      "n_neighbors: 10, NMI: 0.544, Purity: 0.387\n"
     ]
    },
    {
     "name": "stderr",
     "output_type": "stream",
     "text": [
      "C:\\Users\\huyus\\AppData\\Local\\Continuum\\anaconda3\\envs\\tf_gpu\\lib\\site-packages\\sklearn\\metrics\\cluster\\supervised.py:844: FutureWarning: The behavior of NMI will change in version 0.22. To match the behavior of 'v_measure_score', NMI will use average_method='arithmetic' by default.\n",
      "  FutureWarning)\n"
     ]
    },
    {
     "name": "stdout",
     "output_type": "stream",
     "text": [
      "n_neighbors: 50, NMI: 0.671, Purity: 0.548\n",
      "number of components: 40\n"
     ]
    },
    {
     "name": "stderr",
     "output_type": "stream",
     "text": [
      "C:\\Users\\huyus\\AppData\\Local\\Continuum\\anaconda3\\envs\\tf_gpu\\lib\\site-packages\\sklearn\\metrics\\cluster\\supervised.py:844: FutureWarning: The behavior of NMI will change in version 0.22. To match the behavior of 'v_measure_score', NMI will use average_method='arithmetic' by default.\n",
      "  FutureWarning)\n"
     ]
    },
    {
     "name": "stdout",
     "output_type": "stream",
     "text": [
      "K-means, NMI: 0.951, Purity: 0.963\n",
      "single, NMI: 0.951, Purity: 0.940\n",
      "complete, NMI: 0.955, Purity: 0.943\n",
      "average, NMI: 0.955, Purity: 0.943\n",
      "weighted, NMI: 0.955, Purity: 0.943\n",
      "centroid, NMI: 0.955, Purity: 0.943\n",
      "median, NMI: 0.955, Purity: 0.943\n",
      "ward, NMI: 0.959, Purity: 0.975\n"
     ]
    },
    {
     "name": "stderr",
     "output_type": "stream",
     "text": [
      "C:\\Users\\huyus\\AppData\\Local\\Continuum\\anaconda3\\envs\\tf_gpu\\lib\\site-packages\\sklearn\\manifold\\spectral_embedding_.py:237: UserWarning: Graph is not fully connected, spectral embedding may not work as expected.\n",
      "  warnings.warn(\"Graph is not fully connected, spectral embedding\"\n",
      "C:\\Users\\huyus\\AppData\\Local\\Continuum\\anaconda3\\envs\\tf_gpu\\lib\\site-packages\\sklearn\\metrics\\cluster\\supervised.py:844: FutureWarning: The behavior of NMI will change in version 0.22. To match the behavior of 'v_measure_score', NMI will use average_method='arithmetic' by default.\n",
      "  FutureWarning)\n",
      "C:\\Users\\huyus\\AppData\\Local\\Continuum\\anaconda3\\envs\\tf_gpu\\lib\\site-packages\\sklearn\\manifold\\spectral_embedding_.py:237: UserWarning: Graph is not fully connected, spectral embedding may not work as expected.\n",
      "  warnings.warn(\"Graph is not fully connected, spectral embedding\"\n"
     ]
    },
    {
     "name": "stdout",
     "output_type": "stream",
     "text": [
      "n_neighbors: 5, NMI: 0.645, Purity: 0.479\n"
     ]
    },
    {
     "name": "stderr",
     "output_type": "stream",
     "text": [
      "C:\\Users\\huyus\\AppData\\Local\\Continuum\\anaconda3\\envs\\tf_gpu\\lib\\site-packages\\sklearn\\metrics\\cluster\\supervised.py:844: FutureWarning: The behavior of NMI will change in version 0.22. To match the behavior of 'v_measure_score', NMI will use average_method='arithmetic' by default.\n",
      "  FutureWarning)\n",
      "C:\\Users\\huyus\\AppData\\Local\\Continuum\\anaconda3\\envs\\tf_gpu\\lib\\site-packages\\sklearn\\manifold\\spectral_embedding_.py:237: UserWarning: Graph is not fully connected, spectral embedding may not work as expected.\n",
      "  warnings.warn(\"Graph is not fully connected, spectral embedding\"\n"
     ]
    },
    {
     "name": "stdout",
     "output_type": "stream",
     "text": [
      "n_neighbors: 10, NMI: 0.709, Purity: 0.515\n"
     ]
    },
    {
     "name": "stderr",
     "output_type": "stream",
     "text": [
      "C:\\Users\\huyus\\AppData\\Local\\Continuum\\anaconda3\\envs\\tf_gpu\\lib\\site-packages\\sklearn\\metrics\\cluster\\supervised.py:844: FutureWarning: The behavior of NMI will change in version 0.22. To match the behavior of 'v_measure_score', NMI will use average_method='arithmetic' by default.\n",
      "  FutureWarning)\n"
     ]
    },
    {
     "name": "stdout",
     "output_type": "stream",
     "text": [
      "n_neighbors: 50, NMI: 0.628, Purity: 0.501\n",
      "number of components: 60\n"
     ]
    },
    {
     "name": "stderr",
     "output_type": "stream",
     "text": [
      "C:\\Users\\huyus\\AppData\\Local\\Continuum\\anaconda3\\envs\\tf_gpu\\lib\\site-packages\\sklearn\\metrics\\cluster\\supervised.py:844: FutureWarning: The behavior of NMI will change in version 0.22. To match the behavior of 'v_measure_score', NMI will use average_method='arithmetic' by default.\n",
      "  FutureWarning)\n"
     ]
    },
    {
     "name": "stdout",
     "output_type": "stream",
     "text": [
      "K-means, NMI: 0.952, Purity: 0.964\n",
      "single, NMI: 0.955, Purity: 0.943\n",
      "complete, NMI: 0.959, Purity: 0.975\n",
      "average, NMI: 0.955, Purity: 0.943\n",
      "weighted, NMI: 0.955, Purity: 0.943\n",
      "centroid, NMI: 0.952, Purity: 0.963\n",
      "median, NMI: 0.955, Purity: 0.943\n",
      "ward, NMI: 0.952, Purity: 0.963\n"
     ]
    },
    {
     "name": "stderr",
     "output_type": "stream",
     "text": [
      "C:\\Users\\huyus\\AppData\\Local\\Continuum\\anaconda3\\envs\\tf_gpu\\lib\\site-packages\\sklearn\\manifold\\spectral_embedding_.py:237: UserWarning: Graph is not fully connected, spectral embedding may not work as expected.\n",
      "  warnings.warn(\"Graph is not fully connected, spectral embedding\"\n",
      "C:\\Users\\huyus\\AppData\\Local\\Continuum\\anaconda3\\envs\\tf_gpu\\lib\\site-packages\\sklearn\\metrics\\cluster\\supervised.py:844: FutureWarning: The behavior of NMI will change in version 0.22. To match the behavior of 'v_measure_score', NMI will use average_method='arithmetic' by default.\n",
      "  FutureWarning)\n",
      "C:\\Users\\huyus\\AppData\\Local\\Continuum\\anaconda3\\envs\\tf_gpu\\lib\\site-packages\\sklearn\\manifold\\spectral_embedding_.py:237: UserWarning: Graph is not fully connected, spectral embedding may not work as expected.\n",
      "  warnings.warn(\"Graph is not fully connected, spectral embedding\"\n"
     ]
    },
    {
     "name": "stdout",
     "output_type": "stream",
     "text": [
      "n_neighbors: 5, NMI: 0.614, Purity: 0.412\n"
     ]
    },
    {
     "name": "stderr",
     "output_type": "stream",
     "text": [
      "C:\\Users\\huyus\\AppData\\Local\\Continuum\\anaconda3\\envs\\tf_gpu\\lib\\site-packages\\sklearn\\metrics\\cluster\\supervised.py:844: FutureWarning: The behavior of NMI will change in version 0.22. To match the behavior of 'v_measure_score', NMI will use average_method='arithmetic' by default.\n",
      "  FutureWarning)\n",
      "C:\\Users\\huyus\\AppData\\Local\\Continuum\\anaconda3\\envs\\tf_gpu\\lib\\site-packages\\sklearn\\manifold\\spectral_embedding_.py:237: UserWarning: Graph is not fully connected, spectral embedding may not work as expected.\n",
      "  warnings.warn(\"Graph is not fully connected, spectral embedding\"\n"
     ]
    },
    {
     "name": "stdout",
     "output_type": "stream",
     "text": [
      "n_neighbors: 10, NMI: 0.657, Purity: 0.430\n",
      "n_neighbors: 50, NMI: 0.723, Purity: 0.546\n"
     ]
    },
    {
     "name": "stderr",
     "output_type": "stream",
     "text": [
      "C:\\Users\\huyus\\AppData\\Local\\Continuum\\anaconda3\\envs\\tf_gpu\\lib\\site-packages\\sklearn\\metrics\\cluster\\supervised.py:844: FutureWarning: The behavior of NMI will change in version 0.22. To match the behavior of 'v_measure_score', NMI will use average_method='arithmetic' by default.\n",
      "  FutureWarning)\n"
     ]
    }
   ],
   "source": [
    "import umap\n",
    "\n",
    "ns_components = [20,40,60]\n",
    "for n_components in ns_components:\n",
    "    \n",
    "    print('number of components: {}'.format(n_components))\n",
    "    \n",
    "    small_emb_pca = umap.UMAP(\n",
    "        n_neighbors=30,\n",
    "        min_dist=0.0,\n",
    "        n_components=n_components,\n",
    "        random_state=42,\n",
    "        ).fit_transform(small_emb_signal)\n",
    "    \n",
    "    \"\"\"\n",
    "    K-means clustering of embedding data\n",
    "    \"\"\"\n",
    "    pred = kmeans_cluster(small_emb_pca,len(small_index_list), n_rounds=10, maxrun=500)\n",
    "    _, cm, purity = get_purity(pred, small_num_labels)\n",
    "    nmi = get_nmi(pred, small_num_labels)\n",
    "    print(\"K-means, NMI: %.3f, Purity: %.3f\" % (nmi, purity))\n",
    "    \n",
    "    # hierarchical\n",
    "    methods = [\"single\" , \"complete\" , \"average\" , \"weighted\" , \"centroid\" , \"median\" , \"ward\"]\n",
    "    for thismethod in methods:\n",
    "        linkage_matrix, pred = hierarchical_cluster(small_emb_pca, n_clusters=len(small_index_list),method=thismethod, metric='cosine')\n",
    "        _, cm, purity = get_purity(pred, small_num_labels)\n",
    "        nmi = get_nmi(pred, small_num_labels)\n",
    "        print(\"%s, NMI: %.3f, Purity: %.3f\" % (thismethod,nmi, purity))\n",
    "    \n",
    "    # spectral\n",
    "    ns_neighbors = [5,10,50]\n",
    "    for n_neighbors in ns_neighbors:\n",
    "        clustering = SpectralClustering(n_clusters=len(small_index_list),affinity=\"nearest_neighbors\",\n",
    "                                        n_neighbors=n_neighbors).fit(small_emb_pca)\n",
    "        pred = clustering.labels_\n",
    "        _, cm, purity = get_purity(pred, small_num_labels)\n",
    "        nmi = get_nmi(pred, small_num_labels)\n",
    "        print(\"n_neighbors: %s, NMI: %.3f, Purity: %.3f\" % (n_neighbors,nmi, purity))"
   ]
  },
  {
   "cell_type": "markdown",
   "metadata": {},
   "source": [
    "# VAE"
   ]
  },
  {
   "cell_type": "code",
   "execution_count": 15,
   "metadata": {},
   "outputs": [],
   "source": [
    "import torch\n",
    "import torch.nn as nn\n",
    "from utils import resize, x2p, JacobOptimizer, gen_solution\n",
    "from vae import VAE\n",
    "\n",
    "def vae_emb(train_data, n_components, lr=1.0e-3, batch_size=128,\n",
    "            epochs=15, kkl=1.0, kv=1.0, path='vae.pth'):\n",
    "    \"\"\"\n",
    "    Train and extract feature with VAE\n",
    "    ------\n",
    "    :in:\n",
    "    train_sub, tune_sub: 2d array of shape (n_data, n_dim), VAE training and tuning data\n",
    "    train_data, tune_data, test_data: 2d array of shape (n_data, n_dim), \n",
    "            training/tune/test set of the dataset, where trained VAE will be used to extract features\n",
    "    n_components: int, feature dimension\n",
    "    lr: float, learning rate (default: 0.001)\n",
    "    batch_size: int, batch size to train VAE (default: 128)\n",
    "    epochs: int, training epochs (default: 20)\n",
    "    kkl: float, weight on -KL(q(z|x)||p(z)) (default: 1.0)\n",
    "    kv: float, weight on variance term inside -KL(q(z|x)||p(z)) (default: 1.0)\n",
    "    path: string, path to save trained model (default: \"vae.pth\")\n",
    "    :out:\n",
    "    train_features, tune_features, test_features: \n",
    "            2d array of shape (n_data, n_dim), extracted features of the training/tune/test set\n",
    "    \"\"\"\n",
    "    print(\"Using VAE\")\n",
    "    clf = VAE(n_inputs=train_data.shape[1], n_components=n_components, lr=lr, batch_size=batch_size, \n",
    "              kkl=kkl, kv=kv, path=path)\n",
    "    clf.fit(train_data, Xd=train_data, epochs=epochs)\n",
    "    train_features = clf.transform(train_data)\n",
    "    return train_features\n"
   ]
  },
  {
   "cell_type": "code",
   "execution_count": 16,
   "metadata": {},
   "outputs": [
    {
     "name": "stdout",
     "output_type": "stream",
     "text": [
      "number of components: 20\n",
      "Using VAE\n",
      "Epoch: 1, train loss: 130.8399, dev loss: -67.5399\n",
      "Epoch: 2, train loss: -318.3705, dev loss: -467.5965\n",
      "Epoch: 3, train loss: -526.7205, dev loss: -615.2864\n",
      "Epoch: 4, train loss: -685.9757, dev loss: -765.9877\n",
      "Epoch: 5, train loss: -806.8402, dev loss: -828.8678\n",
      "Epoch: 6, train loss: -875.0787, dev loss: -878.2451\n",
      "Epoch: 7, train loss: -922.5767, dev loss: -936.3908\n",
      "Epoch: 8, train loss: -959.0911, dev loss: -962.7779\n",
      "Epoch: 9, train loss: -982.3153, dev loss: -1009.7185\n",
      "Epoch: 10, train loss: -1005.8849, dev loss: -1023.5032\n",
      "Epoch: 11, train loss: -1022.8022, dev loss: -1030.3994\n",
      "Epoch: 12, train loss: -1033.6484, dev loss: -1042.4079\n",
      "Epoch: 13, train loss: -1042.4227, dev loss: -1043.0618\n",
      "Epoch: 14, train loss: -1056.8500, dev loss: -1057.4690\n",
      "Epoch: 15, train loss: -1062.3711, dev loss: -1074.2908\n"
     ]
    },
    {
     "name": "stderr",
     "output_type": "stream",
     "text": [
      "C:\\Users\\huyus\\AppData\\Local\\Continuum\\anaconda3\\envs\\pytorch\\lib\\site-packages\\sklearn\\metrics\\cluster\\supervised.py:844: FutureWarning: The behavior of NMI will change in version 0.22. To match the behavior of 'v_measure_score', NMI will use average_method='arithmetic' by default.\n",
      "  FutureWarning)\n"
     ]
    },
    {
     "name": "stdout",
     "output_type": "stream",
     "text": [
      "K-means, NMI: 0.957, Purity: 0.974\n",
      "single, NMI: 0.406, Purity: 0.223\n",
      "complete, NMI: 0.940, Purity: 0.907\n",
      "average, NMI: 0.948, Purity: 0.913\n",
      "weighted, NMI: 0.943, Purity: 0.906\n",
      "centroid, NMI: 0.950, Purity: 0.914\n",
      "median, NMI: 0.937, Purity: 0.902\n",
      "ward, NMI: 0.959, Purity: 0.976\n"
     ]
    },
    {
     "name": "stderr",
     "output_type": "stream",
     "text": [
      "C:\\Users\\huyus\\AppData\\Local\\Continuum\\anaconda3\\envs\\pytorch\\lib\\site-packages\\sklearn\\manifold\\spectral_embedding_.py:237: UserWarning: Graph is not fully connected, spectral embedding may not work as expected.\n",
      "  warnings.warn(\"Graph is not fully connected, spectral embedding\"\n",
      "C:\\Users\\huyus\\AppData\\Local\\Continuum\\anaconda3\\envs\\pytorch\\lib\\site-packages\\sklearn\\metrics\\cluster\\supervised.py:844: FutureWarning: The behavior of NMI will change in version 0.22. To match the behavior of 'v_measure_score', NMI will use average_method='arithmetic' by default.\n",
      "  FutureWarning)\n",
      "C:\\Users\\huyus\\AppData\\Local\\Continuum\\anaconda3\\envs\\pytorch\\lib\\site-packages\\sklearn\\manifold\\spectral_embedding_.py:237: UserWarning: Graph is not fully connected, spectral embedding may not work as expected.\n",
      "  warnings.warn(\"Graph is not fully connected, spectral embedding\"\n"
     ]
    },
    {
     "name": "stdout",
     "output_type": "stream",
     "text": [
      "n_neighbors: 5, NMI: 0.955, Purity: 0.969\n"
     ]
    },
    {
     "name": "stderr",
     "output_type": "stream",
     "text": [
      "C:\\Users\\huyus\\AppData\\Local\\Continuum\\anaconda3\\envs\\pytorch\\lib\\site-packages\\sklearn\\metrics\\cluster\\supervised.py:844: FutureWarning: The behavior of NMI will change in version 0.22. To match the behavior of 'v_measure_score', NMI will use average_method='arithmetic' by default.\n",
      "  FutureWarning)\n"
     ]
    },
    {
     "name": "stdout",
     "output_type": "stream",
     "text": [
      "n_neighbors: 10, NMI: 0.956, Purity: 0.969\n"
     ]
    },
    {
     "name": "stderr",
     "output_type": "stream",
     "text": [
      "C:\\Users\\huyus\\AppData\\Local\\Continuum\\anaconda3\\envs\\pytorch\\lib\\site-packages\\sklearn\\metrics\\cluster\\supervised.py:844: FutureWarning: The behavior of NMI will change in version 0.22. To match the behavior of 'v_measure_score', NMI will use average_method='arithmetic' by default.\n",
      "  FutureWarning)\n"
     ]
    },
    {
     "name": "stdout",
     "output_type": "stream",
     "text": [
      "n_neighbors: 50, NMI: 0.956, Purity: 0.974\n",
      "number of components: 40\n",
      "Using VAE\n",
      "Epoch: 1, train loss: 91.3698, dev loss: -177.3769\n",
      "Epoch: 2, train loss: -397.5779, dev loss: -529.1767\n",
      "Epoch: 3, train loss: -585.3686, dev loss: -680.6679\n",
      "Epoch: 4, train loss: -749.3527, dev loss: -834.6692\n",
      "Epoch: 5, train loss: -862.9954, dev loss: -900.4326\n",
      "Epoch: 6, train loss: -932.0344, dev loss: -976.2217\n",
      "Epoch: 7, train loss: -983.6735, dev loss: -1014.3552\n",
      "Epoch: 8, train loss: -1012.6732, dev loss: -1041.3166\n",
      "Epoch: 9, train loss: -1040.2712, dev loss: -1027.7030\n",
      "Epoch: 10, train loss: -1053.9007, dev loss: -1065.4133\n",
      "Epoch: 11, train loss: -1073.2292, dev loss: -1072.5192\n",
      "Epoch: 12, train loss: -1090.4557, dev loss: -1111.8947\n",
      "Epoch: 13, train loss: -1108.3323, dev loss: -1074.9140\n",
      "Epoch: 14, train loss: -1110.3117, dev loss: -1113.1414\n",
      "Epoch: 15, train loss: -1116.3508, dev loss: -1135.4741\n"
     ]
    },
    {
     "name": "stderr",
     "output_type": "stream",
     "text": [
      "C:\\Users\\huyus\\AppData\\Local\\Continuum\\anaconda3\\envs\\pytorch\\lib\\site-packages\\sklearn\\metrics\\cluster\\supervised.py:844: FutureWarning: The behavior of NMI will change in version 0.22. To match the behavior of 'v_measure_score', NMI will use average_method='arithmetic' by default.\n",
      "  FutureWarning)\n"
     ]
    },
    {
     "name": "stdout",
     "output_type": "stream",
     "text": [
      "K-means, NMI: 0.958, Purity: 0.976\n",
      "single, NMI: 0.506, Purity: 0.255\n",
      "complete, NMI: 0.942, Purity: 0.935\n",
      "average, NMI: 0.937, Purity: 0.874\n",
      "weighted, NMI: 0.906, Purity: 0.794\n",
      "centroid, NMI: 0.945, Purity: 0.910\n",
      "median, NMI: 0.935, Purity: 0.896\n",
      "ward, NMI: 0.952, Purity: 0.967\n"
     ]
    },
    {
     "name": "stderr",
     "output_type": "stream",
     "text": [
      "C:\\Users\\huyus\\AppData\\Local\\Continuum\\anaconda3\\envs\\pytorch\\lib\\site-packages\\sklearn\\manifold\\spectral_embedding_.py:237: UserWarning: Graph is not fully connected, spectral embedding may not work as expected.\n",
      "  warnings.warn(\"Graph is not fully connected, spectral embedding\"\n",
      "C:\\Users\\huyus\\AppData\\Local\\Continuum\\anaconda3\\envs\\pytorch\\lib\\site-packages\\sklearn\\metrics\\cluster\\supervised.py:844: FutureWarning: The behavior of NMI will change in version 0.22. To match the behavior of 'v_measure_score', NMI will use average_method='arithmetic' by default.\n",
      "  FutureWarning)\n",
      "C:\\Users\\huyus\\AppData\\Local\\Continuum\\anaconda3\\envs\\pytorch\\lib\\site-packages\\sklearn\\manifold\\spectral_embedding_.py:237: UserWarning: Graph is not fully connected, spectral embedding may not work as expected.\n",
      "  warnings.warn(\"Graph is not fully connected, spectral embedding\"\n"
     ]
    },
    {
     "name": "stdout",
     "output_type": "stream",
     "text": [
      "n_neighbors: 5, NMI: 0.942, Purity: 0.944\n"
     ]
    },
    {
     "name": "stderr",
     "output_type": "stream",
     "text": [
      "C:\\Users\\huyus\\AppData\\Local\\Continuum\\anaconda3\\envs\\pytorch\\lib\\site-packages\\sklearn\\metrics\\cluster\\supervised.py:844: FutureWarning: The behavior of NMI will change in version 0.22. To match the behavior of 'v_measure_score', NMI will use average_method='arithmetic' by default.\n",
      "  FutureWarning)\n"
     ]
    },
    {
     "name": "stdout",
     "output_type": "stream",
     "text": [
      "n_neighbors: 10, NMI: 0.955, Purity: 0.969\n",
      "n_neighbors: 50, NMI: 0.957, Purity: 0.975\n",
      "number of components: 60\n",
      "Using VAE\n"
     ]
    },
    {
     "name": "stderr",
     "output_type": "stream",
     "text": [
      "C:\\Users\\huyus\\AppData\\Local\\Continuum\\anaconda3\\envs\\pytorch\\lib\\site-packages\\sklearn\\metrics\\cluster\\supervised.py:844: FutureWarning: The behavior of NMI will change in version 0.22. To match the behavior of 'v_measure_score', NMI will use average_method='arithmetic' by default.\n",
      "  FutureWarning)\n"
     ]
    },
    {
     "name": "stdout",
     "output_type": "stream",
     "text": [
      "Epoch: 1, train loss: 82.6494, dev loss: -220.7902\n",
      "Epoch: 2, train loss: -415.1893, dev loss: -526.7405\n",
      "Epoch: 3, train loss: -606.4137, dev loss: -734.3769\n",
      "Epoch: 4, train loss: -792.5793, dev loss: -852.9787\n",
      "Epoch: 5, train loss: -895.1815, dev loss: -907.9085\n",
      "Epoch: 6, train loss: -957.9191, dev loss: -993.4873\n",
      "Epoch: 7, train loss: -1004.3383, dev loss: -1016.7790\n",
      "Epoch: 8, train loss: -1037.7700, dev loss: -1071.9671\n",
      "Epoch: 9, train loss: -1064.2841, dev loss: -1057.0439\n",
      "Epoch: 10, train loss: -1077.9058, dev loss: -1097.2211\n",
      "Epoch: 11, train loss: -1095.9349, dev loss: -1068.4504\n",
      "Epoch: 12, train loss: -1110.4140, dev loss: -1130.8194\n",
      "Epoch: 13, train loss: -1127.5626, dev loss: -1144.5508\n",
      "Epoch: 14, train loss: -1134.3293, dev loss: -1134.8095\n",
      "Epoch: 15, train loss: -1143.6568, dev loss: -1164.6706\n"
     ]
    },
    {
     "name": "stderr",
     "output_type": "stream",
     "text": [
      "C:\\Users\\huyus\\AppData\\Local\\Continuum\\anaconda3\\envs\\pytorch\\lib\\site-packages\\sklearn\\metrics\\cluster\\supervised.py:844: FutureWarning: The behavior of NMI will change in version 0.22. To match the behavior of 'v_measure_score', NMI will use average_method='arithmetic' by default.\n",
      "  FutureWarning)\n"
     ]
    },
    {
     "name": "stdout",
     "output_type": "stream",
     "text": [
      "K-means, NMI: 0.956, Purity: 0.975\n",
      "single, NMI: 0.504, Purity: 0.256\n",
      "complete, NMI: 0.941, Purity: 0.934\n",
      "average, NMI: 0.936, Purity: 0.874\n",
      "weighted, NMI: 0.932, Purity: 0.902\n",
      "centroid, NMI: 0.936, Purity: 0.874\n",
      "median, NMI: 0.917, Purity: 0.834\n",
      "ward, NMI: 0.962, Purity: 0.978\n"
     ]
    },
    {
     "name": "stderr",
     "output_type": "stream",
     "text": [
      "C:\\Users\\huyus\\AppData\\Local\\Continuum\\anaconda3\\envs\\pytorch\\lib\\site-packages\\sklearn\\manifold\\spectral_embedding_.py:237: UserWarning: Graph is not fully connected, spectral embedding may not work as expected.\n",
      "  warnings.warn(\"Graph is not fully connected, spectral embedding\"\n",
      "C:\\Users\\huyus\\AppData\\Local\\Continuum\\anaconda3\\envs\\pytorch\\lib\\site-packages\\sklearn\\metrics\\cluster\\supervised.py:844: FutureWarning: The behavior of NMI will change in version 0.22. To match the behavior of 'v_measure_score', NMI will use average_method='arithmetic' by default.\n",
      "  FutureWarning)\n",
      "C:\\Users\\huyus\\AppData\\Local\\Continuum\\anaconda3\\envs\\pytorch\\lib\\site-packages\\sklearn\\manifold\\spectral_embedding_.py:237: UserWarning: Graph is not fully connected, spectral embedding may not work as expected.\n",
      "  warnings.warn(\"Graph is not fully connected, spectral embedding\"\n"
     ]
    },
    {
     "name": "stdout",
     "output_type": "stream",
     "text": [
      "n_neighbors: 5, NMI: 0.960, Purity: 0.977\n"
     ]
    },
    {
     "name": "stderr",
     "output_type": "stream",
     "text": [
      "C:\\Users\\huyus\\AppData\\Local\\Continuum\\anaconda3\\envs\\pytorch\\lib\\site-packages\\sklearn\\metrics\\cluster\\supervised.py:844: FutureWarning: The behavior of NMI will change in version 0.22. To match the behavior of 'v_measure_score', NMI will use average_method='arithmetic' by default.\n",
      "  FutureWarning)\n"
     ]
    },
    {
     "name": "stdout",
     "output_type": "stream",
     "text": [
      "n_neighbors: 10, NMI: 0.955, Purity: 0.968\n"
     ]
    },
    {
     "name": "stderr",
     "output_type": "stream",
     "text": [
      "C:\\Users\\huyus\\AppData\\Local\\Continuum\\anaconda3\\envs\\pytorch\\lib\\site-packages\\sklearn\\manifold\\spectral_embedding_.py:237: UserWarning: Graph is not fully connected, spectral embedding may not work as expected.\n",
      "  warnings.warn(\"Graph is not fully connected, spectral embedding\"\n"
     ]
    },
    {
     "name": "stdout",
     "output_type": "stream",
     "text": [
      "n_neighbors: 50, NMI: 0.958, Purity: 0.976\n"
     ]
    },
    {
     "name": "stderr",
     "output_type": "stream",
     "text": [
      "C:\\Users\\huyus\\AppData\\Local\\Continuum\\anaconda3\\envs\\pytorch\\lib\\site-packages\\sklearn\\metrics\\cluster\\supervised.py:844: FutureWarning: The behavior of NMI will change in version 0.22. To match the behavior of 'v_measure_score', NMI will use average_method='arithmetic' by default.\n",
      "  FutureWarning)\n"
     ]
    }
   ],
   "source": [
    "ns_components = [20,40,60]\n",
    "for n_components in ns_components:\n",
    "    \n",
    "    print('number of components: {}'.format(n_components))\n",
    "    \n",
    "    small_emb_pca = vae_emb(small_emb_signal,n_components)\n",
    "    \n",
    "    \"\"\"\n",
    "    K-means clustering of embedding data\n",
    "    \"\"\"\n",
    "    pred = kmeans_cluster(small_emb_pca,len(small_index_list), n_rounds=10, maxrun=500)\n",
    "    _, cm, purity = get_purity(pred, small_num_labels)\n",
    "    nmi = get_nmi(pred, small_num_labels)\n",
    "    print(\"K-means, NMI: %.3f, Purity: %.3f\" % (nmi, purity))\n",
    "    \n",
    "    # hierarchical\n",
    "    methods = [\"single\" , \"complete\" , \"average\" , \"weighted\" , \"centroid\" , \"median\" , \"ward\"]\n",
    "    for thismethod in methods:\n",
    "        linkage_matrix, pred = hierarchical_cluster(small_emb_pca, n_clusters=len(small_index_list),method=thismethod, metric='cosine')\n",
    "        _, cm, purity = get_purity(pred, small_num_labels)\n",
    "        nmi = get_nmi(pred, small_num_labels)\n",
    "        print(\"%s, NMI: %.3f, Purity: %.3f\" % (thismethod,nmi, purity))\n",
    "    \n",
    "    # spectral\n",
    "    ns_neighbors = [5,10,50]\n",
    "    for n_neighbors in ns_neighbors:\n",
    "        clustering = SpectralClustering(n_clusters=len(small_index_list),affinity=\"nearest_neighbors\",\n",
    "                                        n_neighbors=n_neighbors).fit(small_emb_pca)\n",
    "        pred = clustering.labels_\n",
    "        _, cm, purity = get_purity(pred, small_num_labels)\n",
    "        nmi = get_nmi(pred, small_num_labels)\n",
    "        print(\"n_neighbors: %s, NMI: %.3f, Purity: %.3f\" % (n_neighbors,nmi, purity))"
   ]
  },
  {
   "cell_type": "code",
   "execution_count": null,
   "metadata": {},
   "outputs": [],
   "source": []
  }
 ],
 "metadata": {
  "kernelspec": {
   "display_name": "Python 3",
   "language": "python",
   "name": "python3"
  },
  "language_info": {
   "codemirror_mode": {
    "name": "ipython",
    "version": 3
   },
   "file_extension": ".py",
   "mimetype": "text/x-python",
   "name": "python",
   "nbconvert_exporter": "python",
   "pygments_lexer": "ipython3",
   "version": "3.6.7"
  }
 },
 "nbformat": 4,
 "nbformat_minor": 2
}
