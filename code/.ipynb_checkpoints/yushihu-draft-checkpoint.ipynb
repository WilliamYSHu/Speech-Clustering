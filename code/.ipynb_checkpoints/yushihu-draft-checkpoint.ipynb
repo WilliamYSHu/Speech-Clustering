{
 "cells": [
  {
   "cell_type": "code",
   "execution_count": 1,
   "metadata": {},
   "outputs": [],
   "source": [
    "%matplotlib inline\n",
    "import numpy as np\n",
    "from matplotlib import pyplot as plt\n",
    "from sklearn.cluster import KMeans\n",
    "from scipy.cluster.hierarchy import linkage\n",
    "from scipy.spatial.distance import pdist\n",
    "from numpy.random import permutation as rpm"
   ]
  },
  {
   "cell_type": "code",
   "execution_count": 2,
   "metadata": {},
   "outputs": [],
   "source": [
    "# load data\n",
    "data=np.load('data/swbd.npy').item()"
   ]
  },
  {
   "cell_type": "code",
   "execution_count": 3,
   "metadata": {},
   "outputs": [],
   "source": [
    "train_x = data['train']['data']\n",
    "train_y_raw = data['train']['labels']\n",
    "train_y = [label.split('_')[0] for label in train_y_raw]\n",
    "dev_x = data['dev']['data']\n",
    "dev_y_raw = data['dev']['labels']\n",
    "dev_y = [label.split('_')[0] for label in dev_y_raw]\n",
    "test_x = data['test']['data']\n",
    "test_y_raw = data['test']['labels']\n",
    "test_y = [label.split('_')[0] for label in test_y_raw]"
   ]
  },
  {
   "cell_type": "code",
   "execution_count": 4,
   "metadata": {},
   "outputs": [
    {
     "name": "stdout",
     "output_type": "stream",
     "text": [
      "<class 'numpy.ndarray'>\n"
     ]
    }
   ],
   "source": [
    "print(type(train_x[0]))"
   ]
  },
  {
   "cell_type": "code",
   "execution_count": 5,
   "metadata": {},
   "outputs": [
    {
     "name": "stdout",
     "output_type": "stream",
     "text": [
      "abandoned\n",
      "abandoned\n"
     ]
    }
   ],
   "source": [
    "print(train_y[0])\n",
    "print(train_y[1])"
   ]
  },
  {
   "cell_type": "code",
   "execution_count": 6,
   "metadata": {},
   "outputs": [
    {
     "name": "stdout",
     "output_type": "stream",
     "text": [
      "<class 'list'>\n"
     ]
    }
   ],
   "source": [
    "print(type(train_y))"
   ]
  },
  {
   "cell_type": "code",
   "execution_count": 7,
   "metadata": {},
   "outputs": [],
   "source": [
    "wordSet = set()\n",
    "for word in train_y:\n",
    "    wordSet.add(word)"
   ]
  },
  {
   "cell_type": "code",
   "execution_count": 8,
   "metadata": {},
   "outputs": [
    {
     "name": "stdout",
     "output_type": "stream",
     "text": [
      "1687\n"
     ]
    }
   ],
   "source": [
    "print(len(wordSet))"
   ]
  },
  {
   "cell_type": "code",
   "execution_count": 9,
   "metadata": {},
   "outputs": [
    {
     "name": "stdout",
     "output_type": "stream",
     "text": [
      "6204\n"
     ]
    }
   ],
   "source": [
    "signals = train_x+dev_x+test_x\n",
    "labels = train_y+dev_y+test_y\n",
    "wordSet = set()\n",
    "for word in labels:\n",
    "    wordSet.add(word)\n",
    "print(len(wordSet))"
   ]
  },
  {
   "cell_type": "code",
   "execution_count": null,
   "metadata": {},
   "outputs": [],
   "source": [
    "wordBags = dict()\n",
    "\n"
   ]
  },
  {
   "cell_type": "code",
   "execution_count": 15,
   "metadata": {},
   "outputs": [],
   "source": [
    "# load embedding data\n",
    "data = np.load('data/swbd_embeddings.npy').item()"
   ]
  },
  {
   "cell_type": "code",
   "execution_count": 20,
   "metadata": {},
   "outputs": [],
   "source": [
    "train_x = data['train']['embs']\n",
    "train_y_raw = data['train']['labels']\n",
    "train_y = [label.split('_')[0] for label in train_y_raw]\n",
    "dev_x = data['dev']['embs']\n",
    "dev_y_raw = data['dev']['labels']\n",
    "dev_y = [label.split('_')[0] for label in dev_y_raw]\n",
    "test_x = data['test']['embs']\n",
    "test_y_raw = data['test']['labels']\n",
    "test_y = [label.split('_')[0] for label in test_y_raw]\n",
    "\n",
    "# used in clustering\n",
    "emb_signals = np.concatenate((train_x,dev_x,test_x), axis = 0) # tuple of numpy.ndarray  31961 * [time*39]\n",
    "labels = train_y+dev_y+test_y  # labels. tuple of strings 31961. e.g. 'abandoned'"
   ]
  },
  {
   "cell_type": "code",
   "execution_count": 21,
   "metadata": {},
   "outputs": [
    {
     "name": "stdout",
     "output_type": "stream",
     "text": [
      "(31961, 512)\n"
     ]
    }
   ],
   "source": [
    "print(emb_signals.shape)"
   ]
  },
  {
   "cell_type": "code",
   "execution_count": null,
   "metadata": {},
   "outputs": [],
   "source": []
  }
 ],
 "metadata": {
  "kernelspec": {
   "display_name": "Python 3",
   "language": "python",
   "name": "python3"
  },
  "language_info": {
   "codemirror_mode": {
    "name": "ipython",
    "version": 3
   },
   "file_extension": ".py",
   "mimetype": "text/x-python",
   "name": "python",
   "nbconvert_exporter": "python",
   "pygments_lexer": "ipython3",
   "version": "3.6.7"
  }
 },
 "nbformat": 4,
 "nbformat_minor": 2
}
