{
 "cells": [
  {
   "cell_type": "code",
   "execution_count": 2,
   "metadata": {},
   "outputs": [],
   "source": [
    "%matplotlib inline\n",
    "import utils\n",
    "import numpy as np\n",
    "from matplotlib import pyplot as plt\n",
    "from sklearn.cluster import KMeans, SpectralClustering\n",
    "from scipy.cluster.hierarchy import linkage\n",
    "from scipy.spatial.distance import pdist\n",
    "from numpy.random import permutation as rpm\n",
    "from plot import plot_images, plot_dendrogram, plot_confusion_matrix\n",
    "from utils import resize, sample_index, gen_solution, get_purity, get_nmi\n",
    "from clustering import kmeans_cluster, hierarchical_cluster"
   ]
  },
  {
   "cell_type": "markdown",
   "metadata": {},
   "source": [
    "# Loading Signal Data"
   ]
  },
  {
   "cell_type": "code",
   "execution_count": 3,
   "metadata": {},
   "outputs": [
    {
     "name": "stdout",
     "output_type": "stream",
     "text": [
      "number of signals: 31961\n",
      "number of labels: 31961\n"
     ]
    }
   ],
   "source": [
    "# load raw signal data\n",
    "data=np.load('../data/swbd_test2.npy').item()\n",
    "train_x = data['train']['data']\n",
    "train_y_raw = data['train']['labels']\n",
    "train_y = [label.split('_')[0] for label in train_y_raw]\n",
    "dev_x = data['dev']['data']\n",
    "dev_y_raw = data['dev']['labels']\n",
    "dev_y = [label.split('_')[0] for label in dev_y_raw]\n",
    "test_x = list(data['test']['data'])\n",
    "test_y_raw = data['test']['labels']\n",
    "test_y = [label.split('_')[0] for label in test_y_raw]\n",
    "\n",
    "# used in clustering\n",
    "signals = train_x+dev_x+test_x # tuple of numpy.ndarray  31961 * [time*39]\n",
    "labels = train_y+dev_y+test_y  # labels. tuple of strings 31961. e.g. 'abandoned'\n",
    "\n",
    "print('number of signals: {}'.format(len(signals)))\n",
    "print('number of labels: {}'.format(len(labels)))"
   ]
  },
  {
   "cell_type": "code",
   "execution_count": 4,
   "metadata": {},
   "outputs": [
    {
     "name": "stdout",
     "output_type": "stream",
     "text": [
      "total number of words is 6204\n"
     ]
    }
   ],
   "source": [
    "# count number of words. Change strings to numeric labels\n",
    "wordSet = set()\n",
    "for word in labels:\n",
    "    wordSet.add(word)\n",
    "print('total number of words is {}'.format(len(wordSet)))\n",
    "\n",
    "# make a list. let list index be the numeric label of word\n",
    "wordList = list(wordSet)\n",
    "\n",
    "# numeric label of signals\n",
    "numLabels = np.array(list(map(lambda x: wordList.index(x), labels)))"
   ]
  },
  {
   "cell_type": "code",
   "execution_count": 5,
   "metadata": {},
   "outputs": [
    {
     "name": "stdout",
     "output_type": "stream",
     "text": [
      "[('because', 340), ('recycling', 315), ('benefits', 259), ('something', 230), ('exactly', 228), ('probably', 225), ('insurance', 196), ('punishment', 190), ('everything', 174), ('company', 149), ('sometimes', 144), ('interesting', 143), ('recycle', 143), ('situation', 141), ('problem', 139), ('anything', 131), ('plastic', 127), ('actually', 125), ('understand', 123), ('vacation', 123)]\n",
      "total number of series: 3645\n"
     ]
    }
   ],
   "source": [
    "wordBags = dict()\n",
    "for word in labels:\n",
    "    if word in wordBags:\n",
    "        wordBags[word] += 1\n",
    "    else:\n",
    "        wordBags[word] = 1\n",
    "sorted_by_value = sorted(wordBags.items(), key=lambda kv: -kv[1])\n",
    "print(sorted_by_value[:20])\n",
    "print('total number of series: {}'.format(sum([x[1] for x in sorted_by_value[:20]])))"
   ]
  },
  {
   "cell_type": "markdown",
   "metadata": {},
   "source": [
    "# Loading Embedding Data"
   ]
  },
  {
   "cell_type": "code",
   "execution_count": 6,
   "metadata": {},
   "outputs": [
    {
     "name": "stdout",
     "output_type": "stream",
     "text": [
      "shape of embeddings: (31961, 512)\n"
     ]
    }
   ],
   "source": [
    "# load embedding data\n",
    "emb_data = np.load('../data/swbd_rest_embeddings.npy').item()\n",
    "emb_train_x = emb_data['train']['embs']\n",
    "emb_train_y_raw = emb_data['train']['labels']\n",
    "emb_train_y = [label.split('_')[0] for label in train_y_raw]\n",
    "emb_dev_x = emb_data['dev']['embs']\n",
    "emb_dev_y_raw = emb_data['dev']['labels']\n",
    "emb_dev_y = [label.split('_')[0] for label in dev_y_raw]\n",
    "emb_test_x = emb_data['test']['embs']\n",
    "emb_test_y_raw = emb_data['test']['labels']\n",
    "emb_test_y = [label.split('_')[0] for label in test_y_raw]\n",
    "\n",
    "# labels are the same. Use the embedding matrix in clustering\n",
    "emb_signals = np.concatenate((emb_train_x,emb_dev_x,emb_test_x), axis = 0) # np.ndarray 31961*512\n",
    "print('shape of embeddings: {}'.format(emb_signals.shape))"
   ]
  },
  {
   "cell_type": "markdown",
   "metadata": {},
   "source": [
    "# Small raw data and small labels"
   ]
  },
  {
   "cell_type": "code",
   "execution_count": 7,
   "metadata": {},
   "outputs": [],
   "source": [
    "# get the small data set\n",
    "small_index_list = [x[0] for x in sorted_by_value[:20]]\n",
    "small_raw_signal = []\n",
    "small_emb_data = []\n",
    "small_num_labels = []\n",
    "for i in range(len(labels)):\n",
    "    if labels[i] in small_index_list:\n",
    "        small_raw_signal.append(signals[i])\n",
    "        small_emb_data.append(emb_signals[i,:])\n",
    "        small_num_labels.append(small_index_list.index(labels[i]))"
   ]
  },
  {
   "cell_type": "code",
   "execution_count": 8,
   "metadata": {},
   "outputs": [],
   "source": [
    "# concatinate the embeded signal to make a data matrix\n",
    "small_emb_signal = np.zeros((len(small_emb_data), 512))\n",
    "for i in range(len(small_emb_data)):\n",
    "    small_emb_signal[i] = small_emb_data[i]"
   ]
  },
  {
   "cell_type": "markdown",
   "metadata": {},
   "source": [
    "Small data summary: \n",
    "1. small_index_list: array with length 20. Used as a reference for numeric label\n",
    "\n",
    "    ['because', 'recycling', 'benefits', 'something', 'exactly', 'probably', \n",
    "    'insurance', 'punishment', 'everything', 'company', 'sometimes',\n",
    "    'interesting', 'recycle', 'situation', 'problem', 'anything', \n",
    "    'plastic', 'actually', 'understand', 'vacation']\n",
    "                 \n",
    "                 \n",
    "2. small_raw_signal: # list of numpy.ndarray  3645 * [time*39]\n",
    "\n",
    "3. small_emb_signal: # numpy.ndarray 3645 * 512\n",
    "\n",
    "4. small_num_labels: # array with length 3645. Numeric Label for each signal.\n",
    "\n",
    "The signals of embedding coordinate with signals of raw data"
   ]
  },
  {
   "cell_type": "code",
   "execution_count": 9,
   "metadata": {},
   "outputs": [],
   "source": [
    "# word labels for better presentation\n",
    "small_labels = [small_index_list[x] for x in small_num_labels]"
   ]
  },
  {
   "cell_type": "markdown",
   "metadata": {},
   "source": [
    "# Play with signal embeddings : PCA"
   ]
  },
  {
   "cell_type": "code",
   "execution_count": 13,
   "metadata": {},
   "outputs": [],
   "source": [
    "from __future__ import print_function, division, absolute_import\n",
    "\n",
    "%matplotlib inline\n",
    "from matplotlib import pyplot as plt\n",
    "import numpy as np\n",
    "import datetime\n",
    "import math\n",
    "import os\n",
    "import argparse\n",
    "import time\n",
    "import sklearn\n",
    "import scipy.io as sio\n",
    "from scipy.linalg import sqrtm,eigh\n",
    "from plot import plot_images, plot_embedding, plot_embedding_annotation, plot_confusion_matrix\n",
    "from utils import resize"
   ]
  },
  {
   "cell_type": "code",
   "execution_count": 14,
   "metadata": {},
   "outputs": [],
   "source": [
    "class PCA(object):\n",
    "    def __init__(self, n_components):\n",
    "        \"\"\"\n",
    "        Set up PCA\n",
    "        ------\n",
    "        :in:\n",
    "        n_components: number of components to keep\n",
    "        \"\"\"\n",
    "        self.n_components = n_components\n",
    "\n",
    "    def fit(self, X):\n",
    "        \"\"\"\n",
    "        TODO: fit the model with training data\n",
    "        --------\n",
    "        :in: \n",
    "        X, 2d-array of shape (n_samples, n_features): data matrix\n",
    "        \"\"\"\n",
    "        n_features = X.shape[1]\n",
    "        n_samples = X.shape[0]\n",
    "        self.W = np.zeros((self.n_components, n_features))\n",
    "        self.mu = np.zeros(n_features)\n",
    "        # TODO: Compute projection matrix W and data mean mu\n",
    "        self.mu = np.mean(X,axis=0)\n",
    "        centerX = X - self.mu\n",
    "        S = centerX.T.dot(centerX)/n_samples\n",
    "        w,v = eigh(S,eigvals=(n_features-self.n_components,n_features-1))\n",
    "        self.W = np.flip(v.T,0)\n",
    "        \n",
    "        return\n",
    "\n",
    "        \n",
    "    def transform(self, X):\n",
    "        \"\"\"\n",
    "        TODO: apply PCA on X\n",
    "        --------\n",
    "        :in: \n",
    "        X, 2d-array of shape (n_samples, n_features): data matrix\n",
    "        :out:\n",
    "        Z, 2d-array of shape (n_samples, n_components): feature matrix\n",
    "        \"\"\"\n",
    "        return (X-self.mu).dot(self.W.T)\n",
    "    \n",
    "    def reconstruct(self, Z):\n",
    "        \"\"\"\n",
    "        TODO: transform feature Z back to its original space\n",
    "        --------\n",
    "        :in: \n",
    "        Z, 2d-array of shape (n_samples, n_components): feature matrix\n",
    "        :out:\n",
    "        X, 2d-array of shape (n_samples, n_features): reconstructed data matrix\n",
    "        \"\"\" \n",
    "        return Z.dot(self.W) + self.mu"
   ]
  },
  {
   "cell_type": "code",
   "execution_count": 17,
   "metadata": {},
   "outputs": [
    {
     "name": "stdout",
     "output_type": "stream",
     "text": [
      "number of components: 20\n"
     ]
    },
    {
     "name": "stderr",
     "output_type": "stream",
     "text": [
      "C:\\Users\\huyus\\AppData\\Local\\Continuum\\anaconda3\\envs\\tf_gpu\\lib\\site-packages\\sklearn\\metrics\\cluster\\supervised.py:844: FutureWarning: The behavior of NMI will change in version 0.22. To match the behavior of 'v_measure_score', NMI will use average_method='arithmetic' by default.\n",
      "  FutureWarning)\n"
     ]
    },
    {
     "name": "stdout",
     "output_type": "stream",
     "text": [
      "K-means, NMI: 0.883, Purity: 0.904\n",
      "single, NMI: 0.041, Purity: 0.098\n",
      "complete, NMI: 0.842, Purity: 0.845\n",
      "average, NMI: 0.867, Purity: 0.806\n",
      "weighted, NMI: 0.839, Purity: 0.815\n",
      "centroid, NMI: 0.861, Purity: 0.809\n",
      "median, NMI: 0.795, Purity: 0.695\n",
      "ward, NMI: 0.875, Purity: 0.886\n"
     ]
    },
    {
     "name": "stderr",
     "output_type": "stream",
     "text": [
      "C:\\Users\\huyus\\AppData\\Local\\Continuum\\anaconda3\\envs\\tf_gpu\\lib\\site-packages\\sklearn\\metrics\\cluster\\supervised.py:844: FutureWarning: The behavior of NMI will change in version 0.22. To match the behavior of 'v_measure_score', NMI will use average_method='arithmetic' by default.\n",
      "  FutureWarning)\n"
     ]
    },
    {
     "name": "stdout",
     "output_type": "stream",
     "text": [
      "n_neighbors: 5, NMI: 0.874, Purity: 0.882\n"
     ]
    },
    {
     "name": "stderr",
     "output_type": "stream",
     "text": [
      "C:\\Users\\huyus\\AppData\\Local\\Continuum\\anaconda3\\envs\\tf_gpu\\lib\\site-packages\\sklearn\\metrics\\cluster\\supervised.py:844: FutureWarning: The behavior of NMI will change in version 0.22. To match the behavior of 'v_measure_score', NMI will use average_method='arithmetic' by default.\n",
      "  FutureWarning)\n"
     ]
    },
    {
     "name": "stdout",
     "output_type": "stream",
     "text": [
      "n_neighbors: 10, NMI: 0.877, Purity: 0.884\n"
     ]
    },
    {
     "name": "stderr",
     "output_type": "stream",
     "text": [
      "C:\\Users\\huyus\\AppData\\Local\\Continuum\\anaconda3\\envs\\tf_gpu\\lib\\site-packages\\sklearn\\metrics\\cluster\\supervised.py:844: FutureWarning: The behavior of NMI will change in version 0.22. To match the behavior of 'v_measure_score', NMI will use average_method='arithmetic' by default.\n",
      "  FutureWarning)\n"
     ]
    },
    {
     "name": "stdout",
     "output_type": "stream",
     "text": [
      "n_neighbors: 50, NMI: 0.879, Purity: 0.892\n",
      "number of components: 40\n"
     ]
    },
    {
     "name": "stderr",
     "output_type": "stream",
     "text": [
      "C:\\Users\\huyus\\AppData\\Local\\Continuum\\anaconda3\\envs\\tf_gpu\\lib\\site-packages\\sklearn\\metrics\\cluster\\supervised.py:844: FutureWarning: The behavior of NMI will change in version 0.22. To match the behavior of 'v_measure_score', NMI will use average_method='arithmetic' by default.\n",
      "  FutureWarning)\n"
     ]
    },
    {
     "name": "stdout",
     "output_type": "stream",
     "text": [
      "K-means, NMI: 0.883, Purity: 0.903\n",
      "single, NMI: 0.041, Purity: 0.098\n",
      "complete, NMI: 0.803, Purity: 0.770\n",
      "average, NMI: 0.855, Purity: 0.775\n",
      "weighted, NMI: 0.800, Purity: 0.764\n",
      "centroid, NMI: 0.839, Purity: 0.742\n",
      "median, NMI: 0.717, Purity: 0.573\n",
      "ward, NMI: 0.859, Purity: 0.851\n"
     ]
    },
    {
     "name": "stderr",
     "output_type": "stream",
     "text": [
      "C:\\Users\\huyus\\AppData\\Local\\Continuum\\anaconda3\\envs\\tf_gpu\\lib\\site-packages\\sklearn\\metrics\\cluster\\supervised.py:844: FutureWarning: The behavior of NMI will change in version 0.22. To match the behavior of 'v_measure_score', NMI will use average_method='arithmetic' by default.\n",
      "  FutureWarning)\n"
     ]
    },
    {
     "name": "stdout",
     "output_type": "stream",
     "text": [
      "n_neighbors: 5, NMI: 0.882, Purity: 0.890\n"
     ]
    },
    {
     "name": "stderr",
     "output_type": "stream",
     "text": [
      "C:\\Users\\huyus\\AppData\\Local\\Continuum\\anaconda3\\envs\\tf_gpu\\lib\\site-packages\\sklearn\\metrics\\cluster\\supervised.py:844: FutureWarning: The behavior of NMI will change in version 0.22. To match the behavior of 'v_measure_score', NMI will use average_method='arithmetic' by default.\n",
      "  FutureWarning)\n"
     ]
    },
    {
     "name": "stdout",
     "output_type": "stream",
     "text": [
      "n_neighbors: 10, NMI: 0.883, Purity: 0.890\n"
     ]
    },
    {
     "name": "stderr",
     "output_type": "stream",
     "text": [
      "C:\\Users\\huyus\\AppData\\Local\\Continuum\\anaconda3\\envs\\tf_gpu\\lib\\site-packages\\sklearn\\metrics\\cluster\\supervised.py:844: FutureWarning: The behavior of NMI will change in version 0.22. To match the behavior of 'v_measure_score', NMI will use average_method='arithmetic' by default.\n",
      "  FutureWarning)\n"
     ]
    },
    {
     "name": "stdout",
     "output_type": "stream",
     "text": [
      "n_neighbors: 50, NMI: 0.884, Purity: 0.895\n",
      "number of components: 60\n"
     ]
    },
    {
     "name": "stderr",
     "output_type": "stream",
     "text": [
      "C:\\Users\\huyus\\AppData\\Local\\Continuum\\anaconda3\\envs\\tf_gpu\\lib\\site-packages\\sklearn\\metrics\\cluster\\supervised.py:844: FutureWarning: The behavior of NMI will change in version 0.22. To match the behavior of 'v_measure_score', NMI will use average_method='arithmetic' by default.\n",
      "  FutureWarning)\n"
     ]
    },
    {
     "name": "stdout",
     "output_type": "stream",
     "text": [
      "K-means, NMI: 0.873, Purity: 0.888\n",
      "single, NMI: 0.040, Purity: 0.098\n",
      "complete, NMI: 0.780, Purity: 0.723\n",
      "average, NMI: 0.826, Purity: 0.735\n",
      "weighted, NMI: 0.801, Purity: 0.738\n",
      "centroid, NMI: 0.820, Purity: 0.698\n",
      "median, NMI: 0.595, Purity: 0.370\n",
      "ward, NMI: 0.865, Purity: 0.888\n"
     ]
    },
    {
     "name": "stderr",
     "output_type": "stream",
     "text": [
      "C:\\Users\\huyus\\AppData\\Local\\Continuum\\anaconda3\\envs\\tf_gpu\\lib\\site-packages\\sklearn\\metrics\\cluster\\supervised.py:844: FutureWarning: The behavior of NMI will change in version 0.22. To match the behavior of 'v_measure_score', NMI will use average_method='arithmetic' by default.\n",
      "  FutureWarning)\n"
     ]
    },
    {
     "name": "stdout",
     "output_type": "stream",
     "text": [
      "n_neighbors: 5, NMI: 0.897, Purity: 0.901\n"
     ]
    },
    {
     "name": "stderr",
     "output_type": "stream",
     "text": [
      "C:\\Users\\huyus\\AppData\\Local\\Continuum\\anaconda3\\envs\\tf_gpu\\lib\\site-packages\\sklearn\\metrics\\cluster\\supervised.py:844: FutureWarning: The behavior of NMI will change in version 0.22. To match the behavior of 'v_measure_score', NMI will use average_method='arithmetic' by default.\n",
      "  FutureWarning)\n"
     ]
    },
    {
     "name": "stdout",
     "output_type": "stream",
     "text": [
      "n_neighbors: 10, NMI: 0.882, Purity: 0.890\n",
      "n_neighbors: 50, NMI: 0.881, Purity: 0.893\n"
     ]
    },
    {
     "name": "stderr",
     "output_type": "stream",
     "text": [
      "C:\\Users\\huyus\\AppData\\Local\\Continuum\\anaconda3\\envs\\tf_gpu\\lib\\site-packages\\sklearn\\metrics\\cluster\\supervised.py:844: FutureWarning: The behavior of NMI will change in version 0.22. To match the behavior of 'v_measure_score', NMI will use average_method='arithmetic' by default.\n",
      "  FutureWarning)\n"
     ]
    }
   ],
   "source": [
    "ns_components = [20,40,60]\n",
    "for n_components in ns_components:\n",
    "    pca = PCA(n_components)\n",
    "    print('number of components: {}'.format(n_components))\n",
    "\n",
    "    # train\n",
    "    pca.fit(small_emb_signal)\n",
    "\n",
    "    # transform\n",
    "    small_emb_pca = pca.transform(small_emb_signal)\n",
    "    \n",
    "    \"\"\"\n",
    "    K-means clustering of embedding data\n",
    "    \"\"\"\n",
    "    pred = kmeans_cluster(small_emb_pca,len(small_index_list), n_rounds=10, maxrun=500)\n",
    "    _, cm, purity = get_purity(pred, small_num_labels)\n",
    "    nmi = get_nmi(pred, small_num_labels)\n",
    "    print(\"K-means, NMI: %.3f, Purity: %.3f\" % (nmi, purity))\n",
    "    \n",
    "    # hierarchical\n",
    "    methods = [\"single\" , \"complete\" , \"average\" , \"weighted\" , \"centroid\" , \"median\" , \"ward\"]\n",
    "    for thismethod in methods:\n",
    "        linkage_matrix, pred = hierarchical_cluster(small_emb_pca, n_clusters=len(small_index_list),method=thismethod, metric='cosine')\n",
    "        _, cm, purity = get_purity(pred, small_num_labels)\n",
    "        nmi = get_nmi(pred, small_num_labels)\n",
    "        print(\"%s, NMI: %.3f, Purity: %.3f\" % (thismethod,nmi, purity))\n",
    "    \n",
    "    # spectral\n",
    "    ns_neighbors = [5,10,50]\n",
    "    for n_neighbors in ns_neighbors:\n",
    "        clustering = SpectralClustering(n_clusters=len(small_index_list),affinity=\"nearest_neighbors\",\n",
    "                                        n_neighbors=n_neighbors).fit(small_emb_pca)\n",
    "        pred = clustering.labels_\n",
    "        _, cm, purity = get_purity(pred, small_num_labels)\n",
    "        nmi = get_nmi(pred, small_num_labels)\n",
    "        print(\"n_neighbors: %s, NMI: %.3f, Purity: %.3f\" % (n_neighbors,nmi, purity))\n",
    "    \n",
    "    "
   ]
  },
  {
   "cell_type": "markdown",
   "metadata": {},
   "source": [
    "# KPCA"
   ]
  },
  {
   "cell_type": "code",
   "execution_count": 18,
   "metadata": {},
   "outputs": [
    {
     "name": "stdout",
     "output_type": "stream",
     "text": [
      "number of components: 20\n"
     ]
    },
    {
     "name": "stderr",
     "output_type": "stream",
     "text": [
      "C:\\Users\\huyus\\AppData\\Local\\Continuum\\anaconda3\\envs\\tf_gpu\\lib\\site-packages\\sklearn\\metrics\\cluster\\supervised.py:844: FutureWarning: The behavior of NMI will change in version 0.22. To match the behavior of 'v_measure_score', NMI will use average_method='arithmetic' by default.\n",
      "  FutureWarning)\n"
     ]
    },
    {
     "name": "stdout",
     "output_type": "stream",
     "text": [
      "K-means, NMI: 0.883, Purity: 0.904\n",
      "single, NMI: 0.042, Purity: 0.098\n",
      "complete, NMI: 0.851, Purity: 0.840\n",
      "average, NMI: 0.857, Purity: 0.805\n",
      "weighted, NMI: 0.847, Purity: 0.827\n",
      "centroid, NMI: 0.862, Purity: 0.833\n",
      "median, NMI: 0.796, Purity: 0.753\n",
      "ward, NMI: 0.880, Purity: 0.892\n"
     ]
    },
    {
     "name": "stderr",
     "output_type": "stream",
     "text": [
      "C:\\Users\\huyus\\AppData\\Local\\Continuum\\anaconda3\\envs\\tf_gpu\\lib\\site-packages\\sklearn\\metrics\\cluster\\supervised.py:844: FutureWarning: The behavior of NMI will change in version 0.22. To match the behavior of 'v_measure_score', NMI will use average_method='arithmetic' by default.\n",
      "  FutureWarning)\n"
     ]
    },
    {
     "name": "stdout",
     "output_type": "stream",
     "text": [
      "n_neighbors: 5, NMI: 0.873, Purity: 0.883\n"
     ]
    },
    {
     "name": "stderr",
     "output_type": "stream",
     "text": [
      "C:\\Users\\huyus\\AppData\\Local\\Continuum\\anaconda3\\envs\\tf_gpu\\lib\\site-packages\\sklearn\\metrics\\cluster\\supervised.py:844: FutureWarning: The behavior of NMI will change in version 0.22. To match the behavior of 'v_measure_score', NMI will use average_method='arithmetic' by default.\n",
      "  FutureWarning)\n"
     ]
    },
    {
     "name": "stdout",
     "output_type": "stream",
     "text": [
      "n_neighbors: 10, NMI: 0.876, Purity: 0.884\n"
     ]
    },
    {
     "name": "stderr",
     "output_type": "stream",
     "text": [
      "C:\\Users\\huyus\\AppData\\Local\\Continuum\\anaconda3\\envs\\tf_gpu\\lib\\site-packages\\sklearn\\metrics\\cluster\\supervised.py:844: FutureWarning: The behavior of NMI will change in version 0.22. To match the behavior of 'v_measure_score', NMI will use average_method='arithmetic' by default.\n",
      "  FutureWarning)\n"
     ]
    },
    {
     "name": "stdout",
     "output_type": "stream",
     "text": [
      "n_neighbors: 50, NMI: 0.869, Purity: 0.881\n",
      "number of components: 40\n"
     ]
    },
    {
     "name": "stderr",
     "output_type": "stream",
     "text": [
      "C:\\Users\\huyus\\AppData\\Local\\Continuum\\anaconda3\\envs\\tf_gpu\\lib\\site-packages\\sklearn\\metrics\\cluster\\supervised.py:844: FutureWarning: The behavior of NMI will change in version 0.22. To match the behavior of 'v_measure_score', NMI will use average_method='arithmetic' by default.\n",
      "  FutureWarning)\n"
     ]
    },
    {
     "name": "stdout",
     "output_type": "stream",
     "text": [
      "K-means, NMI: 0.884, Purity: 0.898\n",
      "single, NMI: 0.041, Purity: 0.098\n",
      "complete, NMI: 0.808, Purity: 0.775\n",
      "average, NMI: 0.855, Purity: 0.776\n",
      "weighted, NMI: 0.807, Purity: 0.727\n",
      "centroid, NMI: 0.850, Purity: 0.746\n",
      "median, NMI: 0.705, Purity: 0.576\n",
      "ward, NMI: 0.860, Purity: 0.882\n"
     ]
    },
    {
     "name": "stderr",
     "output_type": "stream",
     "text": [
      "C:\\Users\\huyus\\AppData\\Local\\Continuum\\anaconda3\\envs\\tf_gpu\\lib\\site-packages\\sklearn\\metrics\\cluster\\supervised.py:844: FutureWarning: The behavior of NMI will change in version 0.22. To match the behavior of 'v_measure_score', NMI will use average_method='arithmetic' by default.\n",
      "  FutureWarning)\n"
     ]
    },
    {
     "name": "stdout",
     "output_type": "stream",
     "text": [
      "n_neighbors: 5, NMI: 0.883, Purity: 0.893\n"
     ]
    },
    {
     "name": "stderr",
     "output_type": "stream",
     "text": [
      "C:\\Users\\huyus\\AppData\\Local\\Continuum\\anaconda3\\envs\\tf_gpu\\lib\\site-packages\\sklearn\\metrics\\cluster\\supervised.py:844: FutureWarning: The behavior of NMI will change in version 0.22. To match the behavior of 'v_measure_score', NMI will use average_method='arithmetic' by default.\n",
      "  FutureWarning)\n"
     ]
    },
    {
     "name": "stdout",
     "output_type": "stream",
     "text": [
      "n_neighbors: 10, NMI: 0.879, Purity: 0.888\n"
     ]
    },
    {
     "name": "stderr",
     "output_type": "stream",
     "text": [
      "C:\\Users\\huyus\\AppData\\Local\\Continuum\\anaconda3\\envs\\tf_gpu\\lib\\site-packages\\sklearn\\metrics\\cluster\\supervised.py:844: FutureWarning: The behavior of NMI will change in version 0.22. To match the behavior of 'v_measure_score', NMI will use average_method='arithmetic' by default.\n",
      "  FutureWarning)\n"
     ]
    },
    {
     "name": "stdout",
     "output_type": "stream",
     "text": [
      "n_neighbors: 50, NMI: 0.879, Purity: 0.891\n",
      "number of components: 60\n"
     ]
    },
    {
     "name": "stderr",
     "output_type": "stream",
     "text": [
      "C:\\Users\\huyus\\AppData\\Local\\Continuum\\anaconda3\\envs\\tf_gpu\\lib\\site-packages\\sklearn\\metrics\\cluster\\supervised.py:844: FutureWarning: The behavior of NMI will change in version 0.22. To match the behavior of 'v_measure_score', NMI will use average_method='arithmetic' by default.\n",
      "  FutureWarning)\n"
     ]
    },
    {
     "name": "stdout",
     "output_type": "stream",
     "text": [
      "K-means, NMI: 0.883, Purity: 0.901\n",
      "single, NMI: 0.041, Purity: 0.098\n",
      "complete, NMI: 0.786, Purity: 0.746\n",
      "average, NMI: 0.853, Purity: 0.773\n",
      "weighted, NMI: 0.807, Purity: 0.761\n",
      "centroid, NMI: 0.848, Purity: 0.744\n",
      "median, NMI: 0.385, Purity: 0.234\n",
      "ward, NMI: 0.866, Purity: 0.887\n"
     ]
    },
    {
     "name": "stderr",
     "output_type": "stream",
     "text": [
      "C:\\Users\\huyus\\AppData\\Local\\Continuum\\anaconda3\\envs\\tf_gpu\\lib\\site-packages\\sklearn\\metrics\\cluster\\supervised.py:844: FutureWarning: The behavior of NMI will change in version 0.22. To match the behavior of 'v_measure_score', NMI will use average_method='arithmetic' by default.\n",
      "  FutureWarning)\n"
     ]
    },
    {
     "name": "stdout",
     "output_type": "stream",
     "text": [
      "n_neighbors: 5, NMI: 0.887, Purity: 0.897\n"
     ]
    },
    {
     "name": "stderr",
     "output_type": "stream",
     "text": [
      "C:\\Users\\huyus\\AppData\\Local\\Continuum\\anaconda3\\envs\\tf_gpu\\lib\\site-packages\\sklearn\\metrics\\cluster\\supervised.py:844: FutureWarning: The behavior of NMI will change in version 0.22. To match the behavior of 'v_measure_score', NMI will use average_method='arithmetic' by default.\n",
      "  FutureWarning)\n"
     ]
    },
    {
     "name": "stdout",
     "output_type": "stream",
     "text": [
      "n_neighbors: 10, NMI: 0.882, Purity: 0.891\n",
      "n_neighbors: 50, NMI: 0.881, Purity: 0.894\n"
     ]
    },
    {
     "name": "stderr",
     "output_type": "stream",
     "text": [
      "C:\\Users\\huyus\\AppData\\Local\\Continuum\\anaconda3\\envs\\tf_gpu\\lib\\site-packages\\sklearn\\metrics\\cluster\\supervised.py:844: FutureWarning: The behavior of NMI will change in version 0.22. To match the behavior of 'v_measure_score', NMI will use average_method='arithmetic' by default.\n",
      "  FutureWarning)\n"
     ]
    }
   ],
   "source": [
    "from sklearn.decomposition import KernelPCA\n",
    "\n",
    "ns_components = [20,40,60]\n",
    "for n_components in ns_components:\n",
    "    \n",
    "    print('number of components: {}'.format(n_components))\n",
    "    \n",
    "    embedding = KernelPCA(n_components=n_components, kernel='rbf')\n",
    "    embedding.fit(small_emb_signal)\n",
    "    \n",
    "    small_emb_pca = embedding.transform(small_emb_signal)\n",
    "    \n",
    "    \"\"\"\n",
    "    K-means clustering of embedding data\n",
    "    \"\"\"\n",
    "    pred = kmeans_cluster(small_emb_pca,len(small_index_list), n_rounds=10, maxrun=500)\n",
    "    _, cm, purity = get_purity(pred, small_num_labels)\n",
    "    nmi = get_nmi(pred, small_num_labels)\n",
    "    print(\"K-means, NMI: %.3f, Purity: %.3f\" % (nmi, purity))\n",
    "    \n",
    "    # hierarchical\n",
    "    methods = [\"single\" , \"complete\" , \"average\" , \"weighted\" , \"centroid\" , \"median\" , \"ward\"]\n",
    "    for thismethod in methods:\n",
    "        linkage_matrix, pred = hierarchical_cluster(small_emb_pca, n_clusters=len(small_index_list),method=thismethod, metric='cosine')\n",
    "        _, cm, purity = get_purity(pred, small_num_labels)\n",
    "        nmi = get_nmi(pred, small_num_labels)\n",
    "        print(\"%s, NMI: %.3f, Purity: %.3f\" % (thismethod,nmi, purity))\n",
    "    \n",
    "    # spectral\n",
    "    ns_neighbors = [5,10,50]\n",
    "    for n_neighbors in ns_neighbors:\n",
    "        clustering = SpectralClustering(n_clusters=len(small_index_list),affinity=\"nearest_neighbors\",\n",
    "                                        n_neighbors=n_neighbors).fit(small_emb_pca)\n",
    "        pred = clustering.labels_\n",
    "        _, cm, purity = get_purity(pred, small_num_labels)\n",
    "        nmi = get_nmi(pred, small_num_labels)\n",
    "        print(\"n_neighbors: %s, NMI: %.3f, Purity: %.3f\" % (n_neighbors,nmi, purity))"
   ]
  },
  {
   "cell_type": "markdown",
   "metadata": {},
   "source": [
    "# Isomap"
   ]
  },
  {
   "cell_type": "code",
   "execution_count": 24,
   "metadata": {},
   "outputs": [
    {
     "name": "stdout",
     "output_type": "stream",
     "text": [
      "number of components: 20\n"
     ]
    },
    {
     "name": "stderr",
     "output_type": "stream",
     "text": [
      "C:\\Users\\huyus\\AppData\\Local\\Continuum\\anaconda3\\envs\\tf_gpu\\lib\\site-packages\\sklearn\\metrics\\cluster\\supervised.py:844: FutureWarning: The behavior of NMI will change in version 0.22. To match the behavior of 'v_measure_score', NMI will use average_method='arithmetic' by default.\n",
      "  FutureWarning)\n"
     ]
    },
    {
     "name": "stdout",
     "output_type": "stream",
     "text": [
      "K-means, NMI: 0.878, Purity: 0.893\n",
      "single, NMI: 0.041, Purity: 0.098\n",
      "complete, NMI: 0.806, Purity: 0.727\n",
      "average, NMI: 0.848, Purity: 0.769\n",
      "weighted, NMI: 0.793, Purity: 0.719\n",
      "centroid, NMI: 0.841, Purity: 0.737\n",
      "median, NMI: 0.768, Purity: 0.671\n",
      "ward, NMI: 0.869, Purity: 0.881\n"
     ]
    },
    {
     "name": "stderr",
     "output_type": "stream",
     "text": [
      "C:\\Users\\huyus\\AppData\\Local\\Continuum\\anaconda3\\envs\\tf_gpu\\lib\\site-packages\\sklearn\\metrics\\cluster\\supervised.py:844: FutureWarning: The behavior of NMI will change in version 0.22. To match the behavior of 'v_measure_score', NMI will use average_method='arithmetic' by default.\n",
      "  FutureWarning)\n"
     ]
    },
    {
     "name": "stdout",
     "output_type": "stream",
     "text": [
      "n_neighbors: 5, NMI: 0.853, Purity: 0.834\n"
     ]
    },
    {
     "name": "stderr",
     "output_type": "stream",
     "text": [
      "C:\\Users\\huyus\\AppData\\Local\\Continuum\\anaconda3\\envs\\tf_gpu\\lib\\site-packages\\sklearn\\metrics\\cluster\\supervised.py:844: FutureWarning: The behavior of NMI will change in version 0.22. To match the behavior of 'v_measure_score', NMI will use average_method='arithmetic' by default.\n",
      "  FutureWarning)\n"
     ]
    },
    {
     "name": "stdout",
     "output_type": "stream",
     "text": [
      "n_neighbors: 10, NMI: 0.879, Purity: 0.891\n"
     ]
    },
    {
     "name": "stderr",
     "output_type": "stream",
     "text": [
      "C:\\Users\\huyus\\AppData\\Local\\Continuum\\anaconda3\\envs\\tf_gpu\\lib\\site-packages\\sklearn\\metrics\\cluster\\supervised.py:844: FutureWarning: The behavior of NMI will change in version 0.22. To match the behavior of 'v_measure_score', NMI will use average_method='arithmetic' by default.\n",
      "  FutureWarning)\n"
     ]
    },
    {
     "name": "stdout",
     "output_type": "stream",
     "text": [
      "n_neighbors: 50, NMI: 0.875, Purity: 0.888\n",
      "number of components: 40\n"
     ]
    },
    {
     "name": "stderr",
     "output_type": "stream",
     "text": [
      "C:\\Users\\huyus\\AppData\\Local\\Continuum\\anaconda3\\envs\\tf_gpu\\lib\\site-packages\\sklearn\\metrics\\cluster\\supervised.py:844: FutureWarning: The behavior of NMI will change in version 0.22. To match the behavior of 'v_measure_score', NMI will use average_method='arithmetic' by default.\n",
      "  FutureWarning)\n"
     ]
    },
    {
     "name": "stdout",
     "output_type": "stream",
     "text": [
      "K-means, NMI: 0.881, Purity: 0.897\n",
      "single, NMI: 0.043, Purity: 0.098\n",
      "complete, NMI: 0.800, Purity: 0.751\n",
      "average, NMI: 0.838, Purity: 0.733\n",
      "weighted, NMI: 0.789, Purity: 0.742\n",
      "centroid, NMI: 0.825, Purity: 0.675\n",
      "median, NMI: 0.754, Purity: 0.644\n",
      "ward, NMI: 0.861, Purity: 0.877\n"
     ]
    },
    {
     "name": "stderr",
     "output_type": "stream",
     "text": [
      "C:\\Users\\huyus\\AppData\\Local\\Continuum\\anaconda3\\envs\\tf_gpu\\lib\\site-packages\\sklearn\\metrics\\cluster\\supervised.py:844: FutureWarning: The behavior of NMI will change in version 0.22. To match the behavior of 'v_measure_score', NMI will use average_method='arithmetic' by default.\n",
      "  FutureWarning)\n"
     ]
    },
    {
     "name": "stdout",
     "output_type": "stream",
     "text": [
      "n_neighbors: 5, NMI: 0.855, Purity: 0.812\n"
     ]
    },
    {
     "name": "stderr",
     "output_type": "stream",
     "text": [
      "C:\\Users\\huyus\\AppData\\Local\\Continuum\\anaconda3\\envs\\tf_gpu\\lib\\site-packages\\sklearn\\metrics\\cluster\\supervised.py:844: FutureWarning: The behavior of NMI will change in version 0.22. To match the behavior of 'v_measure_score', NMI will use average_method='arithmetic' by default.\n",
      "  FutureWarning)\n"
     ]
    },
    {
     "name": "stdout",
     "output_type": "stream",
     "text": [
      "n_neighbors: 10, NMI: 0.884, Purity: 0.896\n"
     ]
    },
    {
     "name": "stderr",
     "output_type": "stream",
     "text": [
      "C:\\Users\\huyus\\AppData\\Local\\Continuum\\anaconda3\\envs\\tf_gpu\\lib\\site-packages\\sklearn\\metrics\\cluster\\supervised.py:844: FutureWarning: The behavior of NMI will change in version 0.22. To match the behavior of 'v_measure_score', NMI will use average_method='arithmetic' by default.\n",
      "  FutureWarning)\n"
     ]
    },
    {
     "name": "stdout",
     "output_type": "stream",
     "text": [
      "n_neighbors: 50, NMI: 0.875, Purity: 0.889\n",
      "number of components: 60\n"
     ]
    },
    {
     "name": "stderr",
     "output_type": "stream",
     "text": [
      "C:\\Users\\huyus\\AppData\\Local\\Continuum\\anaconda3\\envs\\tf_gpu\\lib\\site-packages\\sklearn\\metrics\\cluster\\supervised.py:844: FutureWarning: The behavior of NMI will change in version 0.22. To match the behavior of 'v_measure_score', NMI will use average_method='arithmetic' by default.\n",
      "  FutureWarning)\n"
     ]
    },
    {
     "name": "stdout",
     "output_type": "stream",
     "text": [
      "K-means, NMI: 0.878, Purity: 0.895\n",
      "single, NMI: 0.041, Purity: 0.098\n",
      "complete, NMI: 0.777, Purity: 0.732\n",
      "average, NMI: 0.828, Purity: 0.729\n",
      "weighted, NMI: 0.787, Purity: 0.733\n",
      "centroid, NMI: 0.816, Purity: 0.671\n",
      "median, NMI: 0.616, Purity: 0.448\n",
      "ward, NMI: 0.860, Purity: 0.876\n"
     ]
    },
    {
     "name": "stderr",
     "output_type": "stream",
     "text": [
      "C:\\Users\\huyus\\AppData\\Local\\Continuum\\anaconda3\\envs\\tf_gpu\\lib\\site-packages\\sklearn\\metrics\\cluster\\supervised.py:844: FutureWarning: The behavior of NMI will change in version 0.22. To match the behavior of 'v_measure_score', NMI will use average_method='arithmetic' by default.\n",
      "  FutureWarning)\n"
     ]
    },
    {
     "name": "stdout",
     "output_type": "stream",
     "text": [
      "n_neighbors: 5, NMI: 0.864, Purity: 0.830\n"
     ]
    },
    {
     "name": "stderr",
     "output_type": "stream",
     "text": [
      "C:\\Users\\huyus\\AppData\\Local\\Continuum\\anaconda3\\envs\\tf_gpu\\lib\\site-packages\\sklearn\\metrics\\cluster\\supervised.py:844: FutureWarning: The behavior of NMI will change in version 0.22. To match the behavior of 'v_measure_score', NMI will use average_method='arithmetic' by default.\n",
      "  FutureWarning)\n"
     ]
    },
    {
     "name": "stdout",
     "output_type": "stream",
     "text": [
      "n_neighbors: 10, NMI: 0.868, Purity: 0.860\n",
      "n_neighbors: 50, NMI: 0.874, Purity: 0.889\n"
     ]
    },
    {
     "name": "stderr",
     "output_type": "stream",
     "text": [
      "C:\\Users\\huyus\\AppData\\Local\\Continuum\\anaconda3\\envs\\tf_gpu\\lib\\site-packages\\sklearn\\metrics\\cluster\\supervised.py:844: FutureWarning: The behavior of NMI will change in version 0.22. To match the behavior of 'v_measure_score', NMI will use average_method='arithmetic' by default.\n",
      "  FutureWarning)\n"
     ]
    }
   ],
   "source": [
    "from sklearn.manifold import Isomap\n",
    "\n",
    "ns_components = [20,40,60]\n",
    "for n_components in ns_components:\n",
    "    \n",
    "    print('number of components: {}'.format(n_components))\n",
    "    \n",
    "    embedding = Isomap(n_neighbors = 10, n_components = n_components)\n",
    "    embedding.fit(small_emb_signal)\n",
    "    \n",
    "    small_emb_pca = embedding.transform(small_emb_signal)\n",
    "    \n",
    "    \"\"\"\n",
    "    K-means clustering of embedding data\n",
    "    \"\"\"\n",
    "    pred = kmeans_cluster(small_emb_pca,len(small_index_list), n_rounds=10, maxrun=500)\n",
    "    _, cm, purity = get_purity(pred, small_num_labels)\n",
    "    nmi = get_nmi(pred, small_num_labels)\n",
    "    print(\"K-means, NMI: %.3f, Purity: %.3f\" % (nmi, purity))\n",
    "    \n",
    "    # hierarchical\n",
    "    methods = [\"single\" , \"complete\" , \"average\" , \"weighted\" , \"centroid\" , \"median\" , \"ward\"]\n",
    "    for thismethod in methods:\n",
    "        linkage_matrix, pred = hierarchical_cluster(small_emb_pca, n_clusters=len(small_index_list),method=thismethod, metric='cosine')\n",
    "        _, cm, purity = get_purity(pred, small_num_labels)\n",
    "        nmi = get_nmi(pred, small_num_labels)\n",
    "        print(\"%s, NMI: %.3f, Purity: %.3f\" % (thismethod,nmi, purity))\n",
    "    \n",
    "    # spectral\n",
    "    ns_neighbors = [5,10,50]\n",
    "    for n_neighbors in ns_neighbors:\n",
    "        clustering = SpectralClustering(n_clusters=len(small_index_list),affinity=\"nearest_neighbors\",\n",
    "                                        n_neighbors=n_neighbors).fit(small_emb_pca)\n",
    "        pred = clustering.labels_\n",
    "        _, cm, purity = get_purity(pred, small_num_labels)\n",
    "        nmi = get_nmi(pred, small_num_labels)\n",
    "        print(\"n_neighbors: %s, NMI: %.3f, Purity: %.3f\" % (n_neighbors,nmi, purity))"
   ]
  },
  {
   "cell_type": "markdown",
   "metadata": {},
   "source": [
    "# UMAP"
   ]
  },
  {
   "cell_type": "code",
   "execution_count": 25,
   "metadata": {},
   "outputs": [
    {
     "name": "stdout",
     "output_type": "stream",
     "text": [
      "number of components: 20\n"
     ]
    },
    {
     "name": "stderr",
     "output_type": "stream",
     "text": [
      "C:\\Users\\huyus\\AppData\\Local\\Continuum\\anaconda3\\envs\\tf_gpu\\lib\\site-packages\\sklearn\\metrics\\cluster\\supervised.py:844: FutureWarning: The behavior of NMI will change in version 0.22. To match the behavior of 'v_measure_score', NMI will use average_method='arithmetic' by default.\n",
      "  FutureWarning)\n"
     ]
    },
    {
     "name": "stdout",
     "output_type": "stream",
     "text": [
      "K-means, NMI: 0.891, Purity: 0.904\n",
      "single, NMI: 0.898, Purity: 0.859\n",
      "complete, NMI: 0.892, Purity: 0.886\n",
      "average, NMI: 0.892, Purity: 0.886\n",
      "weighted, NMI: 0.892, Purity: 0.885\n",
      "centroid, NMI: 0.892, Purity: 0.886\n",
      "median, NMI: 0.888, Purity: 0.877\n",
      "ward, NMI: 0.893, Purity: 0.886\n"
     ]
    },
    {
     "name": "stderr",
     "output_type": "stream",
     "text": [
      "C:\\Users\\huyus\\AppData\\Local\\Continuum\\anaconda3\\envs\\tf_gpu\\lib\\site-packages\\sklearn\\manifold\\spectral_embedding_.py:237: UserWarning: Graph is not fully connected, spectral embedding may not work as expected.\n",
      "  warnings.warn(\"Graph is not fully connected, spectral embedding\"\n",
      "C:\\Users\\huyus\\AppData\\Local\\Continuum\\anaconda3\\envs\\tf_gpu\\lib\\site-packages\\sklearn\\metrics\\cluster\\supervised.py:844: FutureWarning: The behavior of NMI will change in version 0.22. To match the behavior of 'v_measure_score', NMI will use average_method='arithmetic' by default.\n",
      "  FutureWarning)\n",
      "C:\\Users\\huyus\\AppData\\Local\\Continuum\\anaconda3\\envs\\tf_gpu\\lib\\site-packages\\sklearn\\manifold\\spectral_embedding_.py:237: UserWarning: Graph is not fully connected, spectral embedding may not work as expected.\n",
      "  warnings.warn(\"Graph is not fully connected, spectral embedding\"\n"
     ]
    },
    {
     "name": "stdout",
     "output_type": "stream",
     "text": [
      "n_neighbors: 5, NMI: 0.647, Purity: 0.486\n"
     ]
    },
    {
     "name": "stderr",
     "output_type": "stream",
     "text": [
      "C:\\Users\\huyus\\AppData\\Local\\Continuum\\anaconda3\\envs\\tf_gpu\\lib\\site-packages\\sklearn\\metrics\\cluster\\supervised.py:844: FutureWarning: The behavior of NMI will change in version 0.22. To match the behavior of 'v_measure_score', NMI will use average_method='arithmetic' by default.\n",
      "  FutureWarning)\n",
      "C:\\Users\\huyus\\AppData\\Local\\Continuum\\anaconda3\\envs\\tf_gpu\\lib\\site-packages\\sklearn\\manifold\\spectral_embedding_.py:237: UserWarning: Graph is not fully connected, spectral embedding may not work as expected.\n",
      "  warnings.warn(\"Graph is not fully connected, spectral embedding\"\n"
     ]
    },
    {
     "name": "stdout",
     "output_type": "stream",
     "text": [
      "n_neighbors: 10, NMI: 0.679, Purity: 0.578\n"
     ]
    },
    {
     "name": "stderr",
     "output_type": "stream",
     "text": [
      "C:\\Users\\huyus\\AppData\\Local\\Continuum\\anaconda3\\envs\\tf_gpu\\lib\\site-packages\\sklearn\\metrics\\cluster\\supervised.py:844: FutureWarning: The behavior of NMI will change in version 0.22. To match the behavior of 'v_measure_score', NMI will use average_method='arithmetic' by default.\n",
      "  FutureWarning)\n"
     ]
    },
    {
     "name": "stdout",
     "output_type": "stream",
     "text": [
      "n_neighbors: 50, NMI: 0.808, Purity: 0.757\n",
      "number of components: 40\n"
     ]
    },
    {
     "name": "stderr",
     "output_type": "stream",
     "text": [
      "C:\\Users\\huyus\\AppData\\Local\\Continuum\\anaconda3\\envs\\tf_gpu\\lib\\site-packages\\sklearn\\metrics\\cluster\\supervised.py:844: FutureWarning: The behavior of NMI will change in version 0.22. To match the behavior of 'v_measure_score', NMI will use average_method='arithmetic' by default.\n",
      "  FutureWarning)\n"
     ]
    },
    {
     "name": "stdout",
     "output_type": "stream",
     "text": [
      "K-means, NMI: 0.891, Purity: 0.904\n",
      "single, NMI: 0.890, Purity: 0.828\n",
      "complete, NMI: 0.891, Purity: 0.885\n",
      "average, NMI: 0.891, Purity: 0.885\n",
      "weighted, NMI: 0.893, Purity: 0.885\n",
      "centroid, NMI: 0.891, Purity: 0.885\n",
      "median, NMI: 0.896, Purity: 0.885\n",
      "ward, NMI: 0.892, Purity: 0.886\n"
     ]
    },
    {
     "name": "stderr",
     "output_type": "stream",
     "text": [
      "C:\\Users\\huyus\\AppData\\Local\\Continuum\\anaconda3\\envs\\tf_gpu\\lib\\site-packages\\sklearn\\manifold\\spectral_embedding_.py:237: UserWarning: Graph is not fully connected, spectral embedding may not work as expected.\n",
      "  warnings.warn(\"Graph is not fully connected, spectral embedding\"\n",
      "C:\\Users\\huyus\\AppData\\Local\\Continuum\\anaconda3\\envs\\tf_gpu\\lib\\site-packages\\sklearn\\metrics\\cluster\\supervised.py:844: FutureWarning: The behavior of NMI will change in version 0.22. To match the behavior of 'v_measure_score', NMI will use average_method='arithmetic' by default.\n",
      "  FutureWarning)\n",
      "C:\\Users\\huyus\\AppData\\Local\\Continuum\\anaconda3\\envs\\tf_gpu\\lib\\site-packages\\sklearn\\manifold\\spectral_embedding_.py:237: UserWarning: Graph is not fully connected, spectral embedding may not work as expected.\n",
      "  warnings.warn(\"Graph is not fully connected, spectral embedding\"\n"
     ]
    },
    {
     "name": "stdout",
     "output_type": "stream",
     "text": [
      "n_neighbors: 5, NMI: 0.675, Purity: 0.502\n"
     ]
    },
    {
     "name": "stderr",
     "output_type": "stream",
     "text": [
      "C:\\Users\\huyus\\AppData\\Local\\Continuum\\anaconda3\\envs\\tf_gpu\\lib\\site-packages\\sklearn\\metrics\\cluster\\supervised.py:844: FutureWarning: The behavior of NMI will change in version 0.22. To match the behavior of 'v_measure_score', NMI will use average_method='arithmetic' by default.\n",
      "  FutureWarning)\n",
      "C:\\Users\\huyus\\AppData\\Local\\Continuum\\anaconda3\\envs\\tf_gpu\\lib\\site-packages\\sklearn\\manifold\\spectral_embedding_.py:237: UserWarning: Graph is not fully connected, spectral embedding may not work as expected.\n",
      "  warnings.warn(\"Graph is not fully connected, spectral embedding\"\n"
     ]
    },
    {
     "name": "stdout",
     "output_type": "stream",
     "text": [
      "n_neighbors: 10, NMI: 0.621, Purity: 0.486\n"
     ]
    },
    {
     "name": "stderr",
     "output_type": "stream",
     "text": [
      "C:\\Users\\huyus\\AppData\\Local\\Continuum\\anaconda3\\envs\\tf_gpu\\lib\\site-packages\\sklearn\\metrics\\cluster\\supervised.py:844: FutureWarning: The behavior of NMI will change in version 0.22. To match the behavior of 'v_measure_score', NMI will use average_method='arithmetic' by default.\n",
      "  FutureWarning)\n"
     ]
    },
    {
     "name": "stdout",
     "output_type": "stream",
     "text": [
      "n_neighbors: 50, NMI: 0.742, Purity: 0.626\n",
      "number of components: 60\n"
     ]
    },
    {
     "name": "stderr",
     "output_type": "stream",
     "text": [
      "C:\\Users\\huyus\\AppData\\Local\\Continuum\\anaconda3\\envs\\tf_gpu\\lib\\site-packages\\sklearn\\metrics\\cluster\\supervised.py:844: FutureWarning: The behavior of NMI will change in version 0.22. To match the behavior of 'v_measure_score', NMI will use average_method='arithmetic' by default.\n",
      "  FutureWarning)\n"
     ]
    },
    {
     "name": "stdout",
     "output_type": "stream",
     "text": [
      "K-means, NMI: 0.890, Purity: 0.903\n",
      "single, NMI: 0.894, Purity: 0.854\n",
      "complete, NMI: 0.892, Purity: 0.885\n",
      "average, NMI: 0.892, Purity: 0.886\n",
      "weighted, NMI: 0.893, Purity: 0.885\n",
      "centroid, NMI: 0.893, Purity: 0.886\n",
      "median, NMI: 0.893, Purity: 0.886\n",
      "ward, NMI: 0.891, Purity: 0.884\n"
     ]
    },
    {
     "name": "stderr",
     "output_type": "stream",
     "text": [
      "C:\\Users\\huyus\\AppData\\Local\\Continuum\\anaconda3\\envs\\tf_gpu\\lib\\site-packages\\sklearn\\manifold\\spectral_embedding_.py:237: UserWarning: Graph is not fully connected, spectral embedding may not work as expected.\n",
      "  warnings.warn(\"Graph is not fully connected, spectral embedding\"\n",
      "C:\\Users\\huyus\\AppData\\Local\\Continuum\\anaconda3\\envs\\tf_gpu\\lib\\site-packages\\sklearn\\metrics\\cluster\\supervised.py:844: FutureWarning: The behavior of NMI will change in version 0.22. To match the behavior of 'v_measure_score', NMI will use average_method='arithmetic' by default.\n",
      "  FutureWarning)\n",
      "C:\\Users\\huyus\\AppData\\Local\\Continuum\\anaconda3\\envs\\tf_gpu\\lib\\site-packages\\sklearn\\manifold\\spectral_embedding_.py:237: UserWarning: Graph is not fully connected, spectral embedding may not work as expected.\n",
      "  warnings.warn(\"Graph is not fully connected, spectral embedding\"\n"
     ]
    },
    {
     "name": "stdout",
     "output_type": "stream",
     "text": [
      "n_neighbors: 5, NMI: 0.584, Purity: 0.461\n"
     ]
    },
    {
     "name": "stderr",
     "output_type": "stream",
     "text": [
      "C:\\Users\\huyus\\AppData\\Local\\Continuum\\anaconda3\\envs\\tf_gpu\\lib\\site-packages\\sklearn\\metrics\\cluster\\supervised.py:844: FutureWarning: The behavior of NMI will change in version 0.22. To match the behavior of 'v_measure_score', NMI will use average_method='arithmetic' by default.\n",
      "  FutureWarning)\n",
      "C:\\Users\\huyus\\AppData\\Local\\Continuum\\anaconda3\\envs\\tf_gpu\\lib\\site-packages\\sklearn\\manifold\\spectral_embedding_.py:237: UserWarning: Graph is not fully connected, spectral embedding may not work as expected.\n",
      "  warnings.warn(\"Graph is not fully connected, spectral embedding\"\n"
     ]
    },
    {
     "name": "stdout",
     "output_type": "stream",
     "text": [
      "n_neighbors: 10, NMI: 0.669, Purity: 0.607\n",
      "n_neighbors: 50, NMI: 0.814, Purity: 0.752\n"
     ]
    },
    {
     "name": "stderr",
     "output_type": "stream",
     "text": [
      "C:\\Users\\huyus\\AppData\\Local\\Continuum\\anaconda3\\envs\\tf_gpu\\lib\\site-packages\\sklearn\\metrics\\cluster\\supervised.py:844: FutureWarning: The behavior of NMI will change in version 0.22. To match the behavior of 'v_measure_score', NMI will use average_method='arithmetic' by default.\n",
      "  FutureWarning)\n"
     ]
    }
   ],
   "source": [
    "import umap\n",
    "\n",
    "ns_components = [20,40,60]\n",
    "for n_components in ns_components:\n",
    "    \n",
    "    print('number of components: {}'.format(n_components))\n",
    "    \n",
    "    small_emb_pca = umap.UMAP(\n",
    "        n_neighbors=30,\n",
    "        min_dist=0.0,\n",
    "        n_components=n_components,\n",
    "        random_state=42,\n",
    "        ).fit_transform(small_emb_signal)\n",
    "    \n",
    "    \"\"\"\n",
    "    K-means clustering of embedding data\n",
    "    \"\"\"\n",
    "    pred = kmeans_cluster(small_emb_pca,len(small_index_list), n_rounds=10, maxrun=500)\n",
    "    _, cm, purity = get_purity(pred, small_num_labels)\n",
    "    nmi = get_nmi(pred, small_num_labels)\n",
    "    print(\"K-means, NMI: %.3f, Purity: %.3f\" % (nmi, purity))\n",
    "    \n",
    "    # hierarchical\n",
    "    methods = [\"single\" , \"complete\" , \"average\" , \"weighted\" , \"centroid\" , \"median\" , \"ward\"]\n",
    "    for thismethod in methods:\n",
    "        linkage_matrix, pred = hierarchical_cluster(small_emb_pca, n_clusters=len(small_index_list),method=thismethod, metric='cosine')\n",
    "        _, cm, purity = get_purity(pred, small_num_labels)\n",
    "        nmi = get_nmi(pred, small_num_labels)\n",
    "        print(\"%s, NMI: %.3f, Purity: %.3f\" % (thismethod,nmi, purity))\n",
    "    \n",
    "    # spectral\n",
    "    ns_neighbors = [5,10,50]\n",
    "    for n_neighbors in ns_neighbors:\n",
    "        clustering = SpectralClustering(n_clusters=len(small_index_list),affinity=\"nearest_neighbors\",\n",
    "                                        n_neighbors=n_neighbors).fit(small_emb_pca)\n",
    "        pred = clustering.labels_\n",
    "        _, cm, purity = get_purity(pred, small_num_labels)\n",
    "        nmi = get_nmi(pred, small_num_labels)\n",
    "        print(\"n_neighbors: %s, NMI: %.3f, Purity: %.3f\" % (n_neighbors,nmi, purity))"
   ]
  },
  {
   "cell_type": "markdown",
   "metadata": {},
   "source": [
    "# VAE"
   ]
  },
  {
   "cell_type": "code",
   "execution_count": 1,
   "metadata": {},
   "outputs": [],
   "source": [
    "import torch\n",
    "import torch.nn as nn\n",
    "from utils import resize, x2p, JacobOptimizer, gen_solution\n",
    "from vae import VAE\n",
    "\n",
    "def vae_emb(train_data, n_components, lr=1.0e-3, batch_size=128,\n",
    "            epochs=15, kkl=1.0, kv=1.0, path='vae.pth'):\n",
    "    \"\"\"\n",
    "    Train and extract feature with VAE\n",
    "    ------\n",
    "    :in:\n",
    "    train_sub, tune_sub: 2d array of shape (n_data, n_dim), VAE training and tuning data\n",
    "    train_data, tune_data, test_data: 2d array of shape (n_data, n_dim), \n",
    "            training/tune/test set of the dataset, where trained VAE will be used to extract features\n",
    "    n_components: int, feature dimension\n",
    "    lr: float, learning rate (default: 0.001)\n",
    "    batch_size: int, batch size to train VAE (default: 128)\n",
    "    epochs: int, training epochs (default: 20)\n",
    "    kkl: float, weight on -KL(q(z|x)||p(z)) (default: 1.0)\n",
    "    kv: float, weight on variance term inside -KL(q(z|x)||p(z)) (default: 1.0)\n",
    "    path: string, path to save trained model (default: \"vae.pth\")\n",
    "    :out:\n",
    "    train_features, tune_features, test_features: \n",
    "            2d array of shape (n_data, n_dim), extracted features of the training/tune/test set\n",
    "    \"\"\"\n",
    "    print(\"Using VAE\")\n",
    "    clf = VAE(n_inputs=train_data.shape[1], n_components=n_components, lr=lr, batch_size=batch_size, \n",
    "              kkl=kkl, kv=kv, path=path)\n",
    "    clf.fit(train_data, Xd=train_data, epochs=epochs)\n",
    "    train_features = clf.transform(train_data)\n",
    "    return train_features\n"
   ]
  },
  {
   "cell_type": "code",
   "execution_count": 10,
   "metadata": {},
   "outputs": [
    {
     "name": "stdout",
     "output_type": "stream",
     "text": [
      "number of components: 20\n",
      "Using VAE\n",
      "Epoch: 1, train loss: 142.9599, dev loss: -14.2003\n",
      "Epoch: 2, train loss: -175.4978, dev loss: -286.6433\n",
      "Epoch: 3, train loss: -340.9745, dev loss: -386.6905\n",
      "Epoch: 4, train loss: -432.0690, dev loss: -482.4649\n",
      "Epoch: 5, train loss: -545.1388, dev loss: -590.4188\n",
      "Epoch: 6, train loss: -627.3732, dev loss: -662.8869\n",
      "Epoch: 7, train loss: -674.9186, dev loss: -697.5662\n",
      "Epoch: 8, train loss: -710.4713, dev loss: -723.9256\n",
      "Epoch: 9, train loss: -743.7005, dev loss: -773.5470\n",
      "Epoch: 10, train loss: -773.5142, dev loss: -782.9321\n",
      "Epoch: 11, train loss: -797.1260, dev loss: -819.3816\n",
      "Epoch: 12, train loss: -818.5012, dev loss: -850.8803\n",
      "Epoch: 13, train loss: -837.6906, dev loss: -859.7683\n",
      "Epoch: 14, train loss: -853.9891, dev loss: -871.7162\n",
      "Epoch: 15, train loss: -870.0671, dev loss: -876.8412\n"
     ]
    },
    {
     "name": "stderr",
     "output_type": "stream",
     "text": [
      "C:\\Users\\huyus\\AppData\\Local\\Continuum\\anaconda3\\envs\\pytorch\\lib\\site-packages\\sklearn\\metrics\\cluster\\supervised.py:844: FutureWarning: The behavior of NMI will change in version 0.22. To match the behavior of 'v_measure_score', NMI will use average_method='arithmetic' by default.\n",
      "  FutureWarning)\n"
     ]
    },
    {
     "name": "stdout",
     "output_type": "stream",
     "text": [
      "K-means, NMI: 0.883, Purity: 0.903\n",
      "single, NMI: 0.041, Purity: 0.098\n",
      "complete, NMI: 0.835, Purity: 0.806\n",
      "average, NMI: 0.855, Purity: 0.779\n",
      "weighted, NMI: 0.837, Purity: 0.782\n",
      "centroid, NMI: 0.857, Purity: 0.805\n",
      "median, NMI: 0.841, Purity: 0.764\n",
      "ward, NMI: 0.875, Purity: 0.893\n"
     ]
    },
    {
     "name": "stderr",
     "output_type": "stream",
     "text": [
      "C:\\Users\\huyus\\AppData\\Local\\Continuum\\anaconda3\\envs\\pytorch\\lib\\site-packages\\sklearn\\metrics\\cluster\\supervised.py:844: FutureWarning: The behavior of NMI will change in version 0.22. To match the behavior of 'v_measure_score', NMI will use average_method='arithmetic' by default.\n",
      "  FutureWarning)\n"
     ]
    },
    {
     "name": "stdout",
     "output_type": "stream",
     "text": [
      "n_neighbors: 5, NMI: 0.885, Purity: 0.900\n"
     ]
    },
    {
     "name": "stderr",
     "output_type": "stream",
     "text": [
      "C:\\Users\\huyus\\AppData\\Local\\Continuum\\anaconda3\\envs\\pytorch\\lib\\site-packages\\sklearn\\metrics\\cluster\\supervised.py:844: FutureWarning: The behavior of NMI will change in version 0.22. To match the behavior of 'v_measure_score', NMI will use average_method='arithmetic' by default.\n",
      "  FutureWarning)\n"
     ]
    },
    {
     "name": "stdout",
     "output_type": "stream",
     "text": [
      "n_neighbors: 10, NMI: 0.888, Purity: 0.905\n"
     ]
    },
    {
     "name": "stderr",
     "output_type": "stream",
     "text": [
      "C:\\Users\\huyus\\AppData\\Local\\Continuum\\anaconda3\\envs\\pytorch\\lib\\site-packages\\sklearn\\metrics\\cluster\\supervised.py:844: FutureWarning: The behavior of NMI will change in version 0.22. To match the behavior of 'v_measure_score', NMI will use average_method='arithmetic' by default.\n",
      "  FutureWarning)\n"
     ]
    },
    {
     "name": "stdout",
     "output_type": "stream",
     "text": [
      "n_neighbors: 50, NMI: 0.889, Purity: 0.915\n",
      "number of components: 40\n",
      "Using VAE\n",
      "Epoch: 1, train loss: 118.5449, dev loss: -48.2649\n",
      "Epoch: 2, train loss: -223.2146, dev loss: -324.2094\n",
      "Epoch: 3, train loss: -365.1709, dev loss: -398.6081\n",
      "Epoch: 4, train loss: -471.5047, dev loss: -537.5206\n",
      "Epoch: 5, train loss: -589.6577, dev loss: -639.6106\n",
      "Epoch: 6, train loss: -657.4955, dev loss: -681.0187\n",
      "Epoch: 7, train loss: -705.4058, dev loss: -731.5103\n",
      "Epoch: 8, train loss: -741.5079, dev loss: -778.3778\n",
      "Epoch: 9, train loss: -769.8990, dev loss: -793.3261\n",
      "Epoch: 10, train loss: -798.4482, dev loss: -807.1464\n",
      "Epoch: 11, train loss: -823.6326, dev loss: -844.9860\n",
      "Epoch: 12, train loss: -846.4893, dev loss: -841.2581\n",
      "Epoch: 13, train loss: -861.7341, dev loss: -854.3228\n",
      "Epoch: 14, train loss: -877.4616, dev loss: -883.5668\n",
      "Epoch: 15, train loss: -893.8047, dev loss: -894.5640\n"
     ]
    },
    {
     "name": "stderr",
     "output_type": "stream",
     "text": [
      "C:\\Users\\huyus\\AppData\\Local\\Continuum\\anaconda3\\envs\\pytorch\\lib\\site-packages\\sklearn\\metrics\\cluster\\supervised.py:844: FutureWarning: The behavior of NMI will change in version 0.22. To match the behavior of 'v_measure_score', NMI will use average_method='arithmetic' by default.\n",
      "  FutureWarning)\n"
     ]
    },
    {
     "name": "stdout",
     "output_type": "stream",
     "text": [
      "K-means, NMI: 0.876, Purity: 0.897\n",
      "single, NMI: 0.042, Purity: 0.098\n",
      "complete, NMI: 0.834, Purity: 0.812\n",
      "average, NMI: 0.877, Purity: 0.836\n",
      "weighted, NMI: 0.819, Purity: 0.688\n",
      "centroid, NMI: 0.880, Purity: 0.837\n",
      "median, NMI: 0.830, Purity: 0.787\n",
      "ward, NMI: 0.871, Purity: 0.889\n",
      "n_neighbors: 5, NMI: 0.891, Purity: 0.906\n"
     ]
    },
    {
     "name": "stderr",
     "output_type": "stream",
     "text": [
      "C:\\Users\\huyus\\AppData\\Local\\Continuum\\anaconda3\\envs\\pytorch\\lib\\site-packages\\sklearn\\metrics\\cluster\\supervised.py:844: FutureWarning: The behavior of NMI will change in version 0.22. To match the behavior of 'v_measure_score', NMI will use average_method='arithmetic' by default.\n",
      "  FutureWarning)\n",
      "C:\\Users\\huyus\\AppData\\Local\\Continuum\\anaconda3\\envs\\pytorch\\lib\\site-packages\\sklearn\\metrics\\cluster\\supervised.py:844: FutureWarning: The behavior of NMI will change in version 0.22. To match the behavior of 'v_measure_score', NMI will use average_method='arithmetic' by default.\n",
      "  FutureWarning)\n"
     ]
    },
    {
     "name": "stdout",
     "output_type": "stream",
     "text": [
      "n_neighbors: 10, NMI: 0.887, Purity: 0.904\n"
     ]
    },
    {
     "name": "stderr",
     "output_type": "stream",
     "text": [
      "C:\\Users\\huyus\\AppData\\Local\\Continuum\\anaconda3\\envs\\pytorch\\lib\\site-packages\\sklearn\\metrics\\cluster\\supervised.py:844: FutureWarning: The behavior of NMI will change in version 0.22. To match the behavior of 'v_measure_score', NMI will use average_method='arithmetic' by default.\n",
      "  FutureWarning)\n"
     ]
    },
    {
     "name": "stdout",
     "output_type": "stream",
     "text": [
      "n_neighbors: 50, NMI: 0.885, Purity: 0.906\n",
      "number of components: 60\n",
      "Using VAE\n",
      "Epoch: 1, train loss: 110.7112, dev loss: -52.1850\n",
      "Epoch: 2, train loss: -236.2921, dev loss: -338.6976\n",
      "Epoch: 3, train loss: -375.0467, dev loss: -412.2610\n",
      "Epoch: 4, train loss: -496.3656, dev loss: -568.9530\n",
      "Epoch: 5, train loss: -620.1359, dev loss: -640.0811\n",
      "Epoch: 6, train loss: -681.3429, dev loss: -700.8068\n",
      "Epoch: 7, train loss: -725.2069, dev loss: -760.0020\n",
      "Epoch: 8, train loss: -764.8340, dev loss: -782.2185\n",
      "Epoch: 9, train loss: -797.3068, dev loss: -813.0655\n",
      "Epoch: 10, train loss: -822.3876, dev loss: -821.4923\n",
      "Epoch: 11, train loss: -843.5070, dev loss: -843.0477\n",
      "Epoch: 12, train loss: -862.4789, dev loss: -885.7546\n",
      "Epoch: 13, train loss: -885.9826, dev loss: -873.1411\n",
      "Epoch: 14, train loss: -897.2284, dev loss: -899.2538\n",
      "Epoch: 15, train loss: -905.6373, dev loss: -920.9794\n"
     ]
    },
    {
     "name": "stderr",
     "output_type": "stream",
     "text": [
      "C:\\Users\\huyus\\AppData\\Local\\Continuum\\anaconda3\\envs\\pytorch\\lib\\site-packages\\sklearn\\metrics\\cluster\\supervised.py:844: FutureWarning: The behavior of NMI will change in version 0.22. To match the behavior of 'v_measure_score', NMI will use average_method='arithmetic' by default.\n",
      "  FutureWarning)\n"
     ]
    },
    {
     "name": "stdout",
     "output_type": "stream",
     "text": [
      "K-means, NMI: 0.878, Purity: 0.898\n",
      "single, NMI: 0.042, Purity: 0.098\n",
      "complete, NMI: 0.846, Purity: 0.827\n",
      "average, NMI: 0.867, Purity: 0.802\n",
      "weighted, NMI: 0.843, Purity: 0.774\n",
      "centroid, NMI: 0.861, Purity: 0.806\n",
      "median, NMI: 0.843, Purity: 0.776\n",
      "ward, NMI: 0.869, Purity: 0.888\n"
     ]
    },
    {
     "name": "stderr",
     "output_type": "stream",
     "text": [
      "C:\\Users\\huyus\\AppData\\Local\\Continuum\\anaconda3\\envs\\pytorch\\lib\\site-packages\\sklearn\\metrics\\cluster\\supervised.py:844: FutureWarning: The behavior of NMI will change in version 0.22. To match the behavior of 'v_measure_score', NMI will use average_method='arithmetic' by default.\n",
      "  FutureWarning)\n"
     ]
    },
    {
     "name": "stdout",
     "output_type": "stream",
     "text": [
      "n_neighbors: 5, NMI: 0.884, Purity: 0.892\n"
     ]
    },
    {
     "name": "stderr",
     "output_type": "stream",
     "text": [
      "C:\\Users\\huyus\\AppData\\Local\\Continuum\\anaconda3\\envs\\pytorch\\lib\\site-packages\\sklearn\\metrics\\cluster\\supervised.py:844: FutureWarning: The behavior of NMI will change in version 0.22. To match the behavior of 'v_measure_score', NMI will use average_method='arithmetic' by default.\n",
      "  FutureWarning)\n"
     ]
    },
    {
     "name": "stdout",
     "output_type": "stream",
     "text": [
      "n_neighbors: 10, NMI: 0.888, Purity: 0.900\n",
      "n_neighbors: 50, NMI: 0.885, Purity: 0.905\n"
     ]
    },
    {
     "name": "stderr",
     "output_type": "stream",
     "text": [
      "C:\\Users\\huyus\\AppData\\Local\\Continuum\\anaconda3\\envs\\pytorch\\lib\\site-packages\\sklearn\\metrics\\cluster\\supervised.py:844: FutureWarning: The behavior of NMI will change in version 0.22. To match the behavior of 'v_measure_score', NMI will use average_method='arithmetic' by default.\n",
      "  FutureWarning)\n"
     ]
    }
   ],
   "source": [
    "ns_components = [20,40,60]\n",
    "for n_components in ns_components:\n",
    "    \n",
    "    print('number of components: {}'.format(n_components))\n",
    "    \n",
    "    small_emb_pca = vae_emb(small_emb_signal,n_components)\n",
    "    \n",
    "    \"\"\"\n",
    "    K-means clustering of embedding data\n",
    "    \"\"\"\n",
    "    pred = kmeans_cluster(small_emb_pca,len(small_index_list), n_rounds=10, maxrun=500)\n",
    "    _, cm, purity = get_purity(pred, small_num_labels)\n",
    "    nmi = get_nmi(pred, small_num_labels)\n",
    "    print(\"K-means, NMI: %.3f, Purity: %.3f\" % (nmi, purity))\n",
    "    \n",
    "    # hierarchical\n",
    "    methods = [\"single\" , \"complete\" , \"average\" , \"weighted\" , \"centroid\" , \"median\" , \"ward\"]\n",
    "    for thismethod in methods:\n",
    "        linkage_matrix, pred = hierarchical_cluster(small_emb_pca, n_clusters=len(small_index_list),method=thismethod, metric='cosine')\n",
    "        _, cm, purity = get_purity(pred, small_num_labels)\n",
    "        nmi = get_nmi(pred, small_num_labels)\n",
    "        print(\"%s, NMI: %.3f, Purity: %.3f\" % (thismethod,nmi, purity))\n",
    "    \n",
    "    # spectral\n",
    "    ns_neighbors = [5,10,50]\n",
    "    for n_neighbors in ns_neighbors:\n",
    "        clustering = SpectralClustering(n_clusters=len(small_index_list),affinity=\"nearest_neighbors\",\n",
    "                                        n_neighbors=n_neighbors).fit(small_emb_pca)\n",
    "        pred = clustering.labels_\n",
    "        _, cm, purity = get_purity(pred, small_num_labels)\n",
    "        nmi = get_nmi(pred, small_num_labels)\n",
    "        print(\"n_neighbors: %s, NMI: %.3f, Purity: %.3f\" % (n_neighbors,nmi, purity))"
   ]
  },
  {
   "cell_type": "code",
   "execution_count": null,
   "metadata": {},
   "outputs": [],
   "source": []
  }
 ],
 "metadata": {
  "kernelspec": {
   "display_name": "Python 3",
   "language": "python",
   "name": "python3"
  },
  "language_info": {
   "codemirror_mode": {
    "name": "ipython",
    "version": 3
   },
   "file_extension": ".py",
   "mimetype": "text/x-python",
   "name": "python",
   "nbconvert_exporter": "python",
   "pygments_lexer": "ipython3",
   "version": "3.7.2"
  }
 },
 "nbformat": 4,
 "nbformat_minor": 2
}
