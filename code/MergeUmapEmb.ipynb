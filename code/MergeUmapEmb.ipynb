{
 "cells": [
  {
   "cell_type": "code",
   "execution_count": 1,
   "metadata": {},
   "outputs": [],
   "source": [
    "import numpy as np"
   ]
  },
  {
   "cell_type": "code",
   "execution_count": 5,
   "metadata": {},
   "outputs": [
    {
     "data": {
      "text/plain": [
       "(620881, 20)"
      ]
     },
     "execution_count": 5,
     "metadata": {},
     "output_type": "execute_result"
    }
   ],
   "source": [
    "train_data.shape"
   ]
  },
  {
   "cell_type": "code",
   "execution_count": 7,
   "metadata": {},
   "outputs": [],
   "source": [
    "# load raw signal data\n",
    "data=np.load('../data/swbd.npy').item()\n",
    "train_x = data['train']['data']\n",
    "train_y_raw = data['train']['labels']\n",
    "train_y = [label.split('_')[0] for label in train_y_raw]\n",
    "dev_x = data['dev']['data']\n",
    "dev_y_raw = data['dev']['labels']\n",
    "dev_y = [label.split('_')[0] for label in dev_y_raw]\n",
    "test_x = data['test']['data']\n",
    "test_y_raw = data['test']['labels']\n",
    "test_y = [label.split('_')[0] for label in test_y_raw]"
   ]
  },
  {
   "cell_type": "code",
   "execution_count": 19,
   "metadata": {},
   "outputs": [],
   "source": [
    "dim = 20\n",
    "\n",
    "train_data = np.load('../data/umap_emb/umap_emb_20_train.npy')\n",
    "dev_data = np.load('../data/umap_emb/umap_emb_20_dev.npy')\n",
    "test_data = np.load('../data/umap_emb/umap_emb_20_test.npy')\n",
    "\n",
    "train_emb = []\n",
    "vec_idx = 0\n",
    "for signal in train_x:\n",
    "    sizesignal = signal.shape[0]\n",
    "    newsignal = np.zeros((sizesignal,dim))\n",
    "    for i in range(sizesignal):\n",
    "        newsignal[i] = train_data[vec_idx]\n",
    "        vec_idx += 1\n",
    "    train_emb.append(newsignal)\n",
    "\n",
    "train_emb = tuple(train_emb)\n",
    "\n",
    "dev_emb = []\n",
    "vec_idx = 0\n",
    "for signal in dev_x:\n",
    "    sizesignal = signal.shape[0]\n",
    "    newsignal = np.zeros((sizesignal,dim))\n",
    "    for i in range(sizesignal):\n",
    "        newsignal[i] = dev_data[vec_idx]\n",
    "        vec_idx += 1\n",
    "    dev_emb.append(newsignal)\n",
    "dev_emb = tuple(dev_emb)\n",
    "\n",
    "test_emb = []\n",
    "vec_idx = 0\n",
    "for signal in test_x:\n",
    "    sizesignal = signal.shape[0]\n",
    "    newsignal = np.zeros((sizesignal,dim))\n",
    "    for i in range(sizesignal):\n",
    "        newsignal[i] = test_data[vec_idx]\n",
    "        vec_idx += 1\n",
    "    test_emb.append(newsignal)\n",
    "test_emb = tuple(test_emb)\n",
    "\n",
    "data3 = {}\n",
    "data3['test'] = {'data':test_emb, 'labels' : test_y}\n",
    "data3['train'] = {'data':train_emb, 'labels' : train_y}\n",
    "data3['dev'] = {'data':dev_emb, 'labels' : dev_y}\n",
    "np.save('umap_20_swbd.npy',data3)"
   ]
  },
  {
   "cell_type": "code",
   "execution_count": 20,
   "metadata": {},
   "outputs": [],
   "source": [
    "dim = 40\n",
    "\n",
    "train_data = np.load('../data/umap_emb/umap_emb_40_train.npy')\n",
    "dev_data = np.load('../data/umap_emb/umap_emb_40_dev.npy')\n",
    "test_data = np.load('../data/umap_emb/umap_emb_40_test.npy')\n",
    "\n",
    "train_emb = []\n",
    "vec_idx = 0\n",
    "for signal in train_x:\n",
    "    sizesignal = signal.shape[0]\n",
    "    newsignal = np.zeros((sizesignal,dim))\n",
    "    for i in range(sizesignal):\n",
    "        newsignal[i] = train_data[vec_idx]\n",
    "        vec_idx += 1\n",
    "    train_emb.append(newsignal)\n",
    "\n",
    "train_emb = tuple(train_emb)\n",
    "\n",
    "dev_emb = []\n",
    "vec_idx = 0\n",
    "for signal in dev_x:\n",
    "    sizesignal = signal.shape[0]\n",
    "    newsignal = np.zeros((sizesignal,dim))\n",
    "    for i in range(sizesignal):\n",
    "        newsignal[i] = dev_data[vec_idx]\n",
    "        vec_idx += 1\n",
    "    dev_emb.append(newsignal)\n",
    "dev_emb = tuple(dev_emb)\n",
    "\n",
    "test_emb = []\n",
    "vec_idx = 0\n",
    "for signal in test_x:\n",
    "    sizesignal = signal.shape[0]\n",
    "    newsignal = np.zeros((sizesignal,dim))\n",
    "    for i in range(sizesignal):\n",
    "        newsignal[i] = test_data[vec_idx]\n",
    "        vec_idx += 1\n",
    "    test_emb.append(newsignal)\n",
    "test_emb = tuple(test_emb)\n",
    "\n",
    "data3 = {}\n",
    "data3['test'] = {'data':test_emb, 'labels' : test_y}\n",
    "data3['train'] = {'data':train_emb, 'labels' : train_y}\n",
    "data3['dev'] = {'data':dev_emb, 'labels' : dev_y}\n",
    "np.save('umap_40_swbd.npy',data3)"
   ]
  },
  {
   "cell_type": "code",
   "execution_count": 21,
   "metadata": {},
   "outputs": [],
   "source": [
    "dim = 60\n",
    "\n",
    "train_data = np.load('../data/umap_emb/umap_emb_60_train.npy')\n",
    "dev_data = np.load('../data/umap_emb/umap_emb_60_dev.npy')\n",
    "test_data = np.load('../data/umap_emb/umap_emb_60_test.npy')\n",
    "\n",
    "train_emb = []\n",
    "vec_idx = 0\n",
    "for signal in train_x:\n",
    "    sizesignal = signal.shape[0]\n",
    "    newsignal = np.zeros((sizesignal,dim))\n",
    "    for i in range(sizesignal):\n",
    "        newsignal[i] = train_data[vec_idx]\n",
    "        vec_idx += 1\n",
    "    train_emb.append(newsignal)\n",
    "\n",
    "train_emb = tuple(train_emb)\n",
    "\n",
    "dev_emb = []\n",
    "vec_idx = 0\n",
    "for signal in dev_x:\n",
    "    sizesignal = signal.shape[0]\n",
    "    newsignal = np.zeros((sizesignal,dim))\n",
    "    for i in range(sizesignal):\n",
    "        newsignal[i] = dev_data[vec_idx]\n",
    "        vec_idx += 1\n",
    "    dev_emb.append(newsignal)\n",
    "dev_emb = tuple(dev_emb)\n",
    "\n",
    "test_emb = []\n",
    "vec_idx = 0\n",
    "for signal in test_x:\n",
    "    sizesignal = signal.shape[0]\n",
    "    newsignal = np.zeros((sizesignal,dim))\n",
    "    for i in range(sizesignal):\n",
    "        newsignal[i] = test_data[vec_idx]\n",
    "        vec_idx += 1\n",
    "    test_emb.append(newsignal)\n",
    "test_emb = tuple(test_emb)\n",
    "\n",
    "data3 = {}\n",
    "data3['test'] = {'data':test_emb, 'labels' : test_y}\n",
    "data3['train'] = {'data':train_emb, 'labels' : train_y}\n",
    "data3['dev'] = {'data':dev_emb, 'labels' : dev_y}\n",
    "np.save('umap_60_swbd.npy',data3)"
   ]
  },
  {
   "cell_type": "code",
   "execution_count": null,
   "metadata": {},
   "outputs": [],
   "source": []
  }
 ],
 "metadata": {
  "kernelspec": {
   "display_name": "Python 3",
   "language": "python",
   "name": "python3"
  },
  "language_info": {
   "codemirror_mode": {
    "name": "ipython",
    "version": 3
   },
   "file_extension": ".py",
   "mimetype": "text/x-python",
   "name": "python",
   "nbconvert_exporter": "python",
   "pygments_lexer": "ipython3",
   "version": "3.6.7"
  }
 },
 "nbformat": 4,
 "nbformat_minor": 2
}
