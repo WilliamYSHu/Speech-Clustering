{
 "cells": [
  {
   "cell_type": "code",
   "execution_count": 1,
   "metadata": {},
   "outputs": [],
   "source": [
    "%matplotlib inline\n",
    "import utils\n",
    "import numpy as np\n",
    "from matplotlib import pyplot as plt\n",
    "from sklearn.cluster import KMeans, SpectralClustering\n",
    "from scipy.cluster.hierarchy import linkage\n",
    "from scipy.spatial.distance import pdist\n",
    "from numpy.random import permutation as rpm\n",
    "from plot import plot_images, plot_dendrogram, plot_confusion_matrix\n",
    "from utils import resize, sample_index, gen_solution, get_purity, get_nmi\n",
    "from clustering import kmeans_cluster, hierarchical_cluster, hierarchical_cluster_with_distMat"
   ]
  },
  {
   "cell_type": "markdown",
   "metadata": {},
   "source": [
    "# Loading Signal Data"
   ]
  },
  {
   "cell_type": "code",
   "execution_count": 2,
   "metadata": {},
   "outputs": [
    {
     "name": "stdout",
     "output_type": "stream",
     "text": [
      "number of signals: 31961\n"
     ]
    }
   ],
   "source": [
    "# load raw signal data\n",
    "data=np.load('../data/swbd.npy').item()\n",
    "train_x = data['train']['data']\n",
    "train_y_raw = data['train']['labels']\n",
    "train_y = [label.split('_')[0] for label in train_y_raw]\n",
    "dev_x = data['dev']['data']\n",
    "dev_y_raw = data['dev']['labels']\n",
    "dev_y = [label.split('_')[0] for label in dev_y_raw]\n",
    "test_x = data['test']['data']\n",
    "test_y_raw = data['test']['labels']\n",
    "test_y = [label.split('_')[0] for label in test_y_raw]\n",
    "\n",
    "# used in clustering\n",
    "signals = train_x+dev_x+test_x # tuple of numpy.ndarray  31961 * [time*39]\n",
    "labels = train_y+dev_y+test_y  # labels. tuple of strings 31961. e.g. 'abandoned'\n",
    "\n",
    "print('number of signals: {}'.format(len(signals)))"
   ]
  },
  {
   "cell_type": "code",
   "execution_count": 3,
   "metadata": {},
   "outputs": [
    {
     "name": "stdout",
     "output_type": "stream",
     "text": [
      "total number of words is 6204\n"
     ]
    }
   ],
   "source": [
    "# count number of words. Change strings to numeric labels\n",
    "wordSet = set()\n",
    "for word in labels:\n",
    "    wordSet.add(word)\n",
    "print('total number of words is {}'.format(len(wordSet)))\n",
    "\n",
    "# make a list. let list index be the numeric label of word\n",
    "wordList = list(wordSet)\n",
    "\n",
    "# numeric label of signals\n",
    "numLabels = np.array(list(map(lambda x: wordList.index(x), labels)))"
   ]
  },
  {
   "cell_type": "markdown",
   "metadata": {},
   "source": [
    "# Loading Embedding Data"
   ]
  },
  {
   "cell_type": "code",
   "execution_count": 4,
   "metadata": {},
   "outputs": [
    {
     "name": "stdout",
     "output_type": "stream",
     "text": [
      "shape of embeddings: (31961, 512)\n"
     ]
    }
   ],
   "source": [
    "# load embedding data\n",
    "emb_data = np.load('../data/swbd_embeddings2.npy').item()\n",
    "emb_train_x = emb_data['train']['embs']\n",
    "emb_train_y_raw = emb_data['train']['labels']\n",
    "emb_train_y = [label.split('_')[0] for label in train_y_raw]\n",
    "emb_dev_x = emb_data['dev']['embs']\n",
    "emb_dev_y_raw = emb_data['dev']['labels']\n",
    "emb_dev_y = [label.split('_')[0] for label in dev_y_raw]\n",
    "emb_test_x = emb_data['test']['embs']\n",
    "emb_test_y_raw = emb_data['test']['labels']\n",
    "emb_test_y = [label.split('_')[0] for label in test_y_raw]\n",
    "\n",
    "# labels are the same. Use the embedding matrix in clustering\n",
    "emb_signals = np.concatenate((emb_train_x,emb_dev_x,emb_test_x), axis = 0) # np.ndarray 31961*512\n",
    "print('shape of embeddings: {}'.format(emb_signals.shape))"
   ]
  },
  {
   "cell_type": "markdown",
   "metadata": {},
   "source": [
    "# Small raw data and small labels"
   ]
  },
  {
   "cell_type": "code",
   "execution_count": 5,
   "metadata": {},
   "outputs": [
    {
     "name": "stdout",
     "output_type": "stream",
     "text": [
      "[('because', 340), ('recycling', 315), ('benefits', 259), ('something', 230), ('exactly', 228), ('probably', 225), ('insurance', 196), ('punishment', 190), ('everything', 174), ('company', 149), ('sometimes', 144), ('interesting', 143), ('recycle', 143), ('situation', 141), ('problem', 139), ('anything', 131), ('plastic', 127), ('actually', 125), ('understand', 123), ('vacation', 123)]\n",
      "total number of series: 3645\n"
     ]
    }
   ],
   "source": [
    "wordBags = dict()\n",
    "for word in labels:\n",
    "    if word in wordBags:\n",
    "        wordBags[word] += 1\n",
    "    else:\n",
    "        wordBags[word] = 1\n",
    "sorted_by_value = sorted(wordBags.items(), key=lambda kv: -kv[1])\n",
    "print(sorted_by_value[:20])\n",
    "print('total number of series: {}'.format(sum([x[1] for x in sorted_by_value[:20]])))"
   ]
  },
  {
   "cell_type": "code",
   "execution_count": 6,
   "metadata": {},
   "outputs": [],
   "source": [
    "# get the small data set\n",
    "small_index_list = [x[0] for x in sorted_by_value[:20]]\n",
    "small_raw_signal = []\n",
    "small_emb_data = []\n",
    "small_num_labels = []\n",
    "for i in range(len(labels)):\n",
    "    if labels[i] in small_index_list:\n",
    "        small_raw_signal.append(signals[i])\n",
    "        small_emb_data.append(emb_signals[i,:])\n",
    "        small_num_labels.append(small_index_list.index(labels[i]))"
   ]
  },
  {
   "cell_type": "code",
   "execution_count": 7,
   "metadata": {},
   "outputs": [],
   "source": [
    "# concatinate the embeded signal to make a data matrix\n",
    "small_emb_signal = np.zeros((len(small_emb_data), 512))\n",
    "for i in range(len(small_emb_data)):\n",
    "    small_emb_signal[i] = small_emb_data[i]"
   ]
  },
  {
   "cell_type": "markdown",
   "metadata": {},
   "source": [
    "Small data summary: \n",
    "1. small_index_list: array with length 20. Used as a reference for numeric label\n",
    "\n",
    "    ['because', 'recycling', 'benefits', 'something', 'exactly', 'probably', \n",
    "    'insurance', 'punishment', 'everything', 'company', 'sometimes',\n",
    "    'interesting', 'recycle', 'situation', 'problem', 'anything', \n",
    "    'plastic', 'actually', 'understand', 'vacation']\n",
    "                 \n",
    "                 \n",
    "2. small_raw_signal: # list of numpy.ndarray  3645 * [time*39]\n",
    "\n",
    "3. small_emb_signal: # numpy.ndarray 3645 * 512\n",
    "\n",
    "4. small_num_labels: # array with length 3645. Numeric Label for each signal.\n",
    "\n",
    "The signals of embedding coordinate with signals of raw data"
   ]
  },
  {
   "cell_type": "code",
   "execution_count": 8,
   "metadata": {},
   "outputs": [],
   "source": [
    "# word labels for better presentation\n",
    "small_labels = [small_index_list[x] for x in small_num_labels]"
   ]
  },
  {
   "cell_type": "markdown",
   "metadata": {},
   "source": [
    "# Compute Distance Matrix"
   ]
  },
  {
   "cell_type": "code",
   "execution_count": 9,
   "metadata": {},
   "outputs": [],
   "source": [
    "# edit distance matrix here\n",
    "from scipy.spatial.distance import squareform\n",
    "vdist = pdist(small_emb_signal, metric='cosine')\n",
    "distanceMatrix = squareform(vdist)"
   ]
  },
  {
   "cell_type": "markdown",
   "metadata": {},
   "source": [
    "# Play with signal embeddings"
   ]
  },
  {
   "cell_type": "code",
   "execution_count": 11,
   "metadata": {},
   "outputs": [
    {
     "name": "stdout",
     "output_type": "stream",
     "text": [
      "Ward, NMI: 0.456, Purity: 0.471\n"
     ]
    },
    {
     "data": {
      "image/png": "[encoded data removed]",
      "text/plain": [
       "<Figure size 648x648 with 2 Axes>"
      ]
     },
     "metadata": {
      "needs_background": "light"
     },
     "output_type": "display_data"
    }
   ],
   "source": [
    "\"\"\"\n",
    "Hierarchical clustering of embedding data using distance matrix\n",
    "\"\"\"\n",
    "linkage_matrix, pred = hierarchical_cluster_with_distMat(distanceMatrix, n_clusters=len(small_index_list),\n",
    "                                                         method='ward', metric='cosine')\n",
    "_, cm, purity = get_purity(pred, small_num_labels)\n",
    "nmi = get_nmi(pred, small_num_labels)\n",
    "plot_confusion_matrix(cm, small_index_list, normalize=False, rotation=90, figsize=(9, 9))\n",
    "print(\"Ward, NMI: %.3f, Purity: %.3f\" % (nmi, purity))"
   ]
  },
  {
   "cell_type": "code",
   "execution_count": 12,
   "metadata": {},
   "outputs": [
    {
     "name": "stdout",
     "output_type": "stream",
     "text": [
      "single, NMI: 0.041, Purity: 0.098\n",
      "complete, NMI: 0.357, Purity: 0.338\n",
      "average, NMI: 0.392, Purity: 0.316\n",
      "weighted, NMI: 0.370, Purity: 0.357\n",
      "centroid, NMI: 0.048, Purity: 0.099\n",
      "median, NMI: 0.045, Purity: 0.099\n",
      "ward, NMI: 0.456, Purity: 0.471\n"
     ]
    }
   ],
   "source": [
    "# test Hierarchical Clustering with other distance measure\n",
    "methods = [\"single\" , \"complete\" , \"average\" , \"weighted\" , \"centroid\" , \"median\" , \"ward\"]\n",
    "for thismethod in methods:\n",
    "    linkage_matrix, pred = hierarchical_cluster_with_distMat(distanceMatrix, n_clusters=len(small_index_list),\n",
    "                                                         method=thismethod, metric='cosine')\n",
    "    _, cm, purity = get_purity(pred, small_num_labels)\n",
    "    nmi = get_nmi(pred, small_num_labels)\n",
    "    print(\"%s, NMI: %.3f, Purity: %.3f\" % (thismethod,nmi, purity))"
   ]
  },
  {
   "cell_type": "code",
   "execution_count": null,
   "metadata": {},
   "outputs": [],
   "source": [
    "\"\"\"\n",
    "Spectral clustering of embedding data with distance matrix\n",
    "\"\"\"\n",
    "clustering = SpectralClustering(n_clusters=len(small_index_list),affinity=\"precomputed\").fit(distanceMatrix)\n",
    "pred = clustering.labels_\n",
    "_, cm, purity = get_purity(pred, small_num_labels)\n",
    "nmi = get_nmi(pred, small_num_labels)\n",
    "plot_confusion_matrix(cm, small_index_list, normalize=False, rotation=90, figsize=(9, 9))"
   ]
  },
  {
   "cell_type": "code",
   "execution_count": null,
   "metadata": {},
   "outputs": [],
   "source": []
  }
 ],
 "metadata": {
  "kernelspec": {
   "display_name": "Python 3",
   "language": "python",
   "name": "python3"
  },
  "language_info": {
   "codemirror_mode": {
    "name": "ipython",
    "version": 3
   },
   "file_extension": ".py",
   "mimetype": "text/x-python",
   "name": "python",
   "nbconvert_exporter": "python",
   "pygments_lexer": "ipython3",
   "version": "3.7.0"
  }
 },
 "nbformat": 4,
 "nbformat_minor": 2
}
