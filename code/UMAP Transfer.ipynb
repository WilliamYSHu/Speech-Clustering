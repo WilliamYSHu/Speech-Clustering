{
 "cells": [
  {
   "cell_type": "code",
   "execution_count": 1,
   "metadata": {},
   "outputs": [],
   "source": [
    "from __future__ import print_function\n",
    "%matplotlib inline\n",
    "import utils\n",
    "import numpy as np\n",
    "from matplotlib import pyplot as plt\n",
    "from sklearn.cluster import SpectralClustering\n",
    "from scipy.spatial.distance import cosine, euclidean\n",
    "from numpy.random import permutation as rpm\n",
    "from plot import plot_images, plot_confusion_matrix\n",
    "from utils import resize, sample_index, gen_solution, get_purity, get_nmi\n",
    "from time import time\n",
    "import json\n",
    "import csv\n",
    "import itertools\n",
    "import sys\n",
    "\n"
   ]
  },
  {
   "cell_type": "code",
   "execution_count": 3,
   "metadata": {},
   "outputs": [],
   "source": [
    "json1_file = open('../data/pad_swbd_train_.json')\n",
    "json1_str = json1_file.read()\n",
    "train_data = json.loads(json1_str)\n",
    "\n",
    "json1_file = open('../data/pad_swbd_dev_.json')\n",
    "json1_str = json1_file.read()\n",
    "dev_data = json.loads(json1_str)\n",
    "\n",
    "json1_file = open('../data/pad_swbd_test_.json')\n",
    "json1_str = json1_file.read()\n",
    "test_data = json.loads(json1_str)\n",
    "\n"
   ]
  },
  {
   "cell_type": "code",
   "execution_count": 22,
   "metadata": {},
   "outputs": [],
   "source": [
    "# part of json data for ram\n",
    "json1_data = train_data[\"data\"] + dev_data[\"data\"] + test_data[\"data\"]"
   ]
  },
  {
   "cell_type": "code",
   "execution_count": 21,
   "metadata": {},
   "outputs": [],
   "source": [
    "n_train = len(train_data[\"data\"])\n",
    "n_dev = len(dev_data[\"data\"] )\n",
    "n_test = len(test_data[\"data\"])"
   ]
  },
  {
   "cell_type": "code",
   "execution_count": 19,
   "metadata": {},
   "outputs": [],
   "source": [
    "import umap\n",
    "\n",
    "umap_dim = 20\n",
    "n_data = len(json1_data)\n",
    "n_feature = len(json1_data[0])\n",
    "\n",
    "dataMatrix = np.zeros(n_data,n_feature)\n",
    "\n",
    "embedding = umap.UMAP(\n",
    "    n_neighbors=30,\n",
    "    min_dist=0.0,\n",
    "    n_components=umap_dim,\n",
    "    random_state=42,\n",
    "    ).fit_transform(dataMatrix)\n",
    "\n",
    "np.save('umap_emb_' + str(umap_dim) + '.npy', embedding)"
   ]
  }
 ],
 "metadata": {
  "kernelspec": {
   "display_name": "Python 3",
   "language": "python",
   "name": "python3"
  },
  "language_info": {
   "codemirror_mode": {
    "name": "ipython",
    "version": 3
   },
   "file_extension": ".py",
   "mimetype": "text/x-python",
   "name": "python",
   "nbconvert_exporter": "python",
   "pygments_lexer": "ipython3",
   "version": "3.6.7"
  }
 },
 "nbformat": 4,
 "nbformat_minor": 2
}
